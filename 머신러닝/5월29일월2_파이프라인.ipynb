{
  "nbformat": 4,
  "nbformat_minor": 0,
  "metadata": {
    "colab": {
      "provenance": []
    },
    "kernelspec": {
      "name": "python3",
      "display_name": "Python 3"
    },
    "language_info": {
      "name": "python"
    },
    "widgets": {
      "application/vnd.jupyter.widget-state+json": {
        "7c6a0e753b6147688a9b2cbd5c06b398": {
          "model_module": "@jupyter-widgets/controls",
          "model_name": "HBoxModel",
          "model_module_version": "1.5.0",
          "state": {
            "_dom_classes": [],
            "_model_module": "@jupyter-widgets/controls",
            "_model_module_version": "1.5.0",
            "_model_name": "HBoxModel",
            "_view_count": null,
            "_view_module": "@jupyter-widgets/controls",
            "_view_module_version": "1.5.0",
            "_view_name": "HBoxView",
            "box_style": "",
            "children": [
              "IPY_MODEL_59660aa047454efdac3076645e035553",
              "IPY_MODEL_28eda963081c44088e493856e1bba81c",
              "IPY_MODEL_02f6b3eea7c04797a2fe8aca7e804993"
            ],
            "layout": "IPY_MODEL_4214071a21114b8b80d122709de01249"
          }
        },
        "59660aa047454efdac3076645e035553": {
          "model_module": "@jupyter-widgets/controls",
          "model_name": "HTMLModel",
          "model_module_version": "1.5.0",
          "state": {
            "_dom_classes": [],
            "_model_module": "@jupyter-widgets/controls",
            "_model_module_version": "1.5.0",
            "_model_name": "HTMLModel",
            "_view_count": null,
            "_view_module": "@jupyter-widgets/controls",
            "_view_module_version": "1.5.0",
            "_view_name": "HTMLView",
            "description": "",
            "description_tooltip": null,
            "layout": "IPY_MODEL_18a04c04230d4253b4c52d98e68ec18b",
            "placeholder": "​",
            "style": "IPY_MODEL_96d257d8e75049de8435cbf763a7769b",
            "value": "Processing: 100%"
          }
        },
        "28eda963081c44088e493856e1bba81c": {
          "model_module": "@jupyter-widgets/controls",
          "model_name": "FloatProgressModel",
          "model_module_version": "1.5.0",
          "state": {
            "_dom_classes": [],
            "_model_module": "@jupyter-widgets/controls",
            "_model_module_version": "1.5.0",
            "_model_name": "FloatProgressModel",
            "_view_count": null,
            "_view_module": "@jupyter-widgets/controls",
            "_view_module_version": "1.5.0",
            "_view_name": "ProgressView",
            "bar_style": "",
            "description": "",
            "description_tooltip": null,
            "layout": "IPY_MODEL_8a5b852c555349c9adfadb3c2ab22072",
            "max": 69,
            "min": 0,
            "orientation": "horizontal",
            "style": "IPY_MODEL_aac027ded256459ca0e4c303e02b0549",
            "value": 69
          }
        },
        "02f6b3eea7c04797a2fe8aca7e804993": {
          "model_module": "@jupyter-widgets/controls",
          "model_name": "HTMLModel",
          "model_module_version": "1.5.0",
          "state": {
            "_dom_classes": [],
            "_model_module": "@jupyter-widgets/controls",
            "_model_module_version": "1.5.0",
            "_model_name": "HTMLModel",
            "_view_count": null,
            "_view_module": "@jupyter-widgets/controls",
            "_view_module_version": "1.5.0",
            "_view_name": "HTMLView",
            "description": "",
            "description_tooltip": null,
            "layout": "IPY_MODEL_323cad0f85f94ae181ef7511a9a18496",
            "placeholder": "​",
            "style": "IPY_MODEL_9a61a7bb814d4102ae03ed7051ef4bc0",
            "value": " 69/69 [00:27&lt;00:00,  3.33it/s]"
          }
        },
        "4214071a21114b8b80d122709de01249": {
          "model_module": "@jupyter-widgets/base",
          "model_name": "LayoutModel",
          "model_module_version": "1.2.0",
          "state": {
            "_model_module": "@jupyter-widgets/base",
            "_model_module_version": "1.2.0",
            "_model_name": "LayoutModel",
            "_view_count": null,
            "_view_module": "@jupyter-widgets/base",
            "_view_module_version": "1.2.0",
            "_view_name": "LayoutView",
            "align_content": null,
            "align_items": null,
            "align_self": null,
            "border": null,
            "bottom": null,
            "display": null,
            "flex": null,
            "flex_flow": null,
            "grid_area": null,
            "grid_auto_columns": null,
            "grid_auto_flow": null,
            "grid_auto_rows": null,
            "grid_column": null,
            "grid_gap": null,
            "grid_row": null,
            "grid_template_areas": null,
            "grid_template_columns": null,
            "grid_template_rows": null,
            "height": null,
            "justify_content": null,
            "justify_items": null,
            "left": null,
            "margin": null,
            "max_height": null,
            "max_width": null,
            "min_height": null,
            "min_width": null,
            "object_fit": null,
            "object_position": null,
            "order": null,
            "overflow": null,
            "overflow_x": null,
            "overflow_y": null,
            "padding": null,
            "right": null,
            "top": null,
            "visibility": "hidden",
            "width": null
          }
        },
        "18a04c04230d4253b4c52d98e68ec18b": {
          "model_module": "@jupyter-widgets/base",
          "model_name": "LayoutModel",
          "model_module_version": "1.2.0",
          "state": {
            "_model_module": "@jupyter-widgets/base",
            "_model_module_version": "1.2.0",
            "_model_name": "LayoutModel",
            "_view_count": null,
            "_view_module": "@jupyter-widgets/base",
            "_view_module_version": "1.2.0",
            "_view_name": "LayoutView",
            "align_content": null,
            "align_items": null,
            "align_self": null,
            "border": null,
            "bottom": null,
            "display": null,
            "flex": null,
            "flex_flow": null,
            "grid_area": null,
            "grid_auto_columns": null,
            "grid_auto_flow": null,
            "grid_auto_rows": null,
            "grid_column": null,
            "grid_gap": null,
            "grid_row": null,
            "grid_template_areas": null,
            "grid_template_columns": null,
            "grid_template_rows": null,
            "height": null,
            "justify_content": null,
            "justify_items": null,
            "left": null,
            "margin": null,
            "max_height": null,
            "max_width": null,
            "min_height": null,
            "min_width": null,
            "object_fit": null,
            "object_position": null,
            "order": null,
            "overflow": null,
            "overflow_x": null,
            "overflow_y": null,
            "padding": null,
            "right": null,
            "top": null,
            "visibility": null,
            "width": null
          }
        },
        "96d257d8e75049de8435cbf763a7769b": {
          "model_module": "@jupyter-widgets/controls",
          "model_name": "DescriptionStyleModel",
          "model_module_version": "1.5.0",
          "state": {
            "_model_module": "@jupyter-widgets/controls",
            "_model_module_version": "1.5.0",
            "_model_name": "DescriptionStyleModel",
            "_view_count": null,
            "_view_module": "@jupyter-widgets/base",
            "_view_module_version": "1.2.0",
            "_view_name": "StyleView",
            "description_width": ""
          }
        },
        "8a5b852c555349c9adfadb3c2ab22072": {
          "model_module": "@jupyter-widgets/base",
          "model_name": "LayoutModel",
          "model_module_version": "1.2.0",
          "state": {
            "_model_module": "@jupyter-widgets/base",
            "_model_module_version": "1.2.0",
            "_model_name": "LayoutModel",
            "_view_count": null,
            "_view_module": "@jupyter-widgets/base",
            "_view_module_version": "1.2.0",
            "_view_name": "LayoutView",
            "align_content": null,
            "align_items": null,
            "align_self": null,
            "border": null,
            "bottom": null,
            "display": null,
            "flex": null,
            "flex_flow": null,
            "grid_area": null,
            "grid_auto_columns": null,
            "grid_auto_flow": null,
            "grid_auto_rows": null,
            "grid_column": null,
            "grid_gap": null,
            "grid_row": null,
            "grid_template_areas": null,
            "grid_template_columns": null,
            "grid_template_rows": null,
            "height": null,
            "justify_content": null,
            "justify_items": null,
            "left": null,
            "margin": null,
            "max_height": null,
            "max_width": null,
            "min_height": null,
            "min_width": null,
            "object_fit": null,
            "object_position": null,
            "order": null,
            "overflow": null,
            "overflow_x": null,
            "overflow_y": null,
            "padding": null,
            "right": null,
            "top": null,
            "visibility": null,
            "width": null
          }
        },
        "aac027ded256459ca0e4c303e02b0549": {
          "model_module": "@jupyter-widgets/controls",
          "model_name": "ProgressStyleModel",
          "model_module_version": "1.5.0",
          "state": {
            "_model_module": "@jupyter-widgets/controls",
            "_model_module_version": "1.5.0",
            "_model_name": "ProgressStyleModel",
            "_view_count": null,
            "_view_module": "@jupyter-widgets/base",
            "_view_module_version": "1.2.0",
            "_view_name": "StyleView",
            "bar_color": null,
            "description_width": ""
          }
        },
        "323cad0f85f94ae181ef7511a9a18496": {
          "model_module": "@jupyter-widgets/base",
          "model_name": "LayoutModel",
          "model_module_version": "1.2.0",
          "state": {
            "_model_module": "@jupyter-widgets/base",
            "_model_module_version": "1.2.0",
            "_model_name": "LayoutModel",
            "_view_count": null,
            "_view_module": "@jupyter-widgets/base",
            "_view_module_version": "1.2.0",
            "_view_name": "LayoutView",
            "align_content": null,
            "align_items": null,
            "align_self": null,
            "border": null,
            "bottom": null,
            "display": null,
            "flex": null,
            "flex_flow": null,
            "grid_area": null,
            "grid_auto_columns": null,
            "grid_auto_flow": null,
            "grid_auto_rows": null,
            "grid_column": null,
            "grid_gap": null,
            "grid_row": null,
            "grid_template_areas": null,
            "grid_template_columns": null,
            "grid_template_rows": null,
            "height": null,
            "justify_content": null,
            "justify_items": null,
            "left": null,
            "margin": null,
            "max_height": null,
            "max_width": null,
            "min_height": null,
            "min_width": null,
            "object_fit": null,
            "object_position": null,
            "order": null,
            "overflow": null,
            "overflow_x": null,
            "overflow_y": null,
            "padding": null,
            "right": null,
            "top": null,
            "visibility": null,
            "width": null
          }
        },
        "9a61a7bb814d4102ae03ed7051ef4bc0": {
          "model_module": "@jupyter-widgets/controls",
          "model_name": "DescriptionStyleModel",
          "model_module_version": "1.5.0",
          "state": {
            "_model_module": "@jupyter-widgets/controls",
            "_model_module_version": "1.5.0",
            "_model_name": "DescriptionStyleModel",
            "_view_count": null,
            "_view_module": "@jupyter-widgets/base",
            "_view_module_version": "1.2.0",
            "_view_name": "StyleView",
            "description_width": ""
          }
        }
      }
    }
  },
  "cells": [
    {
      "cell_type": "code",
      "execution_count": null,
      "metadata": {
        "id": "6O3LB7povS0c"
      },
      "outputs": [],
      "source": [
        "# 여러개의 머신러닝을 가지고 평가할 수 있는 것들."
      ]
    },
    {
      "cell_type": "code",
      "source": [
        "from sklearn.datasets import load_iris\n",
        "from sklearn.model_selection import train_test_split\n",
        "from sklearn.preprocessing import StandardScaler\n",
        "from sklearn.pipeline import Pipeline\n",
        "# 평가할 머신러닝 모델을 선정\n",
        "from sklearn.linear_model import LogisticRegression\n",
        "from sklearn.tree import DecisionTreeClassifier\n",
        "from sklearn.linear_model import SGDClassifier\n",
        "import numpy as np"
      ],
      "metadata": {
        "id": "Hx91VYIq6pnL"
      },
      "execution_count": 19,
      "outputs": []
    },
    {
      "cell_type": "code",
      "source": [
        "iris = load_iris()\n",
        "x = iris.data\n",
        "y = iris.target"
      ],
      "metadata": {
        "id": "ZDaz5x5e7Stz"
      },
      "execution_count": 5,
      "outputs": []
    },
    {
      "cell_type": "code",
      "source": [
        "x_train,x_test,y_train,y_test = train_test_split(x,y,random_state=100)"
      ],
      "metadata": {
        "id": "H25kGRkA7YB_"
      },
      "execution_count": 6,
      "outputs": []
    },
    {
      "cell_type": "code",
      "source": [
        "# 5번 실행해서 평균 성능을 취득하는 것. 교차검증\n",
        "from sklearn.model_selection import cross_validate"
      ],
      "metadata": {
        "id": "pOE0bGCv8rij"
      },
      "execution_count": 17,
      "outputs": []
    },
    {
      "cell_type": "code",
      "source": [
        "pipeline=Pipeline([\n",
        "    ('scaler',StandardScaler()),\n",
        "    ('LogisticRegression',LogisticRegression())\n",
        "])\n",
        "scores = cross_validate(pipeline,x_train,y_train,n_jobs=-1)\n",
        "# pipeline.fit(x_train,y_train)\n",
        "np.mean(scores['test_score'])"
      ],
      "metadata": {
        "colab": {
          "base_uri": "https://localhost:8080/"
        },
        "id": "LJEQavUb7hrY",
        "outputId": "1fdb74df-fa07-4a06-af76-5248b066b23c"
      },
      "execution_count": 38,
      "outputs": [
        {
          "output_type": "execute_result",
          "data": {
            "text/plain": [
              "0.9470355731225297"
            ]
          },
          "metadata": {},
          "execution_count": 38
        }
      ]
    },
    {
      "cell_type": "code",
      "source": [
        "pipeline.score(x_test,y_test)"
      ],
      "metadata": {
        "colab": {
          "base_uri": "https://localhost:8080/"
        },
        "id": "ujTDF_Hc8NNK",
        "outputId": "0302d41f-5d6c-4a75-bfb4-8d0ce7b71dee"
      },
      "execution_count": 13,
      "outputs": [
        {
          "output_type": "execute_result",
          "data": {
            "text/plain": [
              "0.9473684210526315"
            ]
          },
          "metadata": {},
          "execution_count": 13
        }
      ]
    },
    {
      "cell_type": "code",
      "source": [
        "#1 pipline을 이용해 전처리부터 -> 모델학습하는 과정까지 일괄처리 가능!\n",
        "#2 교차검증을 통해 우연히 좋은 성능을 발휘하는 모델을 방지하기 위해 교차검증함.\n",
        "# 1번과 2번의 과정을 지정한 머신러닝 모델에 대해 각각적용하고 가장 최상의 모델을 선택한다."
      ],
      "metadata": {
        "id": "0ZpUUs_x9orl"
      },
      "execution_count": null,
      "outputs": []
    },
    {
      "cell_type": "code",
      "source": [
        "# 1. pipline을 이용해서 전처리부터->모델학습하는 과정까지 일괄처리\n",
        "# 2. 교차검증을 통해 우연히 좋은 성능을 발위하는 모델을 방지\n",
        "# 1번과 2번의 과정을 지정한 머신러닝 모델에대해 각각 적용하고 가장 최상의 모델을 선택\n",
        "score_list = []\n",
        "for model in [LogisticRegression(), DecisionTreeClassifier(), SGDClassifier()]:\n",
        "  pipeline = Pipeline([\n",
        "    ('scaler',StandardScaler()),\n",
        "    ('classifier',model)    \n",
        "  ])\n",
        "  scores = cross_validate(pipeline,x_train,y_train,n_jobs=-1)\n",
        "  m = np.mean(scores[\"test_score\"])\n",
        "  score_list.append(m)\n",
        "  print(f'model : {model} mean test score : {m}')\n"
      ],
      "metadata": {
        "colab": {
          "base_uri": "https://localhost:8080/"
        },
        "id": "uqk10Nf_-_24",
        "outputId": "a6282be4-2b12-4e5a-e8f7-7ce19daf82a3"
      },
      "execution_count": 21,
      "outputs": [
        {
          "output_type": "stream",
          "name": "stdout",
          "text": [
            "model : LogisticRegression() mean test score : 0.9470355731225297\n",
            "model : DecisionTreeClassifier() mean test score : 0.9644268774703558\n",
            "model : SGDClassifier() mean test score : 0.9466403162055336\n"
          ]
        }
      ]
    },
    {
      "cell_type": "code",
      "source": [
        "# 최상의 모델을 선택한 후... 하이퍼 파라메터 튜닝을 통해 다시 최상의 점수를 획득\n",
        "# 이렇게 해도 별로 나아지거나 향상된 기미가 안 보일 때는\n",
        "# 처음 데이터 수집 및 처리과정을 다시 한 번 검토(피처 엔지니어링을 통해)\n",
        "\n",
        "# 피처 엔지니어링\n",
        "# p_value, VIF 계수 확인을 통한 적절한 feature만 골라서 다시 학습.\n",
        "# 도메인지식을 활용\n",
        "# 트리계열 머신러닝을 먼저 적용해서. feature 선택\n",
        "# 범주형 데이터 one hot 표현하고, 기존 컬럼을 분석해서 새로운 컬럼을 도출... 나이...(연속된 데이터)-> 범주형 데이터로 새로 생성.\n",
        "\n",
        "# 기존에 없는 모델이나 라이브러리를 각종 논문이나, 대회 및 기타등등 찾아내서 적용."
      ],
      "metadata": {
        "id": "6VaIzYKN_BKv"
      },
      "execution_count": null,
      "outputs": []
    },
    {
      "cell_type": "markdown",
      "source": [
        "AutoML\n",
        "  사이킷런 계열 : TPOT"
      ],
      "metadata": {
        "id": "FQw066a4BCGM"
      }
    },
    {
      "cell_type": "code",
      "source": [
        "!pip install tpot"
      ],
      "metadata": {
        "id": "SJdL7ru6BCjV"
      },
      "execution_count": null,
      "outputs": []
    },
    {
      "cell_type": "code",
      "source": [
        "from tpot import TPOTClassifier\n",
        "automl = TPOTClassifier(generations=10)\n",
        "automl.fit(x_train,y_train)"
      ],
      "metadata": {
        "colab": {
          "base_uri": "https://localhost:8080/",
          "height": 75
        },
        "id": "apFo5m3VBFCP",
        "outputId": "9610bbc3-2643-4f7d-cef2-20db6bbad9ba"
      },
      "execution_count": 24,
      "outputs": [
        {
          "output_type": "execute_result",
          "data": {
            "text/plain": [
              "TPOTClassifier(generations=10)"
            ],
            "text/html": [
              "<style>#sk-container-id-3 {color: black;background-color: white;}#sk-container-id-3 pre{padding: 0;}#sk-container-id-3 div.sk-toggleable {background-color: white;}#sk-container-id-3 label.sk-toggleable__label {cursor: pointer;display: block;width: 100%;margin-bottom: 0;padding: 0.3em;box-sizing: border-box;text-align: center;}#sk-container-id-3 label.sk-toggleable__label-arrow:before {content: \"▸\";float: left;margin-right: 0.25em;color: #696969;}#sk-container-id-3 label.sk-toggleable__label-arrow:hover:before {color: black;}#sk-container-id-3 div.sk-estimator:hover label.sk-toggleable__label-arrow:before {color: black;}#sk-container-id-3 div.sk-toggleable__content {max-height: 0;max-width: 0;overflow: hidden;text-align: left;background-color: #f0f8ff;}#sk-container-id-3 div.sk-toggleable__content pre {margin: 0.2em;color: black;border-radius: 0.25em;background-color: #f0f8ff;}#sk-container-id-3 input.sk-toggleable__control:checked~div.sk-toggleable__content {max-height: 200px;max-width: 100%;overflow: auto;}#sk-container-id-3 input.sk-toggleable__control:checked~label.sk-toggleable__label-arrow:before {content: \"▾\";}#sk-container-id-3 div.sk-estimator input.sk-toggleable__control:checked~label.sk-toggleable__label {background-color: #d4ebff;}#sk-container-id-3 div.sk-label input.sk-toggleable__control:checked~label.sk-toggleable__label {background-color: #d4ebff;}#sk-container-id-3 input.sk-hidden--visually {border: 0;clip: rect(1px 1px 1px 1px);clip: rect(1px, 1px, 1px, 1px);height: 1px;margin: -1px;overflow: hidden;padding: 0;position: absolute;width: 1px;}#sk-container-id-3 div.sk-estimator {font-family: monospace;background-color: #f0f8ff;border: 1px dotted black;border-radius: 0.25em;box-sizing: border-box;margin-bottom: 0.5em;}#sk-container-id-3 div.sk-estimator:hover {background-color: #d4ebff;}#sk-container-id-3 div.sk-parallel-item::after {content: \"\";width: 100%;border-bottom: 1px solid gray;flex-grow: 1;}#sk-container-id-3 div.sk-label:hover label.sk-toggleable__label {background-color: #d4ebff;}#sk-container-id-3 div.sk-serial::before {content: \"\";position: absolute;border-left: 1px solid gray;box-sizing: border-box;top: 0;bottom: 0;left: 50%;z-index: 0;}#sk-container-id-3 div.sk-serial {display: flex;flex-direction: column;align-items: center;background-color: white;padding-right: 0.2em;padding-left: 0.2em;position: relative;}#sk-container-id-3 div.sk-item {position: relative;z-index: 1;}#sk-container-id-3 div.sk-parallel {display: flex;align-items: stretch;justify-content: center;background-color: white;position: relative;}#sk-container-id-3 div.sk-item::before, #sk-container-id-3 div.sk-parallel-item::before {content: \"\";position: absolute;border-left: 1px solid gray;box-sizing: border-box;top: 0;bottom: 0;left: 50%;z-index: -1;}#sk-container-id-3 div.sk-parallel-item {display: flex;flex-direction: column;z-index: 1;position: relative;background-color: white;}#sk-container-id-3 div.sk-parallel-item:first-child::after {align-self: flex-end;width: 50%;}#sk-container-id-3 div.sk-parallel-item:last-child::after {align-self: flex-start;width: 50%;}#sk-container-id-3 div.sk-parallel-item:only-child::after {width: 0;}#sk-container-id-3 div.sk-dashed-wrapped {border: 1px dashed gray;margin: 0 0.4em 0.5em 0.4em;box-sizing: border-box;padding-bottom: 0.4em;background-color: white;}#sk-container-id-3 div.sk-label label {font-family: monospace;font-weight: bold;display: inline-block;line-height: 1.2em;}#sk-container-id-3 div.sk-label-container {text-align: center;}#sk-container-id-3 div.sk-container {/* jupyter's `normalize.less` sets `[hidden] { display: none; }` but bootstrap.min.css set `[hidden] { display: none !important; }` so we also need the `!important` here to be able to override the default hidden behavior on the sphinx rendered scikit-learn.org. See: https://github.com/scikit-learn/scikit-learn/issues/21755 */display: inline-block !important;position: relative;}#sk-container-id-3 div.sk-text-repr-fallback {display: none;}</style><div id=\"sk-container-id-3\" class=\"sk-top-container\"><div class=\"sk-text-repr-fallback\"><pre>TPOTClassifier(generations=10)</pre><b>In a Jupyter environment, please rerun this cell to show the HTML representation or trust the notebook. <br />On GitHub, the HTML representation is unable to render, please try loading this page with nbviewer.org.</b></div><div class=\"sk-container\" hidden><div class=\"sk-item\"><div class=\"sk-estimator sk-toggleable\"><input class=\"sk-toggleable__control sk-hidden--visually\" id=\"sk-estimator-id-5\" type=\"checkbox\" checked><label for=\"sk-estimator-id-5\" class=\"sk-toggleable__label sk-toggleable__label-arrow\">TPOTClassifier</label><div class=\"sk-toggleable__content\"><pre>TPOTClassifier(generations=10)</pre></div></div></div></div></div>"
            ]
          },
          "metadata": {},
          "execution_count": 24
        }
      ]
    },
    {
      "cell_type": "markdown",
      "source": [
        "타 계열의 AutoML\n",
        "  pycaret"
      ],
      "metadata": {
        "id": "yT69K-1zDJm6"
      }
    },
    {
      "cell_type": "code",
      "source": [
        "!pip install pycaret"
      ],
      "metadata": {
        "id": "5veXEpv4DNgK"
      },
      "execution_count": null,
      "outputs": []
    },
    {
      "cell_type": "code",
      "source": [
        "from pycaret import classification\n",
        "classification.setup(data=x_train, target = y_train)"
      ],
      "metadata": {
        "colab": {
          "base_uri": "https://localhost:8080/",
          "height": 664
        },
        "id": "NkynSKM1DZpm",
        "outputId": "a343a91e-a3a5-402c-92fd-12507cc3fd7e"
      },
      "execution_count": 26,
      "outputs": [
        {
          "output_type": "display_data",
          "data": {
            "text/plain": [
              "<pandas.io.formats.style.Styler at 0x7f529ab47700>"
            ],
            "text/html": [
              "<style type=\"text/css\">\n",
              "#T_8cd77_row8_col1 {\n",
              "  background-color: lightgreen;\n",
              "}\n",
              "</style>\n",
              "<table id=\"T_8cd77\" class=\"dataframe\">\n",
              "  <thead>\n",
              "    <tr>\n",
              "      <th class=\"blank level0\" >&nbsp;</th>\n",
              "      <th id=\"T_8cd77_level0_col0\" class=\"col_heading level0 col0\" >Description</th>\n",
              "      <th id=\"T_8cd77_level0_col1\" class=\"col_heading level0 col1\" >Value</th>\n",
              "    </tr>\n",
              "  </thead>\n",
              "  <tbody>\n",
              "    <tr>\n",
              "      <th id=\"T_8cd77_level0_row0\" class=\"row_heading level0 row0\" >0</th>\n",
              "      <td id=\"T_8cd77_row0_col0\" class=\"data row0 col0\" >Session id</td>\n",
              "      <td id=\"T_8cd77_row0_col1\" class=\"data row0 col1\" >8343</td>\n",
              "    </tr>\n",
              "    <tr>\n",
              "      <th id=\"T_8cd77_level0_row1\" class=\"row_heading level0 row1\" >1</th>\n",
              "      <td id=\"T_8cd77_row1_col0\" class=\"data row1 col0\" >Target</td>\n",
              "      <td id=\"T_8cd77_row1_col1\" class=\"data row1 col1\" >target</td>\n",
              "    </tr>\n",
              "    <tr>\n",
              "      <th id=\"T_8cd77_level0_row2\" class=\"row_heading level0 row2\" >2</th>\n",
              "      <td id=\"T_8cd77_row2_col0\" class=\"data row2 col0\" >Target type</td>\n",
              "      <td id=\"T_8cd77_row2_col1\" class=\"data row2 col1\" >Multiclass</td>\n",
              "    </tr>\n",
              "    <tr>\n",
              "      <th id=\"T_8cd77_level0_row3\" class=\"row_heading level0 row3\" >3</th>\n",
              "      <td id=\"T_8cd77_row3_col0\" class=\"data row3 col0\" >Original data shape</td>\n",
              "      <td id=\"T_8cd77_row3_col1\" class=\"data row3 col1\" >(112, 5)</td>\n",
              "    </tr>\n",
              "    <tr>\n",
              "      <th id=\"T_8cd77_level0_row4\" class=\"row_heading level0 row4\" >4</th>\n",
              "      <td id=\"T_8cd77_row4_col0\" class=\"data row4 col0\" >Transformed data shape</td>\n",
              "      <td id=\"T_8cd77_row4_col1\" class=\"data row4 col1\" >(112, 5)</td>\n",
              "    </tr>\n",
              "    <tr>\n",
              "      <th id=\"T_8cd77_level0_row5\" class=\"row_heading level0 row5\" >5</th>\n",
              "      <td id=\"T_8cd77_row5_col0\" class=\"data row5 col0\" >Transformed train set shape</td>\n",
              "      <td id=\"T_8cd77_row5_col1\" class=\"data row5 col1\" >(78, 5)</td>\n",
              "    </tr>\n",
              "    <tr>\n",
              "      <th id=\"T_8cd77_level0_row6\" class=\"row_heading level0 row6\" >6</th>\n",
              "      <td id=\"T_8cd77_row6_col0\" class=\"data row6 col0\" >Transformed test set shape</td>\n",
              "      <td id=\"T_8cd77_row6_col1\" class=\"data row6 col1\" >(34, 5)</td>\n",
              "    </tr>\n",
              "    <tr>\n",
              "      <th id=\"T_8cd77_level0_row7\" class=\"row_heading level0 row7\" >7</th>\n",
              "      <td id=\"T_8cd77_row7_col0\" class=\"data row7 col0\" >Numeric features</td>\n",
              "      <td id=\"T_8cd77_row7_col1\" class=\"data row7 col1\" >4</td>\n",
              "    </tr>\n",
              "    <tr>\n",
              "      <th id=\"T_8cd77_level0_row8\" class=\"row_heading level0 row8\" >8</th>\n",
              "      <td id=\"T_8cd77_row8_col0\" class=\"data row8 col0\" >Preprocess</td>\n",
              "      <td id=\"T_8cd77_row8_col1\" class=\"data row8 col1\" >True</td>\n",
              "    </tr>\n",
              "    <tr>\n",
              "      <th id=\"T_8cd77_level0_row9\" class=\"row_heading level0 row9\" >9</th>\n",
              "      <td id=\"T_8cd77_row9_col0\" class=\"data row9 col0\" >Imputation type</td>\n",
              "      <td id=\"T_8cd77_row9_col1\" class=\"data row9 col1\" >simple</td>\n",
              "    </tr>\n",
              "    <tr>\n",
              "      <th id=\"T_8cd77_level0_row10\" class=\"row_heading level0 row10\" >10</th>\n",
              "      <td id=\"T_8cd77_row10_col0\" class=\"data row10 col0\" >Numeric imputation</td>\n",
              "      <td id=\"T_8cd77_row10_col1\" class=\"data row10 col1\" >mean</td>\n",
              "    </tr>\n",
              "    <tr>\n",
              "      <th id=\"T_8cd77_level0_row11\" class=\"row_heading level0 row11\" >11</th>\n",
              "      <td id=\"T_8cd77_row11_col0\" class=\"data row11 col0\" >Categorical imputation</td>\n",
              "      <td id=\"T_8cd77_row11_col1\" class=\"data row11 col1\" >mode</td>\n",
              "    </tr>\n",
              "    <tr>\n",
              "      <th id=\"T_8cd77_level0_row12\" class=\"row_heading level0 row12\" >12</th>\n",
              "      <td id=\"T_8cd77_row12_col0\" class=\"data row12 col0\" >Fold Generator</td>\n",
              "      <td id=\"T_8cd77_row12_col1\" class=\"data row12 col1\" >StratifiedKFold</td>\n",
              "    </tr>\n",
              "    <tr>\n",
              "      <th id=\"T_8cd77_level0_row13\" class=\"row_heading level0 row13\" >13</th>\n",
              "      <td id=\"T_8cd77_row13_col0\" class=\"data row13 col0\" >Fold Number</td>\n",
              "      <td id=\"T_8cd77_row13_col1\" class=\"data row13 col1\" >10</td>\n",
              "    </tr>\n",
              "    <tr>\n",
              "      <th id=\"T_8cd77_level0_row14\" class=\"row_heading level0 row14\" >14</th>\n",
              "      <td id=\"T_8cd77_row14_col0\" class=\"data row14 col0\" >CPU Jobs</td>\n",
              "      <td id=\"T_8cd77_row14_col1\" class=\"data row14 col1\" >-1</td>\n",
              "    </tr>\n",
              "    <tr>\n",
              "      <th id=\"T_8cd77_level0_row15\" class=\"row_heading level0 row15\" >15</th>\n",
              "      <td id=\"T_8cd77_row15_col0\" class=\"data row15 col0\" >Use GPU</td>\n",
              "      <td id=\"T_8cd77_row15_col1\" class=\"data row15 col1\" >False</td>\n",
              "    </tr>\n",
              "    <tr>\n",
              "      <th id=\"T_8cd77_level0_row16\" class=\"row_heading level0 row16\" >16</th>\n",
              "      <td id=\"T_8cd77_row16_col0\" class=\"data row16 col0\" >Log Experiment</td>\n",
              "      <td id=\"T_8cd77_row16_col1\" class=\"data row16 col1\" >False</td>\n",
              "    </tr>\n",
              "    <tr>\n",
              "      <th id=\"T_8cd77_level0_row17\" class=\"row_heading level0 row17\" >17</th>\n",
              "      <td id=\"T_8cd77_row17_col0\" class=\"data row17 col0\" >Experiment Name</td>\n",
              "      <td id=\"T_8cd77_row17_col1\" class=\"data row17 col1\" >clf-default-name</td>\n",
              "    </tr>\n",
              "    <tr>\n",
              "      <th id=\"T_8cd77_level0_row18\" class=\"row_heading level0 row18\" >18</th>\n",
              "      <td id=\"T_8cd77_row18_col0\" class=\"data row18 col0\" >USI</td>\n",
              "      <td id=\"T_8cd77_row18_col1\" class=\"data row18 col1\" >acd0</td>\n",
              "    </tr>\n",
              "  </tbody>\n",
              "</table>\n"
            ]
          },
          "metadata": {}
        },
        {
          "output_type": "execute_result",
          "data": {
            "text/plain": [
              "<pycaret.classification.oop.ClassificationExperiment at 0x7f52ac603d00>"
            ]
          },
          "metadata": {},
          "execution_count": 26
        }
      ]
    },
    {
      "cell_type": "code",
      "source": [
        "best= classification.compare_models(n_select=5)"
      ],
      "metadata": {
        "colab": {
          "base_uri": "https://localhost:8080/",
          "height": 520,
          "referenced_widgets": [
            "7c6a0e753b6147688a9b2cbd5c06b398",
            "59660aa047454efdac3076645e035553",
            "28eda963081c44088e493856e1bba81c",
            "02f6b3eea7c04797a2fe8aca7e804993",
            "4214071a21114b8b80d122709de01249",
            "18a04c04230d4253b4c52d98e68ec18b",
            "96d257d8e75049de8435cbf763a7769b",
            "8a5b852c555349c9adfadb3c2ab22072",
            "aac027ded256459ca0e4c303e02b0549",
            "323cad0f85f94ae181ef7511a9a18496",
            "9a61a7bb814d4102ae03ed7051ef4bc0"
          ]
        },
        "id": "l-wtW3qJDqiH",
        "outputId": "5f36a041-dfe2-4bde-e8a2-7765f81cfb03"
      },
      "execution_count": 29,
      "outputs": [
        {
          "output_type": "display_data",
          "data": {
            "text/plain": [
              "<IPython.core.display.HTML object>"
            ],
            "text/html": []
          },
          "metadata": {}
        },
        {
          "output_type": "display_data",
          "data": {
            "text/plain": [
              "<pandas.io.formats.style.Styler at 0x7f529aa72230>"
            ],
            "text/html": [
              "<style type=\"text/css\">\n",
              "#T_eb137 th {\n",
              "  text-align: left;\n",
              "}\n",
              "#T_eb137_row0_col0, #T_eb137_row1_col0, #T_eb137_row1_col2, #T_eb137_row2_col0, #T_eb137_row2_col1, #T_eb137_row2_col2, #T_eb137_row2_col3, #T_eb137_row2_col4, #T_eb137_row2_col5, #T_eb137_row2_col6, #T_eb137_row2_col7, #T_eb137_row3_col0, #T_eb137_row3_col1, #T_eb137_row3_col2, #T_eb137_row3_col3, #T_eb137_row3_col4, #T_eb137_row3_col5, #T_eb137_row3_col6, #T_eb137_row3_col7, #T_eb137_row4_col0, #T_eb137_row4_col1, #T_eb137_row4_col2, #T_eb137_row4_col3, #T_eb137_row4_col4, #T_eb137_row4_col5, #T_eb137_row4_col6, #T_eb137_row4_col7, #T_eb137_row5_col0, #T_eb137_row5_col1, #T_eb137_row5_col2, #T_eb137_row5_col3, #T_eb137_row5_col4, #T_eb137_row5_col5, #T_eb137_row5_col6, #T_eb137_row5_col7, #T_eb137_row6_col0, #T_eb137_row6_col1, #T_eb137_row6_col2, #T_eb137_row6_col3, #T_eb137_row6_col4, #T_eb137_row6_col5, #T_eb137_row6_col6, #T_eb137_row6_col7, #T_eb137_row7_col0, #T_eb137_row7_col1, #T_eb137_row7_col2, #T_eb137_row7_col3, #T_eb137_row7_col4, #T_eb137_row7_col5, #T_eb137_row7_col6, #T_eb137_row7_col7, #T_eb137_row8_col0, #T_eb137_row8_col1, #T_eb137_row8_col2, #T_eb137_row8_col3, #T_eb137_row8_col4, #T_eb137_row8_col5, #T_eb137_row8_col6, #T_eb137_row8_col7, #T_eb137_row9_col0, #T_eb137_row9_col1, #T_eb137_row9_col2, #T_eb137_row9_col3, #T_eb137_row9_col4, #T_eb137_row9_col5, #T_eb137_row9_col6, #T_eb137_row9_col7, #T_eb137_row10_col0, #T_eb137_row10_col1, #T_eb137_row10_col2, #T_eb137_row10_col3, #T_eb137_row10_col4, #T_eb137_row10_col5, #T_eb137_row10_col6, #T_eb137_row10_col7, #T_eb137_row11_col0, #T_eb137_row11_col1, #T_eb137_row11_col2, #T_eb137_row11_col3, #T_eb137_row11_col4, #T_eb137_row11_col5, #T_eb137_row11_col6, #T_eb137_row11_col7, #T_eb137_row12_col0, #T_eb137_row12_col1, #T_eb137_row12_col2, #T_eb137_row12_col3, #T_eb137_row12_col4, #T_eb137_row12_col5, #T_eb137_row12_col6, #T_eb137_row12_col7, #T_eb137_row13_col0, #T_eb137_row13_col1, #T_eb137_row13_col2, #T_eb137_row13_col3, #T_eb137_row13_col4, #T_eb137_row13_col5, #T_eb137_row13_col6, #T_eb137_row13_col7, #T_eb137_row14_col0, #T_eb137_row14_col1, #T_eb137_row14_col2, #T_eb137_row14_col3, #T_eb137_row14_col4, #T_eb137_row14_col5, #T_eb137_row14_col6, #T_eb137_row14_col7 {\n",
              "  text-align: left;\n",
              "}\n",
              "#T_eb137_row0_col1, #T_eb137_row0_col2, #T_eb137_row0_col3, #T_eb137_row0_col4, #T_eb137_row0_col5, #T_eb137_row0_col6, #T_eb137_row0_col7, #T_eb137_row1_col1, #T_eb137_row1_col3, #T_eb137_row1_col4, #T_eb137_row1_col5, #T_eb137_row1_col6, #T_eb137_row1_col7 {\n",
              "  text-align: left;\n",
              "  background-color: yellow;\n",
              "}\n",
              "#T_eb137_row0_col8, #T_eb137_row1_col8, #T_eb137_row2_col8, #T_eb137_row3_col8, #T_eb137_row4_col8, #T_eb137_row5_col8, #T_eb137_row6_col8, #T_eb137_row7_col8, #T_eb137_row8_col8, #T_eb137_row9_col8, #T_eb137_row10_col8, #T_eb137_row11_col8, #T_eb137_row12_col8, #T_eb137_row13_col8 {\n",
              "  text-align: left;\n",
              "  background-color: lightgrey;\n",
              "}\n",
              "#T_eb137_row14_col8 {\n",
              "  text-align: left;\n",
              "  background-color: yellow;\n",
              "  background-color: lightgrey;\n",
              "}\n",
              "</style>\n",
              "<table id=\"T_eb137\" class=\"dataframe\">\n",
              "  <thead>\n",
              "    <tr>\n",
              "      <th class=\"blank level0\" >&nbsp;</th>\n",
              "      <th id=\"T_eb137_level0_col0\" class=\"col_heading level0 col0\" >Model</th>\n",
              "      <th id=\"T_eb137_level0_col1\" class=\"col_heading level0 col1\" >Accuracy</th>\n",
              "      <th id=\"T_eb137_level0_col2\" class=\"col_heading level0 col2\" >AUC</th>\n",
              "      <th id=\"T_eb137_level0_col3\" class=\"col_heading level0 col3\" >Recall</th>\n",
              "      <th id=\"T_eb137_level0_col4\" class=\"col_heading level0 col4\" >Prec.</th>\n",
              "      <th id=\"T_eb137_level0_col5\" class=\"col_heading level0 col5\" >F1</th>\n",
              "      <th id=\"T_eb137_level0_col6\" class=\"col_heading level0 col6\" >Kappa</th>\n",
              "      <th id=\"T_eb137_level0_col7\" class=\"col_heading level0 col7\" >MCC</th>\n",
              "      <th id=\"T_eb137_level0_col8\" class=\"col_heading level0 col8\" >TT (Sec)</th>\n",
              "    </tr>\n",
              "  </thead>\n",
              "  <tbody>\n",
              "    <tr>\n",
              "      <th id=\"T_eb137_level0_row0\" class=\"row_heading level0 row0\" >qda</th>\n",
              "      <td id=\"T_eb137_row0_col0\" class=\"data row0 col0\" >Quadratic Discriminant Analysis</td>\n",
              "      <td id=\"T_eb137_row0_col1\" class=\"data row0 col1\" >0.9875</td>\n",
              "      <td id=\"T_eb137_row0_col2\" class=\"data row0 col2\" >1.0000</td>\n",
              "      <td id=\"T_eb137_row0_col3\" class=\"data row0 col3\" >0.9875</td>\n",
              "      <td id=\"T_eb137_row0_col4\" class=\"data row0 col4\" >0.9917</td>\n",
              "      <td id=\"T_eb137_row0_col5\" class=\"data row0 col5\" >0.9875</td>\n",
              "      <td id=\"T_eb137_row0_col6\" class=\"data row0 col6\" >0.9814</td>\n",
              "      <td id=\"T_eb137_row0_col7\" class=\"data row0 col7\" >0.9833</td>\n",
              "      <td id=\"T_eb137_row0_col8\" class=\"data row0 col8\" >0.0590</td>\n",
              "    </tr>\n",
              "    <tr>\n",
              "      <th id=\"T_eb137_level0_row1\" class=\"row_heading level0 row1\" >lda</th>\n",
              "      <td id=\"T_eb137_row1_col0\" class=\"data row1 col0\" >Linear Discriminant Analysis</td>\n",
              "      <td id=\"T_eb137_row1_col1\" class=\"data row1 col1\" >0.9875</td>\n",
              "      <td id=\"T_eb137_row1_col2\" class=\"data row1 col2\" >0.9954</td>\n",
              "      <td id=\"T_eb137_row1_col3\" class=\"data row1 col3\" >0.9875</td>\n",
              "      <td id=\"T_eb137_row1_col4\" class=\"data row1 col4\" >0.9917</td>\n",
              "      <td id=\"T_eb137_row1_col5\" class=\"data row1 col5\" >0.9875</td>\n",
              "      <td id=\"T_eb137_row1_col6\" class=\"data row1 col6\" >0.9814</td>\n",
              "      <td id=\"T_eb137_row1_col7\" class=\"data row1 col7\" >0.9833</td>\n",
              "      <td id=\"T_eb137_row1_col8\" class=\"data row1 col8\" >0.0590</td>\n",
              "    </tr>\n",
              "    <tr>\n",
              "      <th id=\"T_eb137_level0_row2\" class=\"row_heading level0 row2\" >knn</th>\n",
              "      <td id=\"T_eb137_row2_col0\" class=\"data row2 col0\" >K Neighbors Classifier</td>\n",
              "      <td id=\"T_eb137_row2_col1\" class=\"data row2 col1\" >0.9750</td>\n",
              "      <td id=\"T_eb137_row2_col2\" class=\"data row2 col2\" >0.9854</td>\n",
              "      <td id=\"T_eb137_row2_col3\" class=\"data row2 col3\" >0.9750</td>\n",
              "      <td id=\"T_eb137_row2_col4\" class=\"data row2 col4\" >0.9812</td>\n",
              "      <td id=\"T_eb137_row2_col5\" class=\"data row2 col5\" >0.9735</td>\n",
              "      <td id=\"T_eb137_row2_col6\" class=\"data row2 col6\" >0.9614</td>\n",
              "      <td id=\"T_eb137_row2_col7\" class=\"data row2 col7\" >0.9656</td>\n",
              "      <td id=\"T_eb137_row2_col8\" class=\"data row2 col8\" >0.0830</td>\n",
              "    </tr>\n",
              "    <tr>\n",
              "      <th id=\"T_eb137_level0_row3\" class=\"row_heading level0 row3\" >lr</th>\n",
              "      <td id=\"T_eb137_row3_col0\" class=\"data row3 col0\" >Logistic Regression</td>\n",
              "      <td id=\"T_eb137_row3_col1\" class=\"data row3 col1\" >0.9625</td>\n",
              "      <td id=\"T_eb137_row3_col2\" class=\"data row3 col2\" >0.9908</td>\n",
              "      <td id=\"T_eb137_row3_col3\" class=\"data row3 col3\" >0.9625</td>\n",
              "      <td id=\"T_eb137_row3_col4\" class=\"data row3 col4\" >0.9729</td>\n",
              "      <td id=\"T_eb137_row3_col5\" class=\"data row3 col5\" >0.9601</td>\n",
              "      <td id=\"T_eb137_row3_col6\" class=\"data row3 col6\" >0.9424</td>\n",
              "      <td id=\"T_eb137_row3_col7\" class=\"data row3 col7\" >0.9485</td>\n",
              "      <td id=\"T_eb137_row3_col8\" class=\"data row3 col8\" >0.1470</td>\n",
              "    </tr>\n",
              "    <tr>\n",
              "      <th id=\"T_eb137_level0_row4\" class=\"row_heading level0 row4\" >ada</th>\n",
              "      <td id=\"T_eb137_row4_col0\" class=\"data row4 col0\" >Ada Boost Classifier</td>\n",
              "      <td id=\"T_eb137_row4_col1\" class=\"data row4 col1\" >0.9625</td>\n",
              "      <td id=\"T_eb137_row4_col2\" class=\"data row4 col2\" >0.9862</td>\n",
              "      <td id=\"T_eb137_row4_col3\" class=\"data row4 col3\" >0.9625</td>\n",
              "      <td id=\"T_eb137_row4_col4\" class=\"data row4 col4\" >0.9729</td>\n",
              "      <td id=\"T_eb137_row4_col5\" class=\"data row4 col5\" >0.9601</td>\n",
              "      <td id=\"T_eb137_row4_col6\" class=\"data row4 col6\" >0.9424</td>\n",
              "      <td id=\"T_eb137_row4_col7\" class=\"data row4 col7\" >0.9485</td>\n",
              "      <td id=\"T_eb137_row4_col8\" class=\"data row4 col8\" >0.1350</td>\n",
              "    </tr>\n",
              "    <tr>\n",
              "      <th id=\"T_eb137_level0_row5\" class=\"row_heading level0 row5\" >et</th>\n",
              "      <td id=\"T_eb137_row5_col0\" class=\"data row5 col0\" >Extra Trees Classifier</td>\n",
              "      <td id=\"T_eb137_row5_col1\" class=\"data row5 col1\" >0.9625</td>\n",
              "      <td id=\"T_eb137_row5_col2\" class=\"data row5 col2\" >0.9896</td>\n",
              "      <td id=\"T_eb137_row5_col3\" class=\"data row5 col3\" >0.9625</td>\n",
              "      <td id=\"T_eb137_row5_col4\" class=\"data row5 col4\" >0.9656</td>\n",
              "      <td id=\"T_eb137_row5_col5\" class=\"data row5 col5\" >0.9613</td>\n",
              "      <td id=\"T_eb137_row5_col6\" class=\"data row5 col6\" >0.9424</td>\n",
              "      <td id=\"T_eb137_row5_col7\" class=\"data row5 col7\" >0.9445</td>\n",
              "      <td id=\"T_eb137_row5_col8\" class=\"data row5 col8\" >0.3800</td>\n",
              "    </tr>\n",
              "    <tr>\n",
              "      <th id=\"T_eb137_level0_row6\" class=\"row_heading level0 row6\" >nb</th>\n",
              "      <td id=\"T_eb137_row6_col0\" class=\"data row6 col0\" >Naive Bayes</td>\n",
              "      <td id=\"T_eb137_row6_col1\" class=\"data row6 col1\" >0.9500</td>\n",
              "      <td id=\"T_eb137_row6_col2\" class=\"data row6 col2\" >0.9862</td>\n",
              "      <td id=\"T_eb137_row6_col3\" class=\"data row6 col3\" >0.9500</td>\n",
              "      <td id=\"T_eb137_row6_col4\" class=\"data row6 col4\" >0.9573</td>\n",
              "      <td id=\"T_eb137_row6_col5\" class=\"data row6 col5\" >0.9488</td>\n",
              "      <td id=\"T_eb137_row6_col6\" class=\"data row6 col6\" >0.9238</td>\n",
              "      <td id=\"T_eb137_row6_col7\" class=\"data row6 col7\" >0.9278</td>\n",
              "      <td id=\"T_eb137_row6_col8\" class=\"data row6 col8\" >0.1120</td>\n",
              "    </tr>\n",
              "    <tr>\n",
              "      <th id=\"T_eb137_level0_row7\" class=\"row_heading level0 row7\" >dt</th>\n",
              "      <td id=\"T_eb137_row7_col0\" class=\"data row7 col0\" >Decision Tree Classifier</td>\n",
              "      <td id=\"T_eb137_row7_col1\" class=\"data row7 col1\" >0.9500</td>\n",
              "      <td id=\"T_eb137_row7_col2\" class=\"data row7 col2\" >0.9633</td>\n",
              "      <td id=\"T_eb137_row7_col3\" class=\"data row7 col3\" >0.9500</td>\n",
              "      <td id=\"T_eb137_row7_col4\" class=\"data row7 col4\" >0.9500</td>\n",
              "      <td id=\"T_eb137_row7_col5\" class=\"data row7 col5\" >0.9500</td>\n",
              "      <td id=\"T_eb137_row7_col6\" class=\"data row7 col6\" >0.9238</td>\n",
              "      <td id=\"T_eb137_row7_col7\" class=\"data row7 col7\" >0.9238</td>\n",
              "      <td id=\"T_eb137_row7_col8\" class=\"data row7 col8\" >0.0960</td>\n",
              "    </tr>\n",
              "    <tr>\n",
              "      <th id=\"T_eb137_level0_row8\" class=\"row_heading level0 row8\" >rf</th>\n",
              "      <td id=\"T_eb137_row8_col0\" class=\"data row8 col0\" >Random Forest Classifier</td>\n",
              "      <td id=\"T_eb137_row8_col1\" class=\"data row8 col1\" >0.9500</td>\n",
              "      <td id=\"T_eb137_row8_col2\" class=\"data row8 col2\" >0.9954</td>\n",
              "      <td id=\"T_eb137_row8_col3\" class=\"data row8 col3\" >0.9500</td>\n",
              "      <td id=\"T_eb137_row8_col4\" class=\"data row8 col4\" >0.9562</td>\n",
              "      <td id=\"T_eb137_row8_col5\" class=\"data row8 col5\" >0.9476</td>\n",
              "      <td id=\"T_eb137_row8_col6\" class=\"data row8 col6\" >0.9229</td>\n",
              "      <td id=\"T_eb137_row8_col7\" class=\"data row8 col7\" >0.9271</td>\n",
              "      <td id=\"T_eb137_row8_col8\" class=\"data row8 col8\" >0.2120</td>\n",
              "    </tr>\n",
              "    <tr>\n",
              "      <th id=\"T_eb137_level0_row9\" class=\"row_heading level0 row9\" >xgboost</th>\n",
              "      <td id=\"T_eb137_row9_col0\" class=\"data row9 col0\" >Extreme Gradient Boosting</td>\n",
              "      <td id=\"T_eb137_row9_col1\" class=\"data row9 col1\" >0.9500</td>\n",
              "      <td id=\"T_eb137_row9_col2\" class=\"data row9 col2\" >0.9908</td>\n",
              "      <td id=\"T_eb137_row9_col3\" class=\"data row9 col3\" >0.9500</td>\n",
              "      <td id=\"T_eb137_row9_col4\" class=\"data row9 col4\" >0.9562</td>\n",
              "      <td id=\"T_eb137_row9_col5\" class=\"data row9 col5\" >0.9476</td>\n",
              "      <td id=\"T_eb137_row9_col6\" class=\"data row9 col6\" >0.9229</td>\n",
              "      <td id=\"T_eb137_row9_col7\" class=\"data row9 col7\" >0.9271</td>\n",
              "      <td id=\"T_eb137_row9_col8\" class=\"data row9 col8\" >0.1830</td>\n",
              "    </tr>\n",
              "    <tr>\n",
              "      <th id=\"T_eb137_level0_row10\" class=\"row_heading level0 row10\" >lightgbm</th>\n",
              "      <td id=\"T_eb137_row10_col0\" class=\"data row10 col0\" >Light Gradient Boosting Machine</td>\n",
              "      <td id=\"T_eb137_row10_col1\" class=\"data row10 col1\" >0.9500</td>\n",
              "      <td id=\"T_eb137_row10_col2\" class=\"data row10 col2\" >0.9908</td>\n",
              "      <td id=\"T_eb137_row10_col3\" class=\"data row10 col3\" >0.9500</td>\n",
              "      <td id=\"T_eb137_row10_col4\" class=\"data row10 col4\" >0.9562</td>\n",
              "      <td id=\"T_eb137_row10_col5\" class=\"data row10 col5\" >0.9476</td>\n",
              "      <td id=\"T_eb137_row10_col6\" class=\"data row10 col6\" >0.9229</td>\n",
              "      <td id=\"T_eb137_row10_col7\" class=\"data row10 col7\" >0.9271</td>\n",
              "      <td id=\"T_eb137_row10_col8\" class=\"data row10 col8\" >0.0870</td>\n",
              "    </tr>\n",
              "    <tr>\n",
              "      <th id=\"T_eb137_level0_row11\" class=\"row_heading level0 row11\" >gbc</th>\n",
              "      <td id=\"T_eb137_row11_col0\" class=\"data row11 col0\" >Gradient Boosting Classifier</td>\n",
              "      <td id=\"T_eb137_row11_col1\" class=\"data row11 col1\" >0.9250</td>\n",
              "      <td id=\"T_eb137_row11_col2\" class=\"data row11 col2\" >0.9742</td>\n",
              "      <td id=\"T_eb137_row11_col3\" class=\"data row11 col3\" >0.9250</td>\n",
              "      <td id=\"T_eb137_row11_col4\" class=\"data row11 col4\" >0.9312</td>\n",
              "      <td id=\"T_eb137_row11_col5\" class=\"data row11 col5\" >0.9235</td>\n",
              "      <td id=\"T_eb137_row11_col6\" class=\"data row11 col6\" >0.8852</td>\n",
              "      <td id=\"T_eb137_row11_col7\" class=\"data row11 col7\" >0.8894</td>\n",
              "      <td id=\"T_eb137_row11_col8\" class=\"data row11 col8\" >0.3010</td>\n",
              "    </tr>\n",
              "    <tr>\n",
              "      <th id=\"T_eb137_level0_row12\" class=\"row_heading level0 row12\" >ridge</th>\n",
              "      <td id=\"T_eb137_row12_col0\" class=\"data row12 col0\" >Ridge Classifier</td>\n",
              "      <td id=\"T_eb137_row12_col1\" class=\"data row12 col1\" >0.8232</td>\n",
              "      <td id=\"T_eb137_row12_col2\" class=\"data row12 col2\" >0.0000</td>\n",
              "      <td id=\"T_eb137_row12_col3\" class=\"data row12 col3\" >0.8232</td>\n",
              "      <td id=\"T_eb137_row12_col4\" class=\"data row12 col4\" >0.8318</td>\n",
              "      <td id=\"T_eb137_row12_col5\" class=\"data row12 col5\" >0.8027</td>\n",
              "      <td id=\"T_eb137_row12_col6\" class=\"data row12 col6\" >0.7322</td>\n",
              "      <td id=\"T_eb137_row12_col7\" class=\"data row12 col7\" >0.7634</td>\n",
              "      <td id=\"T_eb137_row12_col8\" class=\"data row12 col8\" >0.0650</td>\n",
              "    </tr>\n",
              "    <tr>\n",
              "      <th id=\"T_eb137_level0_row13\" class=\"row_heading level0 row13\" >svm</th>\n",
              "      <td id=\"T_eb137_row13_col0\" class=\"data row13 col0\" >SVM - Linear Kernel</td>\n",
              "      <td id=\"T_eb137_row13_col1\" class=\"data row13 col1\" >0.7964</td>\n",
              "      <td id=\"T_eb137_row13_col2\" class=\"data row13 col2\" >0.0000</td>\n",
              "      <td id=\"T_eb137_row13_col3\" class=\"data row13 col3\" >0.7964</td>\n",
              "      <td id=\"T_eb137_row13_col4\" class=\"data row13 col4\" >0.7624</td>\n",
              "      <td id=\"T_eb137_row13_col5\" class=\"data row13 col5\" >0.7573</td>\n",
              "      <td id=\"T_eb137_row13_col6\" class=\"data row13 col6\" >0.6896</td>\n",
              "      <td id=\"T_eb137_row13_col7\" class=\"data row13 col7\" >0.7335</td>\n",
              "      <td id=\"T_eb137_row13_col8\" class=\"data row13 col8\" >0.0940</td>\n",
              "    </tr>\n",
              "    <tr>\n",
              "      <th id=\"T_eb137_level0_row14\" class=\"row_heading level0 row14\" >dummy</th>\n",
              "      <td id=\"T_eb137_row14_col0\" class=\"data row14 col0\" >Dummy Classifier</td>\n",
              "      <td id=\"T_eb137_row14_col1\" class=\"data row14 col1\" >0.3571</td>\n",
              "      <td id=\"T_eb137_row14_col2\" class=\"data row14 col2\" >0.5000</td>\n",
              "      <td id=\"T_eb137_row14_col3\" class=\"data row14 col3\" >0.3571</td>\n",
              "      <td id=\"T_eb137_row14_col4\" class=\"data row14 col4\" >0.1288</td>\n",
              "      <td id=\"T_eb137_row14_col5\" class=\"data row14 col5\" >0.1890</td>\n",
              "      <td id=\"T_eb137_row14_col6\" class=\"data row14 col6\" >0.0000</td>\n",
              "      <td id=\"T_eb137_row14_col7\" class=\"data row14 col7\" >0.0000</td>\n",
              "      <td id=\"T_eb137_row14_col8\" class=\"data row14 col8\" >0.0560</td>\n",
              "    </tr>\n",
              "  </tbody>\n",
              "</table>\n"
            ]
          },
          "metadata": {}
        },
        {
          "output_type": "display_data",
          "data": {
            "text/plain": [
              "Processing:   0%|          | 0/69 [00:00<?, ?it/s]"
            ],
            "application/vnd.jupyter.widget-view+json": {
              "version_major": 2,
              "version_minor": 0,
              "model_id": "7c6a0e753b6147688a9b2cbd5c06b398"
            }
          },
          "metadata": {
            "application/vnd.jupyter.widget-view+json": {
              "colab": {
                "custom_widget_manager": {
                  "url": "https://ssl.gstatic.com/colaboratory-static/widgets/colab-cdn-widget-manager/b3e629b1971e1542/manager.min.js"
                }
              }
            }
          }
        },
        {
          "output_type": "display_data",
          "data": {
            "text/plain": [
              "<IPython.core.display.HTML object>"
            ],
            "text/html": []
          },
          "metadata": {}
        }
      ]
    },
    {
      "cell_type": "code",
      "source": [
        "for model in best:\n",
        "  print(model)"
      ],
      "metadata": {
        "colab": {
          "base_uri": "https://localhost:8080/"
        },
        "id": "kHVKaBoHEWQp",
        "outputId": "bc036653-1dbb-4602-8449-04999b2a3ea4"
      },
      "execution_count": 30,
      "outputs": [
        {
          "output_type": "stream",
          "name": "stdout",
          "text": [
            "QuadraticDiscriminantAnalysis(priors=None, reg_param=0.0,\n",
            "                              store_covariance=False, tol=0.0001)\n",
            "LinearDiscriminantAnalysis(covariance_estimator=None, n_components=None,\n",
            "                           priors=None, shrinkage=None, solver='svd',\n",
            "                           store_covariance=False, tol=0.0001)\n",
            "KNeighborsClassifier(algorithm='auto', leaf_size=30, metric='minkowski',\n",
            "                     metric_params=None, n_jobs=-1, n_neighbors=5, p=2,\n",
            "                     weights='uniform')\n",
            "LogisticRegression(C=1.0, class_weight=None, dual=False, fit_intercept=True,\n",
            "                   intercept_scaling=1, l1_ratio=None, max_iter=1000,\n",
            "                   multi_class='auto', n_jobs=None, penalty='l2',\n",
            "                   random_state=8343, solver='lbfgs', tol=0.0001, verbose=0,\n",
            "                   warm_start=False)\n",
            "AdaBoostClassifier(algorithm='SAMME.R', base_estimator='deprecated',\n",
            "                   estimator=None, learning_rate=1.0, n_estimators=50,\n",
            "                   random_state=8343)\n"
          ]
        }
      ]
    },
    {
      "cell_type": "code",
      "source": [
        "best[0].predict_proba(x_test)[0], best[1].predict_proba(x_test)[0]"
      ],
      "metadata": {
        "colab": {
          "base_uri": "https://localhost:8080/"
        },
        "id": "hEftKLuuFGHR",
        "outputId": "89f353fb-98f7-482a-a550-9cb4ceb85e77"
      },
      "execution_count": 32,
      "outputs": [
        {
          "output_type": "stream",
          "name": "stderr",
          "text": [
            "/usr/local/lib/python3.10/dist-packages/sklearn/base.py:439: UserWarning: X does not have valid feature names, but QuadraticDiscriminantAnalysis was fitted with feature names\n",
            "  warnings.warn(\n",
            "/usr/local/lib/python3.10/dist-packages/sklearn/base.py:439: UserWarning: X does not have valid feature names, but LinearDiscriminantAnalysis was fitted with feature names\n",
            "  warnings.warn(\n"
          ]
        },
        {
          "output_type": "execute_result",
          "data": {
            "text/plain": [
              "(array([3.85766014e-151, 5.00127488e-006, 9.99994999e-001]),\n",
              " array([3.21735618e-48, 7.02942005e-06, 9.99992971e-01]))"
            ]
          },
          "metadata": {},
          "execution_count": 32
        }
      ]
    },
    {
      "cell_type": "code",
      "source": [
        "models_proba =  np.array([model.predict_proba(x_test) for model in best])\n",
        "models_mean = np.mean(models_proba,axis=0)\n",
        "print(models_proba.shape, models_mean.shape)\n",
        "predict = np.argmax(models_mean,axis=1)s\n",
        "predict"
      ],
      "metadata": {
        "colab": {
          "base_uri": "https://localhost:8080/"
        },
        "id": "IlG8TYRFFGNg",
        "outputId": "558bbb95-7f13-49a6-ef36-ec8569f36c26"
      },
      "execution_count": 36,
      "outputs": [
        {
          "output_type": "stream",
          "name": "stdout",
          "text": [
            "(5, 38, 3) (38, 3)\n"
          ]
        },
        {
          "output_type": "stream",
          "name": "stderr",
          "text": [
            "/usr/local/lib/python3.10/dist-packages/sklearn/base.py:439: UserWarning: X does not have valid feature names, but QuadraticDiscriminantAnalysis was fitted with feature names\n",
            "  warnings.warn(\n",
            "/usr/local/lib/python3.10/dist-packages/sklearn/base.py:439: UserWarning: X does not have valid feature names, but LinearDiscriminantAnalysis was fitted with feature names\n",
            "  warnings.warn(\n",
            "/usr/local/lib/python3.10/dist-packages/sklearn/base.py:439: UserWarning: X does not have valid feature names, but KNeighborsClassifier was fitted with feature names\n",
            "  warnings.warn(\n",
            "/usr/local/lib/python3.10/dist-packages/sklearn/base.py:439: UserWarning: X does not have valid feature names, but LogisticRegression was fitted with feature names\n",
            "  warnings.warn(\n",
            "/usr/local/lib/python3.10/dist-packages/sklearn/base.py:439: UserWarning: X does not have valid feature names, but AdaBoostClassifier was fitted with feature names\n",
            "  warnings.warn(\n"
          ]
        },
        {
          "output_type": "execute_result",
          "data": {
            "text/plain": [
              "array([2, 0, 2, 0, 2, 2, 0, 0, 2, 0, 0, 2, 0, 0, 2, 1, 1, 1, 2, 2, 2, 0,\n",
              "       2, 0, 1, 2, 1, 0, 1, 2, 1, 1, 1, 0, 0, 1, 0, 1])"
            ]
          },
          "metadata": {},
          "execution_count": 36
        }
      ]
    }
  ]
}