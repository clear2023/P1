{
  "cells": [
    {
      "cell_type": "markdown",
      "metadata": {
        "id": "lZb_daUBJrrV"
      },
      "source": [
        "라이브러리 및 제출양식함수"
      ]
    },
    {
      "cell_type": "code",
      "execution_count": null,
      "metadata": {
        "id": "A15PFUAOI8Co"
      },
      "outputs": [],
      "source": [
        "!pip install xgboost\n",
        "!pip install catboost\n",
        "!pip install optuna\n",
        "!pip install autogluon"
      ]
    },
    {
      "cell_type": "code",
      "execution_count": null,
      "metadata": {
        "id": "i72Tq3t9JbjQ"
      },
      "outputs": [],
      "source": [
        "import pandas as pd\n",
        "import numpy as np\n",
        "import lightgbm as lgb\n",
        "from sklearn.preprocessing import LabelEncoder, StandardScaler, OneHotEncoder\n",
        "from sklearn.model_selection import train_test_split\n",
        "import xgboost as xgb\n",
        "# from catboost import CatBoostRegressor\n",
        "from sklearn.metrics import make_scorer, mean_absolute_error\n",
        "from sklearn.model_selection import GridSearchCV, KFold\n",
        "from sklearn.model_selection import KFold, cross_val_score\n",
        "# import optuna\n",
        "from sklearn.preprocessing import PolynomialFeatures\n",
        "\n",
        "import numpy as np\n",
        "# import autogluon as ag\n",
        "# from autogluon.tabular import TabularDataset, TabularPredictor\n",
        "# from autogluon.core.metrics import make_scorer"
      ]
    },
    {
      "cell_type": "code",
      "execution_count": null,
      "metadata": {
        "id": "EilRGz7YJnS7"
      },
      "outputs": [],
      "source": [
        "# 제출양식 함수(베이스라인)\n",
        "\n",
        "def submitResult(pred):\n",
        "    try:\n",
        "        label = pd.read_csv('/content/drive/MyDrive/kt1/Q1_label_sample.csv')\n",
        "        # 1. 컬럼명과 순서가 동일한지 체크\n",
        "        if pred.columns.equals(label.columns):\n",
        "            print(\"Check: 컬럼명과 순서가 동일합니다.\")\n",
        "        else:\n",
        "            print(f\"Warning: 컬럼명과 순서가 동일하지 않습니다.\\n- 예측 데이터프레임 컬럼명: {pred.columns}\\n- 레이블 데이터프레임 컬럼명: {label.columns}\")\n",
        "            return\n",
        "\n",
        "        # 2. datetime 컬럼이 존재하며 해당 컬럼의 샘플수와 값이 일치하는지 체크\n",
        "        if (label['datetime'] == pred['datetime']).all():\n",
        "            print(\"Check: datetime 순서와 샘플 수가 일치합니다.\")\n",
        "        else:\n",
        "            print(\"Warning: 테스트 세트와 모델 예측의 datetime이 일치하지 않습니다.\")\n",
        "            return\n",
        "\n",
        "        pred.to_csv('Q1_submitResult.csv', index=False)\n",
        "        print(\"Done : Q1_submitResult.csv 파일로 저장되었습니다.\")\n",
        "    except Exception as e:\n",
        "        # 예외가 발생한 경우 오류 메시지 출력\n",
        "        print(\"Error:\", e)"
      ]
    },
    {
      "cell_type": "markdown",
      "metadata": {
        "id": "oyDtSJWuJ3PC"
      },
      "source": [
        "데이터로드"
      ]
    },
    {
      "cell_type": "code",
      "execution_count": null,
      "metadata": {
        "id": "USxaj20bKCdM"
      },
      "outputs": [],
      "source": [
        "train_df = pd.read_csv('/content/drive/MyDrive/kt1/Q1_train.csv')\n",
        "test_df = pd.read_csv('/content/drive/MyDrive/kt1/Q1_test.csv')\n",
        "test_df = test_df.drop('Unnamed: 0',axis=1)\n",
        "label_sample = pd.read_csv('/content/drive/MyDrive/kt1/Q1_label_sample.csv')"
      ]
    },
    {
      "cell_type": "code",
      "source": [
        "pd.DataFrame(train_df[['uenomax']].value_counts(normalize=True))"
      ],
      "metadata": {
        "colab": {
          "base_uri": "https://localhost:8080/",
          "height": 455
        },
        "id": "Ny61dv9tYfhx",
        "outputId": "209c42cb-b149-4d8d-cf8a-40d51f94aae5"
      },
      "execution_count": null,
      "outputs": [
        {
          "output_type": "execute_result",
          "data": {
            "text/plain": [
              "                0\n",
              "uenomax          \n",
              "2        0.207683\n",
              "3        0.194660\n",
              "4        0.150206\n",
              "1        0.136673\n",
              "5        0.104216\n",
              "...           ...\n",
              "57       0.000007\n",
              "43       0.000007\n",
              "61       0.000007\n",
              "73       0.000007\n",
              "74       0.000007\n",
              "\n",
              "[61 rows x 1 columns]"
            ],
            "text/html": [
              "\n",
              "  <div id=\"df-9180c434-a1c7-4893-9f4f-0d2ca85463ce\" class=\"colab-df-container\">\n",
              "    <div>\n",
              "<style scoped>\n",
              "    .dataframe tbody tr th:only-of-type {\n",
              "        vertical-align: middle;\n",
              "    }\n",
              "\n",
              "    .dataframe tbody tr th {\n",
              "        vertical-align: top;\n",
              "    }\n",
              "\n",
              "    .dataframe thead th {\n",
              "        text-align: right;\n",
              "    }\n",
              "</style>\n",
              "<table border=\"1\" class=\"dataframe\">\n",
              "  <thead>\n",
              "    <tr style=\"text-align: right;\">\n",
              "      <th></th>\n",
              "      <th>0</th>\n",
              "    </tr>\n",
              "    <tr>\n",
              "      <th>uenomax</th>\n",
              "      <th></th>\n",
              "    </tr>\n",
              "  </thead>\n",
              "  <tbody>\n",
              "    <tr>\n",
              "      <th>2</th>\n",
              "      <td>0.207683</td>\n",
              "    </tr>\n",
              "    <tr>\n",
              "      <th>3</th>\n",
              "      <td>0.194660</td>\n",
              "    </tr>\n",
              "    <tr>\n",
              "      <th>4</th>\n",
              "      <td>0.150206</td>\n",
              "    </tr>\n",
              "    <tr>\n",
              "      <th>1</th>\n",
              "      <td>0.136673</td>\n",
              "    </tr>\n",
              "    <tr>\n",
              "      <th>5</th>\n",
              "      <td>0.104216</td>\n",
              "    </tr>\n",
              "    <tr>\n",
              "      <th>...</th>\n",
              "      <td>...</td>\n",
              "    </tr>\n",
              "    <tr>\n",
              "      <th>57</th>\n",
              "      <td>0.000007</td>\n",
              "    </tr>\n",
              "    <tr>\n",
              "      <th>43</th>\n",
              "      <td>0.000007</td>\n",
              "    </tr>\n",
              "    <tr>\n",
              "      <th>61</th>\n",
              "      <td>0.000007</td>\n",
              "    </tr>\n",
              "    <tr>\n",
              "      <th>73</th>\n",
              "      <td>0.000007</td>\n",
              "    </tr>\n",
              "    <tr>\n",
              "      <th>74</th>\n",
              "      <td>0.000007</td>\n",
              "    </tr>\n",
              "  </tbody>\n",
              "</table>\n",
              "<p>61 rows × 1 columns</p>\n",
              "</div>\n",
              "    <div class=\"colab-df-buttons\">\n",
              "\n",
              "  <div class=\"colab-df-container\">\n",
              "    <button class=\"colab-df-convert\" onclick=\"convertToInteractive('df-9180c434-a1c7-4893-9f4f-0d2ca85463ce')\"\n",
              "            title=\"Convert this dataframe to an interactive table.\"\n",
              "            style=\"display:none;\">\n",
              "\n",
              "  <svg xmlns=\"http://www.w3.org/2000/svg\" height=\"24px\" viewBox=\"0 -960 960 960\">\n",
              "    <path d=\"M120-120v-720h720v720H120Zm60-500h600v-160H180v160Zm220 220h160v-160H400v160Zm0 220h160v-160H400v160ZM180-400h160v-160H180v160Zm440 0h160v-160H620v160ZM180-180h160v-160H180v160Zm440 0h160v-160H620v160Z\"/>\n",
              "  </svg>\n",
              "    </button>\n",
              "\n",
              "  <style>\n",
              "    .colab-df-container {\n",
              "      display:flex;\n",
              "      gap: 12px;\n",
              "    }\n",
              "\n",
              "    .colab-df-convert {\n",
              "      background-color: #E8F0FE;\n",
              "      border: none;\n",
              "      border-radius: 50%;\n",
              "      cursor: pointer;\n",
              "      display: none;\n",
              "      fill: #1967D2;\n",
              "      height: 32px;\n",
              "      padding: 0 0 0 0;\n",
              "      width: 32px;\n",
              "    }\n",
              "\n",
              "    .colab-df-convert:hover {\n",
              "      background-color: #E2EBFA;\n",
              "      box-shadow: 0px 1px 2px rgba(60, 64, 67, 0.3), 0px 1px 3px 1px rgba(60, 64, 67, 0.15);\n",
              "      fill: #174EA6;\n",
              "    }\n",
              "\n",
              "    .colab-df-buttons div {\n",
              "      margin-bottom: 4px;\n",
              "    }\n",
              "\n",
              "    [theme=dark] .colab-df-convert {\n",
              "      background-color: #3B4455;\n",
              "      fill: #D2E3FC;\n",
              "    }\n",
              "\n",
              "    [theme=dark] .colab-df-convert:hover {\n",
              "      background-color: #434B5C;\n",
              "      box-shadow: 0px 1px 3px 1px rgba(0, 0, 0, 0.15);\n",
              "      filter: drop-shadow(0px 1px 2px rgba(0, 0, 0, 0.3));\n",
              "      fill: #FFFFFF;\n",
              "    }\n",
              "  </style>\n",
              "\n",
              "    <script>\n",
              "      const buttonEl =\n",
              "        document.querySelector('#df-9180c434-a1c7-4893-9f4f-0d2ca85463ce button.colab-df-convert');\n",
              "      buttonEl.style.display =\n",
              "        google.colab.kernel.accessAllowed ? 'block' : 'none';\n",
              "\n",
              "      async function convertToInteractive(key) {\n",
              "        const element = document.querySelector('#df-9180c434-a1c7-4893-9f4f-0d2ca85463ce');\n",
              "        const dataTable =\n",
              "          await google.colab.kernel.invokeFunction('convertToInteractive',\n",
              "                                                    [key], {});\n",
              "        if (!dataTable) return;\n",
              "\n",
              "        const docLinkHtml = 'Like what you see? Visit the ' +\n",
              "          '<a target=\"_blank\" href=https://colab.research.google.com/notebooks/data_table.ipynb>data table notebook</a>'\n",
              "          + ' to learn more about interactive tables.';\n",
              "        element.innerHTML = '';\n",
              "        dataTable['output_type'] = 'display_data';\n",
              "        await google.colab.output.renderOutput(dataTable, element);\n",
              "        const docLink = document.createElement('div');\n",
              "        docLink.innerHTML = docLinkHtml;\n",
              "        element.appendChild(docLink);\n",
              "      }\n",
              "    </script>\n",
              "  </div>\n",
              "\n",
              "\n",
              "<div id=\"df-a7167d22-0d12-4716-971c-81d36ddee692\">\n",
              "  <button class=\"colab-df-quickchart\" onclick=\"quickchart('df-a7167d22-0d12-4716-971c-81d36ddee692')\"\n",
              "            title=\"Suggest charts.\"\n",
              "            style=\"display:none;\">\n",
              "\n",
              "<svg xmlns=\"http://www.w3.org/2000/svg\" height=\"24px\"viewBox=\"0 0 24 24\"\n",
              "     width=\"24px\">\n",
              "    <g>\n",
              "        <path d=\"M19 3H5c-1.1 0-2 .9-2 2v14c0 1.1.9 2 2 2h14c1.1 0 2-.9 2-2V5c0-1.1-.9-2-2-2zM9 17H7v-7h2v7zm4 0h-2V7h2v10zm4 0h-2v-4h2v4z\"/>\n",
              "    </g>\n",
              "</svg>\n",
              "  </button>\n",
              "\n",
              "<style>\n",
              "  .colab-df-quickchart {\n",
              "      --bg-color: #E8F0FE;\n",
              "      --fill-color: #1967D2;\n",
              "      --hover-bg-color: #E2EBFA;\n",
              "      --hover-fill-color: #174EA6;\n",
              "      --disabled-fill-color: #AAA;\n",
              "      --disabled-bg-color: #DDD;\n",
              "  }\n",
              "\n",
              "  [theme=dark] .colab-df-quickchart {\n",
              "      --bg-color: #3B4455;\n",
              "      --fill-color: #D2E3FC;\n",
              "      --hover-bg-color: #434B5C;\n",
              "      --hover-fill-color: #FFFFFF;\n",
              "      --disabled-bg-color: #3B4455;\n",
              "      --disabled-fill-color: #666;\n",
              "  }\n",
              "\n",
              "  .colab-df-quickchart {\n",
              "    background-color: var(--bg-color);\n",
              "    border: none;\n",
              "    border-radius: 50%;\n",
              "    cursor: pointer;\n",
              "    display: none;\n",
              "    fill: var(--fill-color);\n",
              "    height: 32px;\n",
              "    padding: 0;\n",
              "    width: 32px;\n",
              "  }\n",
              "\n",
              "  .colab-df-quickchart:hover {\n",
              "    background-color: var(--hover-bg-color);\n",
              "    box-shadow: 0 1px 2px rgba(60, 64, 67, 0.3), 0 1px 3px 1px rgba(60, 64, 67, 0.15);\n",
              "    fill: var(--button-hover-fill-color);\n",
              "  }\n",
              "\n",
              "  .colab-df-quickchart-complete:disabled,\n",
              "  .colab-df-quickchart-complete:disabled:hover {\n",
              "    background-color: var(--disabled-bg-color);\n",
              "    fill: var(--disabled-fill-color);\n",
              "    box-shadow: none;\n",
              "  }\n",
              "\n",
              "  .colab-df-spinner {\n",
              "    border: 2px solid var(--fill-color);\n",
              "    border-color: transparent;\n",
              "    border-bottom-color: var(--fill-color);\n",
              "    animation:\n",
              "      spin 1s steps(1) infinite;\n",
              "  }\n",
              "\n",
              "  @keyframes spin {\n",
              "    0% {\n",
              "      border-color: transparent;\n",
              "      border-bottom-color: var(--fill-color);\n",
              "      border-left-color: var(--fill-color);\n",
              "    }\n",
              "    20% {\n",
              "      border-color: transparent;\n",
              "      border-left-color: var(--fill-color);\n",
              "      border-top-color: var(--fill-color);\n",
              "    }\n",
              "    30% {\n",
              "      border-color: transparent;\n",
              "      border-left-color: var(--fill-color);\n",
              "      border-top-color: var(--fill-color);\n",
              "      border-right-color: var(--fill-color);\n",
              "    }\n",
              "    40% {\n",
              "      border-color: transparent;\n",
              "      border-right-color: var(--fill-color);\n",
              "      border-top-color: var(--fill-color);\n",
              "    }\n",
              "    60% {\n",
              "      border-color: transparent;\n",
              "      border-right-color: var(--fill-color);\n",
              "    }\n",
              "    80% {\n",
              "      border-color: transparent;\n",
              "      border-right-color: var(--fill-color);\n",
              "      border-bottom-color: var(--fill-color);\n",
              "    }\n",
              "    90% {\n",
              "      border-color: transparent;\n",
              "      border-bottom-color: var(--fill-color);\n",
              "    }\n",
              "  }\n",
              "</style>\n",
              "\n",
              "  <script>\n",
              "    async function quickchart(key) {\n",
              "      const quickchartButtonEl =\n",
              "        document.querySelector('#' + key + ' button');\n",
              "      quickchartButtonEl.disabled = true;  // To prevent multiple clicks.\n",
              "      quickchartButtonEl.classList.add('colab-df-spinner');\n",
              "      try {\n",
              "        const charts = await google.colab.kernel.invokeFunction(\n",
              "            'suggestCharts', [key], {});\n",
              "      } catch (error) {\n",
              "        console.error('Error during call to suggestCharts:', error);\n",
              "      }\n",
              "      quickchartButtonEl.classList.remove('colab-df-spinner');\n",
              "      quickchartButtonEl.classList.add('colab-df-quickchart-complete');\n",
              "    }\n",
              "    (() => {\n",
              "      let quickchartButtonEl =\n",
              "        document.querySelector('#df-a7167d22-0d12-4716-971c-81d36ddee692 button');\n",
              "      quickchartButtonEl.style.display =\n",
              "        google.colab.kernel.accessAllowed ? 'block' : 'none';\n",
              "    })();\n",
              "  </script>\n",
              "</div>\n",
              "    </div>\n",
              "  </div>\n"
            ]
          },
          "metadata": {},
          "execution_count": 25
        }
      ]
    },
    {
      "cell_type": "markdown",
      "metadata": {
        "id": "hpeQn8MpKZE2"
      },
      "source": [
        "결측치처리"
      ]
    },
    {
      "cell_type": "code",
      "execution_count": null,
      "metadata": {
        "colab": {
          "base_uri": "https://localhost:8080/"
        },
        "id": "-ZV0ePVGV6cb",
        "outputId": "45ecc014-d303-48b2-9cd7-e182c7cf7aae"
      },
      "outputs": [
        {
          "name": "stdout",
          "output_type": "stream",
          "text": [
            "전체 MAE: [0.63462114 0.63737791 0.62989381 0.62810787 0.63142982]\n",
            "평균 MAE: 0.6322861087599998\n",
            "MAE 표준편차: 0.0033254449907759182\n"
          ]
        }
      ],
      "source": [
        "# 결측치 중위수대체\n",
        "train_df = pd.read_csv('/content/drive/MyDrive/kt1/Q1_train.csv')\n",
        "train_df = train_df.iloc[:,2:]\n",
        "train_df = train_df.fillna(train_df.median())\n",
        "X = train_df.drop('uenomax',axis=1)\n",
        "y = train_df['uenomax']\n",
        "# LightGBM 모델 생성\n",
        "model = lgb.LGBMRegressor(random_state=42)\n",
        "\n",
        "# 교차 검증 설정\n",
        "kf = KFold(n_splits=5, random_state=42, shuffle=True)\n",
        "scoring = make_scorer(mean_absolute_error)\n",
        "cv_scores = cross_val_score(model, X, y, cv=kf,scoring=scoring)\n",
        "\n",
        "# 전체 교차 검증 결과 출력\n",
        "print(f\"전체 MAE: {cv_scores}\")\n",
        "print(f\"평균 MAE: {np.mean(cv_scores)}\")\n",
        "print(f\"MAE 표준편차: {np.std(cv_scores)}\")"
      ]
    },
    {
      "cell_type": "code",
      "execution_count": null,
      "metadata": {
        "colab": {
          "base_uri": "https://localhost:8080/"
        },
        "id": "zHJh7j73KeCR",
        "outputId": "b5356132-53b4-4d65-9ea8-9d2461a73779"
      },
      "outputs": [
        {
          "name": "stdout",
          "output_type": "stream",
          "text": [
            "전체 MAE: [0.62994744 0.63305965 0.62704125 0.63406055 0.6348694 ]\n",
            "평균 MAE: 0.6317956591167769\n",
            "MAE 표준편차: 0.0029050157606398215\n"
          ]
        }
      ],
      "source": [
        "# 결측치를 dropna\n",
        "train_df = pd.read_csv('/content/drive/MyDrive/kt1/Q1_train.csv')\n",
        "train_df = train_df.iloc[:,2:]\n",
        "train_df = train_df.dropna()\n",
        "train_df = train_df.reset_index(drop=True) # 인덱스정렬\n",
        "X = train_df.drop('uenomax',axis=1)\n",
        "y = train_df['uenomax']\n",
        "# LightGBM 모델 생성\n",
        "model = lgb.LGBMRegressor(random_state=42)\n",
        "\n",
        "# 교차 검증 설정\n",
        "kf = KFold(n_splits=5, random_state=42, shuffle=True)\n",
        "scoring = make_scorer(mean_absolute_error)\n",
        "cv_scores = cross_val_score(model, X, y, cv=kf,scoring=scoring)\n",
        "\n",
        "# 전체 교차 검증 결과 출력\n",
        "print(f\"전체 MAE: {cv_scores}\")\n",
        "print(f\"평균 MAE: {np.mean(cv_scores)}\")\n",
        "print(f\"MAE 표준편차: {np.std(cv_scores)}\")"
      ]
    },
    {
      "cell_type": "code",
      "execution_count": null,
      "metadata": {
        "id": "dQ5o1Ad3KhW2"
      },
      "outputs": [],
      "source": [
        "# 따라서 결측치는 drop처리"
      ]
    },
    {
      "cell_type": "markdown",
      "metadata": {
        "id": "D1AyygLceS_v"
      },
      "source": [
        "피처엔지니어링 - 연도"
      ]
    },
    {
      "cell_type": "code",
      "execution_count": null,
      "metadata": {
        "colab": {
          "base_uri": "https://localhost:8080/"
        },
        "id": "dS4Rezz1f1Ac",
        "outputId": "58c2c02a-b18c-4ead-fc2c-b4967feb4226"
      },
      "outputs": [
        {
          "name": "stdout",
          "output_type": "stream",
          "text": [
            "전체 MAE: [0.62658055 0.6305869  0.62503971 0.63155685 0.63135563]\n",
            "평균 MAE: 0.6290239272073956\n",
            "MAE 표준편차: 0.002688475830051447\n"
          ]
        }
      ],
      "source": [
        "# 결측치를 dropna + 연도피처엔지니어링(기존 datetime 컬럼 유지)\n",
        "train_df = pd.read_csv('/content/drive/MyDrive/kt1/Q1_train.csv')\n",
        "train_df = train_df.drop(columns='ru_id')\n",
        "train_df = train_df.dropna()\n",
        "train_df = train_df.reset_index(drop=True) # 인덱스정렬\n",
        "\n",
        "# 연도, 월, 일, 시간, 분 컬럼 추가\n",
        "train_df['datetime'] = pd.to_datetime(train_df['datetime'])\n",
        "\n",
        "train_df['year'] = train_df['datetime'].dt.year\n",
        "train_df['month'] = train_df['datetime'].dt.month\n",
        "train_df['day'] = train_df['datetime'].dt.day\n",
        "train_df['hour'] = train_df['datetime'].dt.hour\n",
        "train_df['minute'] = train_df['datetime'].dt.minute\n",
        "\n",
        "train_df['datetime'] = train_df['datetime'].astype(int)\n",
        "\n",
        "X = train_df.drop('uenomax',axis=1)\n",
        "y = train_df['uenomax']\n",
        "# LightGBM 모델 생성\n",
        "model = lgb.LGBMRegressor(random_state=42)\n",
        "\n",
        "# 교차 검증 설정\n",
        "kf = KFold(n_splits=5, random_state=42, shuffle=True)\n",
        "scoring = make_scorer(mean_absolute_error)\n",
        "cv_scores = cross_val_score(model, X, y, cv=kf,scoring=scoring)\n",
        "\n",
        "# 전체 교차 검증 결과 출력\n",
        "print(f\"전체 MAE: {cv_scores}\")\n",
        "print(f\"평균 MAE: {np.mean(cv_scores)}\")\n",
        "print(f\"MAE 표준편차: {np.std(cv_scores)}\")"
      ]
    },
    {
      "cell_type": "code",
      "execution_count": null,
      "metadata": {
        "colab": {
          "base_uri": "https://localhost:8080/"
        },
        "id": "UKUohxvCijor",
        "outputId": "99793fb0-3394-494c-bdc4-ba6ea616d497"
      },
      "outputs": [
        {
          "name": "stdout",
          "output_type": "stream",
          "text": [
            "전체 MAE: [0.62730661 0.63125357 0.62515487 0.63180413 0.63207364]\n",
            "평균 MAE: 0.6295185648129742\n",
            "MAE 표준편차: 0.002781980788262308\n"
          ]
        }
      ],
      "source": [
        "# 결측치를 dropna + 연도피처엔지니어링(기존 datetime 컬럼 삭제)\n",
        "train_df = pd.read_csv('/content/drive/MyDrive/kt1/Q1_train.csv')\n",
        "train_df = train_df.drop(columns='ru_id')\n",
        "train_df = train_df.dropna()\n",
        "train_df = train_df.reset_index(drop=True) # 인덱스정렬\n",
        "\n",
        "# 연도, 월, 일, 시간, 분 컬럼 추가\n",
        "train_df['datetime'] = pd.to_datetime(train_df['datetime'])\n",
        "\n",
        "train_df['year'] = train_df['datetime'].dt.year\n",
        "train_df['month'] = train_df['datetime'].dt.month\n",
        "train_df['day'] = train_df['datetime'].dt.day\n",
        "train_df['hour'] = train_df['datetime'].dt.hour\n",
        "train_df['minute'] = train_df['datetime'].dt.minute\n",
        "\n",
        "train_df = train_df.drop(columns='datetime')\n",
        "\n",
        "X = train_df.drop('uenomax',axis=1)\n",
        "y = train_df['uenomax']\n",
        "# LightGBM 모델 생성\n",
        "model = lgb.LGBMRegressor(random_state=42)\n",
        "\n",
        "# 교차 검증 설정\n",
        "kf = KFold(n_splits=5, random_state=42, shuffle=True)\n",
        "scoring = make_scorer(mean_absolute_error)\n",
        "cv_scores = cross_val_score(model, X, y, cv=kf,scoring=scoring)\n",
        "\n",
        "# 전체 교차 검증 결과 출력\n",
        "print(f\"전체 MAE: {cv_scores}\")\n",
        "print(f\"평균 MAE: {np.mean(cv_scores)}\")\n",
        "print(f\"MAE 표준편차: {np.std(cv_scores)}\")"
      ]
    },
    {
      "cell_type": "code",
      "execution_count": null,
      "metadata": {
        "id": "CCam6Hl5jKdn"
      },
      "outputs": [],
      "source": [
        "# 따라서 연도피처엔지니어링(기존 datetime 컬럼 유지) 채택"
      ]
    },
    {
      "cell_type": "markdown",
      "metadata": {
        "id": "d1wk0ryhjsmv"
      },
      "source": [
        "피처엔지니어링 - train데이터셋에 test데이터셋의 데이터(ru_id) 추가"
      ]
    },
    {
      "cell_type": "code",
      "execution_count": null,
      "metadata": {
        "colab": {
          "base_uri": "https://localhost:8080/"
        },
        "id": "KSBc7494jq5D",
        "outputId": "8ec85861-6aaf-49cc-8be0-f06bcdd15714"
      },
      "outputs": [
        {
          "name": "stderr",
          "output_type": "stream",
          "text": [
            "<ipython-input-81-00b70c77a254>:43: SettingWithCopyWarning: \n",
            "A value is trying to be set on a copy of a slice from a DataFrame\n",
            "\n",
            "See the caveats in the documentation: https://pandas.pydata.org/pandas-docs/stable/user_guide/indexing.html#returning-a-view-versus-a-copy\n",
            "  y[137436] = np.median(y)\n"
          ]
        },
        {
          "name": "stdout",
          "output_type": "stream",
          "text": [
            "전체 MAE: [0.6233114  0.62335067 0.62231809 0.62733159 0.62731564]\n",
            "평균 MAE: 0.624725476515296\n",
            "MAE 표준편차: 0.002153413667863317\n"
          ]
        }
      ],
      "source": [
        "#데이터로드 및 전처리\n",
        "\n",
        "train_df = pd.read_csv('/content/drive/MyDrive/kt1/Q1_train.csv')\n",
        "test_df = pd.read_csv('/content/drive/MyDrive/kt1/Q1_test.csv')\n",
        "test_df = test_df.drop('Unnamed: 0',axis=1)\n",
        "label_sample = pd.read_csv('/content/drive/MyDrive/kt1/Q1_label_sample.csv')\n",
        "\n",
        "# dropna로 결측치처리\n",
        "train_df = train_df.dropna()\n",
        "train_df = train_df.reset_index(drop=True) # 인덱스정렬\n",
        "\n",
        "\n",
        "# 연도, 월, 일, 시간, 분 컬럼 추가\n",
        "train_df['datetime'] = pd.to_datetime(train_df['datetime'])\n",
        "\n",
        "train_df['year'] = train_df['datetime'].dt.year\n",
        "train_df['month'] = train_df['datetime'].dt.month\n",
        "train_df['day'] = train_df['datetime'].dt.day\n",
        "train_df['hour'] = train_df['datetime'].dt.hour\n",
        "train_df['minute'] = train_df['datetime'].dt.minute\n",
        "\n",
        "train_df['datetime'] = train_df['datetime'].astype(int)\n",
        "\n",
        "\n",
        "\n",
        "test_df['datetime'] = pd.to_datetime(test_df['datetime'])\n",
        "\n",
        "test_df['year'] = test_df['datetime'].dt.year\n",
        "test_df['month'] = test_df['datetime'].dt.month\n",
        "test_df['day'] = test_df['datetime'].dt.day\n",
        "test_df['hour'] = test_df['datetime'].dt.hour\n",
        "test_df['minute'] = test_df['datetime'].dt.minute\n",
        "\n",
        "test_df['datetime'] = test_df['datetime'].astype(int)\n",
        "\n",
        "\n",
        "\n",
        "X = train_df.drop('uenomax',axis=1)\n",
        "y = train_df['uenomax']\n",
        "\n",
        "temp = test_df.iloc[34360:34362,:]\n",
        "X = pd.concat([X, temp], ignore_index=True)\n",
        "y[137436] = np.median(y)\n",
        "y[137437] = np.median(y)\n",
        "\n",
        "# 정규화\n",
        "scaler = StandardScaler()\n",
        "X.iloc[:,2:-5] = scaler.fit_transform(X.iloc[:,2:-5])\n",
        "\n",
        "test_df.iloc[:,2:-5] = scaler.transform(test_df.iloc[:,2:-5])\n",
        "\n",
        "# ru_id 라벨 인코딩\n",
        "label_encoder = LabelEncoder()\n",
        "X['ru_id'] = label_encoder.fit_transform(X['ru_id'])\n",
        "test_df['ru_id'] = label_encoder.transform(test_df['ru_id'])\n",
        "\n",
        "# LightGBM 모델 생성\n",
        "model = lgb.LGBMRegressor(random_state=42)\n",
        "\n",
        "# 교차 검증 설정\n",
        "kf = KFold(n_splits=5, random_state=42, shuffle=True)\n",
        "scoring = make_scorer(mean_absolute_error)\n",
        "cv_scores = cross_val_score(model, X, y, cv=kf,scoring=scoring)\n",
        "\n",
        "# 전체 교차 검증 결과 출력\n",
        "print(f\"전체 MAE: {cv_scores}\")\n",
        "print(f\"평균 MAE: {np.mean(cv_scores)}\")\n",
        "print(f\"MAE 표준편차: {np.std(cv_scores)}\")"
      ]
    },
    {
      "cell_type": "code",
      "execution_count": null,
      "metadata": {
        "id": "EDE_EuyAlfml"
      },
      "outputs": [],
      "source": [
        "# 따라서 위와 같은 방식 최종 채택"
      ]
    },
    {
      "cell_type": "markdown",
      "metadata": {
        "id": "qHKg1FaHl1Oe"
      },
      "source": [
        "모델탐색"
      ]
    },
    {
      "cell_type": "code",
      "execution_count": null,
      "metadata": {
        "colab": {
          "base_uri": "https://localhost:8080/"
        },
        "id": "bDAqwix6lpon",
        "outputId": "c60a42c9-79af-4fbc-b534-d2fbc1a7fdd2"
      },
      "outputs": [
        {
          "name": "stdout",
          "output_type": "stream",
          "text": [
            "전체 MAE: [0.62110142 0.62106884 0.61804372 0.62659766 0.62617796]\n",
            "평균 MAE: 0.6225979195862863\n",
            "MAE 표준편차: 0.0032903765694001536\n"
          ]
        }
      ],
      "source": [
        "# xgboost\n",
        "model = xgb.XGBRegressor(random_state=42)\n",
        "# 교차 검증 설정\n",
        "kf = KFold(n_splits=5, random_state=42, shuffle=True)\n",
        "scoring = make_scorer(mean_absolute_error)\n",
        "cv_scores = cross_val_score(model, X, y, cv=kf,scoring=scoring)\n",
        "\n",
        "# 전체 교차 검증 결과 출력\n",
        "print(f\"전체 MAE: {cv_scores}\")\n",
        "print(f\"평균 MAE: {np.mean(cv_scores)}\")\n",
        "print(f\"MAE 표준편차: {np.std(cv_scores)}\")"
      ]
    },
    {
      "cell_type": "code",
      "execution_count": null,
      "metadata": {
        "colab": {
          "base_uri": "https://localhost:8080/"
        },
        "id": "SIOA10eAl8ti",
        "outputId": "dcbcde40-92cb-44c6-9603-a05be498e5d1"
      },
      "outputs": [
        {
          "name": "stdout",
          "output_type": "stream",
          "text": [
            "전체 MAE: [0.60867496 0.60815976 0.60538186 0.61377033 0.61382293]\n",
            "평균 MAE: 0.6099619697398875\n",
            "MAE 표준편차: 0.0033254288069213037\n"
          ]
        }
      ],
      "source": [
        "# CatBoostRegressor\n",
        "model = CatBoostRegressor(verbose=0,random_state=42)\n",
        "# 교차 검증 설정\n",
        "kf = KFold(n_splits=5, random_state=42, shuffle=True)\n",
        "scoring = make_scorer(mean_absolute_error)\n",
        "cv_scores = cross_val_score(model, X, y, cv=kf,scoring=scoring)\n",
        "\n",
        "# 전체 교차 검증 결과 출력\n",
        "print(f\"전체 MAE: {cv_scores}\")\n",
        "print(f\"평균 MAE: {np.mean(cv_scores)}\")\n",
        "print(f\"MAE 표준편차: {np.std(cv_scores)}\")"
      ]
    },
    {
      "cell_type": "code",
      "execution_count": null,
      "metadata": {
        "id": "JdI4J9fsmZ7o"
      },
      "outputs": [],
      "source": [
        "# 따라서 CatBoostRegressor 채택"
      ]
    },
    {
      "cell_type": "markdown",
      "metadata": {
        "id": "sS5FVK9SmbxM"
      },
      "source": [
        "하이퍼 파라메터 튜닝 - OPTUNA"
      ]
    },
    {
      "cell_type": "code",
      "execution_count": null,
      "metadata": {
        "id": "c7f_AVpTmGWm"
      },
      "outputs": [],
      "source": [
        "# Objective 함수 정의\n",
        "def objective(trial):\n",
        "    # 하이퍼파라미터 탐색 범위 설정\n",
        "    params = {\n",
        "        'learning_rate': trial.suggest_float('learning_rate', 0.01, 0.3),\n",
        "        'depth': trial.suggest_int('depth', 3, 10),\n",
        "        'l2_leaf_reg': trial.suggest_float('l2_leaf_reg', 0.1, 10.0),\n",
        "        'random_strength': trial.suggest_float('random_strength', 0.1, 1.0),\n",
        "    }\n",
        "\n",
        "    # CatBoostRegressor 모델 초기화\n",
        "    model = CatBoostRegressor(verbose=0,random_state=42, **params)\n",
        "\n",
        "    # 모델 학습\n",
        "    model.fit(x_train, y_train)\n",
        "\n",
        "    # 평가 지표 (MAE) 계산\n",
        "    mae = mean_absolute_error(y_test, model.predict(x_test))\n",
        "\n",
        "    return mae\n",
        "\n",
        "# 데이터 분할\n",
        "x_train, x_test, y_train, y_test = train_test_split(X, y, random_state=42)\n",
        "\n",
        "# Optuna 최적화 설정\n",
        "study = optuna.create_study(direction='minimize')\n",
        "\n",
        "# 최적화 진행 상황 출력\n",
        "def print_study_statistics(study, trial):\n",
        "    print(f'Trial {trial.number}/{len(study.trials)} - Loss: {trial.value:.4f} - Best Loss: {study.best_value:.4f} - Params: {trial.params}')\n",
        "\n",
        "study.optimize(objective, n_trials=100, callbacks=[print_study_statistics])\n",
        "\n",
        "# 최적 하이퍼파라미터 출력\n",
        "print('Best Parameters:', study.best_params)\n",
        "print('Best MAE:', study.best_value)"
      ]
    },
    {
      "cell_type": "code",
      "execution_count": null,
      "metadata": {
        "colab": {
          "base_uri": "https://localhost:8080/"
        },
        "id": "dwdFrIi83keK",
        "outputId": "a67274be-d520-4dce-ef5c-da0849cd7f7a"
      },
      "outputs": [
        {
          "name": "stdout",
          "output_type": "stream",
          "text": [
            "전체 MAE: [0.60529284 0.60510462 0.6010728  0.61030595 0.60975552]\n",
            "평균 MAE: 0.6063063486051441\n",
            "MAE 표준편차: 0.003398674642087573\n"
          ]
        }
      ],
      "source": [
        "# CatBoostRegressor\n",
        "model = CatBoostRegressor(verbose=0, random_state=42, learning_rate=0.08807070244833717, depth=10, l2_leaf_reg=6.861317113568743, random_strength=0.2220645202847003)\n",
        "# 교차 검증 설정\n",
        "kf = KFold(n_splits=5, random_state=42, shuffle=True)\n",
        "scoring = make_scorer(mean_absolute_error)\n",
        "cv_scores = cross_val_score(model, X, y, cv=kf,scoring=scoring)\n",
        "\n",
        "# 전체 교차 검증 결과 출력\n",
        "print(f\"전체 MAE: {cv_scores}\")\n",
        "print(f\"평균 MAE: {np.mean(cv_scores)}\")\n",
        "print(f\"MAE 표준편차: {np.std(cv_scores)}\")"
      ]
    },
    {
      "cell_type": "code",
      "execution_count": null,
      "metadata": {
        "id": "xxdO3KLvm1-l"
      },
      "outputs": [],
      "source": [
        "model = CatBoostRegressor(verbose=0, random_state=42, learning_rate=0.08807070244833717, depth=10, l2_leaf_reg=6.861317113568743, random_strength=0.2220645202847003)\n",
        "model.fit(X,y)\n",
        "\n",
        "y_pred = model.predict(test_df)\n",
        "\n",
        "test_df = pd.read_csv('/content/drive/MyDrive/kt1/Q1_test.csv')\n",
        "test_df['uenomax'] = y_pred\n",
        "df = test_df[['datetime','ru_id','uenomax']]\n",
        "y2 = df.pivot_table(index='datetime', columns='ru_id', values='uenomax', fill_value=0)\n",
        "y2.columns.name = None\n",
        "y2 = y2.reset_index()\n",
        "\n",
        "submitResult(y2)"
      ]
    },
    {
      "cell_type": "code",
      "execution_count": null,
      "metadata": {
        "colab": {
          "background_save": true
        },
        "id": "s2Uqdbw4nAAm",
        "outputId": "1dea2bc6-922b-4bcd-c0aa-470c86afe36c"
      },
      "outputs": [
        {
          "name": "stdout",
          "output_type": "stream",
          "text": [
            "전체 MAE: [0.61005831 0.61176741 0.60819656 0.61544919 0.6159599 ]\n",
            "평균 MAE: 0.6122862739454841\n",
            "MAE 표준편차: 0.0030152388678059763\n"
          ]
        }
      ],
      "source": [
        "# poly(degree=2) 적용\n",
        "pf = PolynomialFeatures(degree=2)\n",
        "X_poly = pf.fit_transform(X)\n",
        "\n",
        "# CatBoostRegressor\n",
        "model = CatBoostRegressor(verbose=0, random_state=42, learning_rate=0.08807070244833717, depth=10, l2_leaf_reg=6.861317113568743, random_strength=0.2220645202847003)\n",
        "# 교차 검증 설정\n",
        "kf = KFold(n_splits=5, random_state=42, shuffle=True)\n",
        "scoring = make_scorer(mean_absolute_error)\n",
        "cv_scores = cross_val_score(model, X_poly, y, cv=kf,scoring=scoring)\n",
        "\n",
        "# 전체 교차 검증 결과 출력\n",
        "print(f\"전체 MAE: {cv_scores}\")\n",
        "print(f\"평균 MAE: {np.mean(cv_scores)}\")\n",
        "print(f\"MAE 표준편차: {np.std(cv_scores)}\")"
      ]
    },
    {
      "cell_type": "code",
      "execution_count": null,
      "metadata": {
        "id": "LUkTwl28nCPr"
      },
      "outputs": [],
      "source": [
        "# poly(degree=2) 적용\n",
        "pf = PolynomialFeatures(degree=2)\n",
        "X_poly = pf.fit_transform(X)\n",
        "\n",
        "model = CatBoostRegressor(verbose=0, random_state=42, learning_rate=0.08807070244833717, depth=10, l2_leaf_reg=6.861317113568743, random_strength=0.2220645202847003)\n",
        "model.fit(X_poly,y)\n",
        "\n",
        "test_df_poly = pf.transform(test_df)\n",
        "y_pred = model.predict(test_df_poly)\n",
        "\n",
        "test_df = pd.read_csv('/content/drive/MyDrive/kt1/Q1_test.csv')\n",
        "test_df['uenomax'] = y_pred\n",
        "df = test_df[['datetime','ru_id','uenomax']]\n",
        "y = df.pivot_table(index='datetime', columns='ru_id', values='uenomax', fill_value=0)\n",
        "y.columns.name = None\n",
        "y = y.reset_index()\n",
        "\n",
        "submitResult(y)"
      ]
    },
    {
      "cell_type": "markdown",
      "metadata": {
        "id": "kcggyGgt4XsS"
      },
      "source": [
        "Autogluon"
      ]
    },
    {
      "cell_type": "markdown",
      "metadata": {
        "id": "eN8ui-0g48Uq"
      },
      "source": [
        "Autogluon - 회귀"
      ]
    },
    {
      "cell_type": "code",
      "execution_count": null,
      "metadata": {
        "id": "UTGcVK1j5eTd"
      },
      "outputs": [],
      "source": [
        "train_df = pd.read_csv('/content/drive/MyDrive/kt1/Q1_train.csv')\n",
        "test_df = pd.read_csv('/content/drive/MyDrive/kt1/Q1_test.csv')\n",
        "test_df = test_df.drop('Unnamed: 0',axis=1)\n",
        "label_sample = pd.read_csv('/content/drive/MyDrive/kt1/Q1_label_sample.csv')\n",
        "\n",
        "# 데이터셋 로드\n",
        "train_data = train_df\n",
        "\n",
        "# 회귀하려는 타겟 변수 지정\n",
        "label = 'uenomax'\n",
        "\n",
        "# 오토 글루온으로 회귀 모델 학습\n",
        "predictor = TabularPredictor(label=label, problem_type='regression')\n",
        "predictor.fit(train_data, presets='best', time_limit=3600*5)\n",
        "\n",
        "# 테스트 데이터 로드 (예시로 test.csv 파일 사용)\n",
        "# 이 데이터에는 y값이 없어야 합니다.\n",
        "test_data = test_df\n",
        "\n",
        "# 학습된 모델로 예측 수행\n",
        "y_pred = predictor.predict(test_data)\n",
        "\n",
        "test_data = pd.read_csv('/content/drive/MyDrive/kt1/Q1_test.csv')\n",
        "test_data['uenomax'] = y_pred\n",
        "df = test_data[['datetime', 'ru_id', 'uenomax']]\n",
        "y2=df.pivot_table(index='datetime', columns='ru_id', values='uenomax', fill_value=0)\n",
        "\n",
        "y2.columns.name = None\n",
        "y2 = y2.reset_index()\n",
        "\n",
        "\n",
        "# 확인 및 저장\n",
        "submitResult(y2)"
      ]
    },
    {
      "cell_type": "markdown",
      "metadata": {
        "id": "_XdrM36T5gYk"
      },
      "source": [
        "Autogluon - 다중클래스분류"
      ]
    },
    {
      "cell_type": "code",
      "execution_count": null,
      "metadata": {
        "id": "EF0a6Hj-4_hk"
      },
      "outputs": [],
      "source": [
        "train_df = pd.read_csv('/content/drive/MyDrive/kt1/Q1_train.csv')\n",
        "test_df = pd.read_csv('/content/drive/MyDrive/kt1/Q1_test.csv')\n",
        "test_df = test_df.drop('Unnamed: 0',axis=1)\n",
        "label_sample = pd.read_csv('/content/drive/MyDrive/kt1/Q1_label_sample.csv')\n",
        "\n",
        "# 데이터셋 로드\n",
        "train_data = train_df\n",
        "\n",
        "# 회귀하려는 타겟 변수 지정\n",
        "label = 'uenomax'\n",
        "\n",
        "ag_accuracy_scorer = make_scorer(name='mae2',\n",
        "                                 score_func=mean_absolute_error,\n",
        "                                 greater_is_better=False)\n",
        "\n",
        "\n",
        "# 오토 글루온으로 회귀 모델 학습\n",
        "predictor = TabularPredictor(label=label, problem_type='multiclass',eval_metric=ag_accuracy_scorer)\n",
        "predictor.fit(train_data,  presets='best_quality',time_limit=3600 *1.5,)\n",
        "\n",
        "# 테스트 데이터 로드 (예시로 test.csv 파일 사용)\n",
        "# 이 데이터에는 y값이 없어야 합니다.\n",
        "test_data = test_df\n",
        "\n",
        "# 학습된 모델로 예측 수행\n",
        "y_pred = predictor.predict(test_data)\n",
        "\n",
        "test_data = pd.read_csv('/content/drive/MyDrive/kt1/Q1_test.csv')\n",
        "test_data['uenomax'] = y_pred\n",
        "df = test_data[['datetime', 'ru_id', 'uenomax']]\n",
        "y2=df.pivot_table(index='datetime', columns='ru_id', values='uenomax', fill_value=0)\n",
        "\n",
        "y2.columns.name = None\n",
        "y2 = y2.reset_index()\n",
        "\n",
        "\n",
        "# 확인 및 저장\n",
        "submitResult(y2)"
      ]
    },
    {
      "cell_type": "code",
      "execution_count": null,
      "metadata": {
        "id": "dtrmuum74Z0V"
      },
      "outputs": [],
      "source": []
    }
  ],
  "metadata": {
    "colab": {
      "provenance": []
    },
    "kernelspec": {
      "display_name": "Python 3",
      "name": "python3"
    },
    "language_info": {
      "name": "python"
    }
  },
  "nbformat": 4,
  "nbformat_minor": 0
}