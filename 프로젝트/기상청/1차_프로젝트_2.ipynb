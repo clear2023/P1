{
  "cells": [
    {
      "cell_type": "code",
      "execution_count": null,
      "metadata": {
        "id": "lkaHVoeODVOt"
      },
      "outputs": [],
      "source": [
        "!sudo apt-get install -y fonts-nanum\n",
        "!sudo fc-cache -fv\n",
        "!rm ~/.cache/matplotlib -rf"
      ]
    },
    {
      "cell_type": "code",
      "execution_count": 1,
      "metadata": {
        "id": "gpbuW-NJDyig"
      },
      "outputs": [],
      "source": [
        "import matplotlib.pyplot as plt\n",
        "\n",
        "plt.rc('font', family='NanumBarunGothic') "
      ]
    },
    {
      "cell_type": "code",
      "execution_count": 2,
      "metadata": {
        "id": "I_qLNFIPD6b8"
      },
      "outputs": [],
      "source": [
        "import numpy as np\n",
        "import pandas as pd\n",
        "import glob\n",
        "import matplotlib.pyplot as plt\n",
        "import seaborn as sns\n"
      ]
    },
    {
      "cell_type": "code",
      "execution_count": 3,
      "metadata": {
        "id": "Oj0vmFrzEbv5"
      },
      "outputs": [],
      "source": [
        "# 해수욕장 이용객 데이터 가져오기\n",
        "\n",
        "df_sea2007 = pd.read_csv('/content/drive/MyDrive/Colab Notebooks/data/0423_태안영업소/해수욕장_이용_20230424162053.csv', encoding = 'cp949', header =0 )\n",
        "df_sea2013 = pd.read_csv('/content/drive/MyDrive/Colab Notebooks/data/0423_태안영업소/해수욕장_이용_20230425154725.csv', encoding = 'cp949', header =0 )\n",
        "df_sea2013 = df_sea2013.iloc[:,1:]\n",
        "df_sea = pd.concat([df_sea2007, df_sea2013], axis =1)\n",
        "df_sea.to_csv('/content/drive/MyDrive/Colab Notebooks/data/1차프로젝트_태안_뉴스/df_sea.csv')\n",
        "\n",
        "# 해수욕장 이용객 데이터 가져오기 (년도별 정리)\n",
        "df_sea = df_sea.iloc[:41,:]\n",
        "df_sea = df_sea.loc[:,['해수욕장별(1)', '2007.6','2008.9','2009.9', '2010.9', '2011.9', '2012.9', '2013.9', '2014.9', '2015.9', '2016.9', '2017.9',\n",
        "                       '2018.9', '2019.9', '2020.9']]\n",
        "df_sea.columns = ['해수욕장별', '2007','2008','2009','2010','2011', '2012','2013', '2014', '2015', '2016', '2017', '2018', '2019', '2020']\n",
        "df_sea = df_sea.iloc[2:, :5]\n",
        "df_sea.reset_index(drop = True, inplace = True)\n",
        "df_sea = df_sea.set_index('해수욕장별')\n",
        "\n",
        "df_sea = df_sea.apply(pd.to_numeric, errors='coerce')"
      ]
    },
    {
      "cell_type": "code",
      "execution_count": 4,
      "metadata": {
        "id": "9mAtl2SlD7zo"
      },
      "outputs": [],
      "source": [
        "# 통행량 데이터 가져오기\n",
        "\n",
        "df_gosok = pd.read_csv('/content/drive/MyDrive/Colab Notebooks/data/0424_통행소/df_gosok.csv')\n",
        "df_gosok.drop(columns = [\"Unnamed: 0\"], inplace = True)\n",
        "df_gosok.drop_duplicates(inplace=True)"
      ]
    },
    {
      "cell_type": "code",
      "execution_count": 5,
      "metadata": {
        "colab": {
          "base_uri": "https://localhost:8080/",
          "height": 424
        },
        "id": "ibAn6icHHZTZ",
        "outputId": "018cf18c-5272-4f2c-f3d7-86c912e8ae59"
      },
      "outputs": [
        {
          "output_type": "execute_result",
          "data": {
            "text/plain": [
              "               집계일자  영업소코드  1종교통량  2종교통량    년도  월   일    교통량\n",
              "0        2005-01-01    277   4951     54  2005  1   1   5005\n",
              "1        2005-01-01     11  42442    518  2005  1   1  42960\n",
              "2        2005-01-01     11  41960    511  2005  1   1  42471\n",
              "3        2005-01-01     53  21649    248  2005  1   1  21897\n",
              "4        2005-01-01     53  21195    246  2005  1   1  21441\n",
              "...             ...    ...    ...    ...   ... ..  ..    ...\n",
              "8197633  2023-03-31    217   1291     66  2023  3  31   1357\n",
              "8197634  2023-03-31    217    184     22  2023  3  31    206\n",
              "8197635  2023-03-31    217   1157     47  2023  3  31   1204\n",
              "8197636  2023-03-31    219   3132     52  2023  3  31   3184\n",
              "8197637  2023-03-31     11  66621   1787  2023  3  31  68408\n",
              "\n",
              "[8197638 rows x 8 columns]"
            ],
            "text/html": [
              "\n",
              "  <div id=\"df-272355a4-9d6f-4e55-be7a-3edaff837f54\">\n",
              "    <div class=\"colab-df-container\">\n",
              "      <div>\n",
              "<style scoped>\n",
              "    .dataframe tbody tr th:only-of-type {\n",
              "        vertical-align: middle;\n",
              "    }\n",
              "\n",
              "    .dataframe tbody tr th {\n",
              "        vertical-align: top;\n",
              "    }\n",
              "\n",
              "    .dataframe thead th {\n",
              "        text-align: right;\n",
              "    }\n",
              "</style>\n",
              "<table border=\"1\" class=\"dataframe\">\n",
              "  <thead>\n",
              "    <tr style=\"text-align: right;\">\n",
              "      <th></th>\n",
              "      <th>집계일자</th>\n",
              "      <th>영업소코드</th>\n",
              "      <th>1종교통량</th>\n",
              "      <th>2종교통량</th>\n",
              "      <th>년도</th>\n",
              "      <th>월</th>\n",
              "      <th>일</th>\n",
              "      <th>교통량</th>\n",
              "    </tr>\n",
              "  </thead>\n",
              "  <tbody>\n",
              "    <tr>\n",
              "      <th>0</th>\n",
              "      <td>2005-01-01</td>\n",
              "      <td>277</td>\n",
              "      <td>4951</td>\n",
              "      <td>54</td>\n",
              "      <td>2005</td>\n",
              "      <td>1</td>\n",
              "      <td>1</td>\n",
              "      <td>5005</td>\n",
              "    </tr>\n",
              "    <tr>\n",
              "      <th>1</th>\n",
              "      <td>2005-01-01</td>\n",
              "      <td>11</td>\n",
              "      <td>42442</td>\n",
              "      <td>518</td>\n",
              "      <td>2005</td>\n",
              "      <td>1</td>\n",
              "      <td>1</td>\n",
              "      <td>42960</td>\n",
              "    </tr>\n",
              "    <tr>\n",
              "      <th>2</th>\n",
              "      <td>2005-01-01</td>\n",
              "      <td>11</td>\n",
              "      <td>41960</td>\n",
              "      <td>511</td>\n",
              "      <td>2005</td>\n",
              "      <td>1</td>\n",
              "      <td>1</td>\n",
              "      <td>42471</td>\n",
              "    </tr>\n",
              "    <tr>\n",
              "      <th>3</th>\n",
              "      <td>2005-01-01</td>\n",
              "      <td>53</td>\n",
              "      <td>21649</td>\n",
              "      <td>248</td>\n",
              "      <td>2005</td>\n",
              "      <td>1</td>\n",
              "      <td>1</td>\n",
              "      <td>21897</td>\n",
              "    </tr>\n",
              "    <tr>\n",
              "      <th>4</th>\n",
              "      <td>2005-01-01</td>\n",
              "      <td>53</td>\n",
              "      <td>21195</td>\n",
              "      <td>246</td>\n",
              "      <td>2005</td>\n",
              "      <td>1</td>\n",
              "      <td>1</td>\n",
              "      <td>21441</td>\n",
              "    </tr>\n",
              "    <tr>\n",
              "      <th>...</th>\n",
              "      <td>...</td>\n",
              "      <td>...</td>\n",
              "      <td>...</td>\n",
              "      <td>...</td>\n",
              "      <td>...</td>\n",
              "      <td>...</td>\n",
              "      <td>...</td>\n",
              "      <td>...</td>\n",
              "    </tr>\n",
              "    <tr>\n",
              "      <th>8197633</th>\n",
              "      <td>2023-03-31</td>\n",
              "      <td>217</td>\n",
              "      <td>1291</td>\n",
              "      <td>66</td>\n",
              "      <td>2023</td>\n",
              "      <td>3</td>\n",
              "      <td>31</td>\n",
              "      <td>1357</td>\n",
              "    </tr>\n",
              "    <tr>\n",
              "      <th>8197634</th>\n",
              "      <td>2023-03-31</td>\n",
              "      <td>217</td>\n",
              "      <td>184</td>\n",
              "      <td>22</td>\n",
              "      <td>2023</td>\n",
              "      <td>3</td>\n",
              "      <td>31</td>\n",
              "      <td>206</td>\n",
              "    </tr>\n",
              "    <tr>\n",
              "      <th>8197635</th>\n",
              "      <td>2023-03-31</td>\n",
              "      <td>217</td>\n",
              "      <td>1157</td>\n",
              "      <td>47</td>\n",
              "      <td>2023</td>\n",
              "      <td>3</td>\n",
              "      <td>31</td>\n",
              "      <td>1204</td>\n",
              "    </tr>\n",
              "    <tr>\n",
              "      <th>8197636</th>\n",
              "      <td>2023-03-31</td>\n",
              "      <td>219</td>\n",
              "      <td>3132</td>\n",
              "      <td>52</td>\n",
              "      <td>2023</td>\n",
              "      <td>3</td>\n",
              "      <td>31</td>\n",
              "      <td>3184</td>\n",
              "    </tr>\n",
              "    <tr>\n",
              "      <th>8197637</th>\n",
              "      <td>2023-03-31</td>\n",
              "      <td>11</td>\n",
              "      <td>66621</td>\n",
              "      <td>1787</td>\n",
              "      <td>2023</td>\n",
              "      <td>3</td>\n",
              "      <td>31</td>\n",
              "      <td>68408</td>\n",
              "    </tr>\n",
              "  </tbody>\n",
              "</table>\n",
              "<p>8197638 rows × 8 columns</p>\n",
              "</div>\n",
              "      <button class=\"colab-df-convert\" onclick=\"convertToInteractive('df-272355a4-9d6f-4e55-be7a-3edaff837f54')\"\n",
              "              title=\"Convert this dataframe to an interactive table.\"\n",
              "              style=\"display:none;\">\n",
              "        \n",
              "  <svg xmlns=\"http://www.w3.org/2000/svg\" height=\"24px\"viewBox=\"0 0 24 24\"\n",
              "       width=\"24px\">\n",
              "    <path d=\"M0 0h24v24H0V0z\" fill=\"none\"/>\n",
              "    <path d=\"M18.56 5.44l.94 2.06.94-2.06 2.06-.94-2.06-.94-.94-2.06-.94 2.06-2.06.94zm-11 1L8.5 8.5l.94-2.06 2.06-.94-2.06-.94L8.5 2.5l-.94 2.06-2.06.94zm10 10l.94 2.06.94-2.06 2.06-.94-2.06-.94-.94-2.06-.94 2.06-2.06.94z\"/><path d=\"M17.41 7.96l-1.37-1.37c-.4-.4-.92-.59-1.43-.59-.52 0-1.04.2-1.43.59L10.3 9.45l-7.72 7.72c-.78.78-.78 2.05 0 2.83L4 21.41c.39.39.9.59 1.41.59.51 0 1.02-.2 1.41-.59l7.78-7.78 2.81-2.81c.8-.78.8-2.07 0-2.86zM5.41 20L4 18.59l7.72-7.72 1.47 1.35L5.41 20z\"/>\n",
              "  </svg>\n",
              "      </button>\n",
              "      \n",
              "  <style>\n",
              "    .colab-df-container {\n",
              "      display:flex;\n",
              "      flex-wrap:wrap;\n",
              "      gap: 12px;\n",
              "    }\n",
              "\n",
              "    .colab-df-convert {\n",
              "      background-color: #E8F0FE;\n",
              "      border: none;\n",
              "      border-radius: 50%;\n",
              "      cursor: pointer;\n",
              "      display: none;\n",
              "      fill: #1967D2;\n",
              "      height: 32px;\n",
              "      padding: 0 0 0 0;\n",
              "      width: 32px;\n",
              "    }\n",
              "\n",
              "    .colab-df-convert:hover {\n",
              "      background-color: #E2EBFA;\n",
              "      box-shadow: 0px 1px 2px rgba(60, 64, 67, 0.3), 0px 1px 3px 1px rgba(60, 64, 67, 0.15);\n",
              "      fill: #174EA6;\n",
              "    }\n",
              "\n",
              "    [theme=dark] .colab-df-convert {\n",
              "      background-color: #3B4455;\n",
              "      fill: #D2E3FC;\n",
              "    }\n",
              "\n",
              "    [theme=dark] .colab-df-convert:hover {\n",
              "      background-color: #434B5C;\n",
              "      box-shadow: 0px 1px 3px 1px rgba(0, 0, 0, 0.15);\n",
              "      filter: drop-shadow(0px 1px 2px rgba(0, 0, 0, 0.3));\n",
              "      fill: #FFFFFF;\n",
              "    }\n",
              "  </style>\n",
              "\n",
              "      <script>\n",
              "        const buttonEl =\n",
              "          document.querySelector('#df-272355a4-9d6f-4e55-be7a-3edaff837f54 button.colab-df-convert');\n",
              "        buttonEl.style.display =\n",
              "          google.colab.kernel.accessAllowed ? 'block' : 'none';\n",
              "\n",
              "        async function convertToInteractive(key) {\n",
              "          const element = document.querySelector('#df-272355a4-9d6f-4e55-be7a-3edaff837f54');\n",
              "          const dataTable =\n",
              "            await google.colab.kernel.invokeFunction('convertToInteractive',\n",
              "                                                     [key], {});\n",
              "          if (!dataTable) return;\n",
              "\n",
              "          const docLinkHtml = 'Like what you see? Visit the ' +\n",
              "            '<a target=\"_blank\" href=https://colab.research.google.com/notebooks/data_table.ipynb>data table notebook</a>'\n",
              "            + ' to learn more about interactive tables.';\n",
              "          element.innerHTML = '';\n",
              "          dataTable['output_type'] = 'display_data';\n",
              "          await google.colab.output.renderOutput(dataTable, element);\n",
              "          const docLink = document.createElement('div');\n",
              "          docLink.innerHTML = docLinkHtml;\n",
              "          element.appendChild(docLink);\n",
              "        }\n",
              "      </script>\n",
              "    </div>\n",
              "  </div>\n",
              "  "
            ]
          },
          "metadata": {},
          "execution_count": 5
        }
      ],
      "source": [
        "# 통행량 년도 특정해서 분리\n",
        "\n",
        "df_gosok.drop_duplicates(inplace=True)\n",
        "df_gosok"
      ]
    },
    {
      "cell_type": "code",
      "execution_count": 6,
      "metadata": {
        "id": "s84Xb3e0HcPW"
      },
      "outputs": [],
      "source": [
        "# 통행량 년도 특정해서 분리\n",
        "\n",
        "df_gosok.drop_duplicates(inplace=True)\n",
        "# df_gosok = df_gosok[ (df_gosok['년도']==2007)|(df_gosok['년도']==2008)|(df_gosok['년도']==2009)|(df_gosok['년도']==2010)   ] "
      ]
    },
    {
      "cell_type": "code",
      "execution_count": 7,
      "metadata": {
        "colab": {
          "base_uri": "https://localhost:8080/"
        },
        "id": "aJMjnbfNENNI",
        "outputId": "be3e3e99-7c13-43a1-81fd-863eb6ffad48"
      },
      "outputs": [
        {
          "output_type": "stream",
          "name": "stderr",
          "text": [
            "<ipython-input-7-31a784b59f7f>:4: SettingWithCopyWarning: \n",
            "A value is trying to be set on a copy of a slice from a DataFrame\n",
            "\n",
            "See the caveats in the documentation: https://pandas.pydata.org/pandas-docs/stable/user_guide/indexing.html#returning-a-view-versus-a-copy\n",
            "  df_summer.drop_duplicates(inplace=True)\n"
          ]
        }
      ],
      "source": [
        "# 통행량 중 여름 통행량만 분리\n",
        "\n",
        "df_summer = df_gosok[ (df_gosok['월']== 6) | (df_gosok['월']== 7) | (df_gosok['월']== 8) | (df_gosok['월']== 9) ]\n",
        "df_summer.drop_duplicates(inplace=True)\n",
        "# df_summer = df_summer[  (df_gosok['년도']==2007)|(df_gosok['년도']==2008)|(df_gosok['년도']==2009)|(df_gosok['년도']==2010)   ] "
      ]
    },
    {
      "cell_type": "code",
      "execution_count": 8,
      "metadata": {
        "colab": {
          "base_uri": "https://localhost:8080/"
        },
        "id": "eDnWl0THAxX0",
        "outputId": "d430b4fa-06c4-4333-f15f-cb04ec675c3c"
      },
      "outputs": [
        {
          "output_type": "execute_result",
          "data": {
            "text/plain": [
              "(260, 283)"
            ]
          },
          "metadata": {},
          "execution_count": 8
        }
      ],
      "source": [
        "len(df_summer['영업소코드'][ df_summer['년도'] == 2007 ].unique()), len(df_summer['영업소코드'][ df_summer['년도'] == 2008 ].unique())"
      ]
    },
    {
      "cell_type": "code",
      "source": [
        "df_grouped = df_gosok.groupby(['년도'])['교통량'].sum().reset_index()\n",
        "df_grouped"
      ],
      "metadata": {
        "id": "d-6RLR4naaxD"
      },
      "execution_count": null,
      "outputs": []
    },
    {
      "cell_type": "code",
      "execution_count": 12,
      "metadata": {
        "colab": {
          "base_uri": "https://localhost:8080/",
          "height": 736
        },
        "id": "hwQH4-ASEUrw",
        "outputId": "6c8dc045-702b-4883-f19e-1689a893a4be"
      },
      "outputs": [
        {
          "output_type": "display_data",
          "data": {
            "text/plain": [
              "<Figure size 800x800 with 1 Axes>"
            ],
            "image/png": "[encoded data removed]"
          },
          "metadata": {}
        }
      ],
      "source": [
        "# sns.barplot(x='년도', y='교통량', data=df)\n",
        "df_grouped = df_gosok.groupby(['년도', '월'])['교통량'].sum().reset_index()\n",
        "plt.figure(figsize = (8,8))\n",
        "# 막대그래프 그리기\n",
        "sns.barplot(x='년도', y='교통량', data=df_grouped)\n",
        "\n",
        "plt.title('년도별 전국고속도로 IC 통행량') \n",
        "plt.ticklabel_format(style='plain', axis='y')\n",
        "plt.ylim(100000000)\n",
        "plt.xticks(rotation=90)\n",
        "\n",
        "plt.show()"
      ]
    },
    {
      "cell_type": "code",
      "source": [
        "df_car_grouped = df_car.groupby(['년도'])['교통량'].sum().reset_index()\n",
        "df_car_grouped\n",
        "1491625/(1601977+1581282)/2"
      ],
      "metadata": {
        "colab": {
          "base_uri": "https://localhost:8080/"
        },
        "id": "h0U47GlTY1kg",
        "outputId": "6be53780-f9b7-4b29-9865-9bf2bf902d1a"
      },
      "execution_count": 15,
      "outputs": [
        {
          "output_type": "execute_result",
          "data": {
            "text/plain": [
              "0.23429212011966352"
            ]
          },
          "metadata": {},
          "execution_count": 15
        }
      ]
    },
    {
      "cell_type": "code",
      "execution_count": 14,
      "metadata": {
        "id": "Gzep9-DfyTof",
        "colab": {
          "base_uri": "https://localhost:8080/",
          "height": 489
        },
        "outputId": "d2a2c506-2906-4e26-feb3-9118a93d5de1"
      },
      "outputs": [
        {
          "output_type": "display_data",
          "data": {
            "text/plain": [
              "<Figure size 640x480 with 1 Axes>"
            ],
            "image/png": "[encoded data removed]"
          },
          "metadata": {}
        }
      ],
      "source": [
        "# 대천+무창포 IC 휴가철 통행량\n",
        "df_car = df_summer[ (df_summer['영업소코드'] == 259) | (df_summer['영업소코드'] == 511)].reset_index(drop = True)\n",
        "df_car_grouped = df_car.groupby(['년도', '월'])['교통량'].sum().reset_index()\n",
        "\n",
        "sns.barplot(x='년도', y='교통량', data=df_car_grouped)\n",
        "plt.title( '대천+무창포 IC 여름철 연도별 교통량 추이')\n",
        "plt.xticks(rotation = 90)\n",
        "plt.ticklabel_format(style='plain', axis='y')\n",
        "plt.ylim(200000)\n",
        "\n",
        "plt.show()"
      ]
    },
    {
      "cell_type": "code",
      "execution_count": 16,
      "metadata": {
        "colab": {
          "base_uri": "https://localhost:8080/",
          "height": 489
        },
        "id": "HzinKMNexgCt",
        "outputId": "55dc98d6-f2ec-4250-a4fe-1cf5ed919d03"
      },
      "outputs": [
        {
          "output_type": "display_data",
          "data": {
            "text/plain": [
              "<Figure size 640x480 with 1 Axes>"
            ],
            "image/png": "[encoded data removed]"
          },
          "metadata": {}
        }
      ],
      "source": [
        "# 서산 IC 휴가철 통행량\n",
        "df_car = df_summer[ df_summer['영업소코드'] == 298 ].reset_index(drop = True)\n",
        "df_car_grouped = df_car.groupby(['년도', '월'])['교통량'].sum().reset_index()\n",
        "\n",
        "sns.barplot(x='년도', y='교통량', data=df_car_grouped)\n",
        "plt.title('서산IC 여름철 연도별 교통량 추이')\n",
        "plt.xticks(rotation = 90)\n",
        "plt.ylim(200000)\n",
        "\n",
        "plt.show()\n"
      ]
    },
    {
      "cell_type": "code",
      "execution_count": 27,
      "metadata": {
        "id": "hwdj0usy9O-n",
        "colab": {
          "base_uri": "https://localhost:8080/"
        },
        "outputId": "ac677276-1bf3-492b-fdca-b68bb265d13f"
      },
      "outputs": [
        {
          "output_type": "execute_result",
          "data": {
            "text/plain": [
              "0.23466540636104255"
            ]
          },
          "metadata": {},
          "execution_count": 27
        }
      ],
      "source": [
        "df_jiri_grouped = df_jiri.groupby(['년도'])['교통량'].sum().reset_index()\n",
        "\n",
        "df_jiri_grouped\n",
        "268124/(281136 +290154) /2 "
      ]
    },
    {
      "cell_type": "code",
      "source": [
        "df_jiri = df_summer[ (df_summer['영업소코드'] == 269) ] \n",
        "df_jiri_grouped = df_jiri.groupby(['년도'])['교통량'].sum().reset_index()\n",
        "\n",
        "# 막대그래프 그리기\n",
        "sns.barplot(x='년도', y='교통량', data=df_jiri_grouped)\n",
        "plt.title('지리산 연도별 교통량 추이')\n",
        "plt.xticks(rotation = 90)\n",
        "\n",
        "plt.show()\n"
      ],
      "metadata": {
        "colab": {
          "base_uri": "https://localhost:8080/",
          "height": 489
        },
        "id": "UCgf1EEtbDek",
        "outputId": "88ac5ea1-baf9-4a66-e8f6-5d7d3b32560a"
      },
      "execution_count": 18,
      "outputs": [
        {
          "output_type": "display_data",
          "data": {
            "text/plain": [
              "<Figure size 640x480 with 1 Axes>"
            ],
            "image/png": "[encoded data removed]"
          },
          "metadata": {}
        }
      ]
    },
    {
      "cell_type": "code",
      "execution_count": 19,
      "metadata": {
        "colab": {
          "base_uri": "https://localhost:8080/",
          "height": 489
        },
        "id": "4jTwW0SWIxMI",
        "outputId": "6ba5e92e-3b22-477b-d740-4650690e5a8f"
      },
      "outputs": [
        {
          "output_type": "display_data",
          "data": {
            "text/plain": [
              "<Figure size 640x480 with 1 Axes>"
            ],
            "image/png": "[encoded data removed]"
          },
          "metadata": {}
        }
      ],
      "source": [
        "\n",
        "df_sea_people = df_sea.loc['만리포해수욕장']\n",
        "df_sea_people = pd.DataFrame(df_sea_people)\n",
        "df_sea_people.reset_index(inplace = True)\n",
        "df_sea_people.columns = [\"년도\", '방문객']\n",
        "\n",
        "# df_car = df_summer[ df_summer['영업소코드'] == 298 ].reset_index(drop = True)\n",
        "# df_car_grouped = df_car.groupby(['년도', '월'])['교통량'].sum().reset_index()\n",
        "\n",
        "sns.barplot(x='년도', y='방문객', data=df_sea_people)\n",
        "plt.ticklabel_format(style='plain', axis='y')\n",
        "plt.title('만리포 해수욕장 방문객 추이')\n",
        "plt.xticks(rotation = 90)\n",
        "plt.ylim(200000,2500000)\n",
        "\n",
        "plt.show()"
      ]
    },
    {
      "cell_type": "code",
      "source": [
        "news_t"
      ],
      "metadata": {
        "colab": {
          "base_uri": "https://localhost:8080/",
          "height": 143
        },
        "id": "p909r7dCHeOA",
        "outputId": "07b35b81-cb76-47cf-9e4c-8fec6c2584c9"
      },
      "execution_count": 56,
      "outputs": [
        {
          "output_type": "execute_result",
          "data": {
            "text/plain": [
              "      년도  뉴스기사수\n",
              "0   2008   9409\n",
              "1   2009   1430\n",
              "13  2010    947"
            ],
            "text/html": [
              "\n",
              "  <div id=\"df-e2badf41-8420-446f-a41f-84c50006fee4\">\n",
              "    <div class=\"colab-df-container\">\n",
              "      <div>\n",
              "<style scoped>\n",
              "    .dataframe tbody tr th:only-of-type {\n",
              "        vertical-align: middle;\n",
              "    }\n",
              "\n",
              "    .dataframe tbody tr th {\n",
              "        vertical-align: top;\n",
              "    }\n",
              "\n",
              "    .dataframe thead th {\n",
              "        text-align: right;\n",
              "    }\n",
              "</style>\n",
              "<table border=\"1\" class=\"dataframe\">\n",
              "  <thead>\n",
              "    <tr style=\"text-align: right;\">\n",
              "      <th></th>\n",
              "      <th>년도</th>\n",
              "      <th>뉴스기사수</th>\n",
              "    </tr>\n",
              "  </thead>\n",
              "  <tbody>\n",
              "    <tr>\n",
              "      <th>0</th>\n",
              "      <td>2008</td>\n",
              "      <td>9409</td>\n",
              "    </tr>\n",
              "    <tr>\n",
              "      <th>1</th>\n",
              "      <td>2009</td>\n",
              "      <td>1430</td>\n",
              "    </tr>\n",
              "    <tr>\n",
              "      <th>13</th>\n",
              "      <td>2010</td>\n",
              "      <td>947</td>\n",
              "    </tr>\n",
              "  </tbody>\n",
              "</table>\n",
              "</div>\n",
              "      <button class=\"colab-df-convert\" onclick=\"convertToInteractive('df-e2badf41-8420-446f-a41f-84c50006fee4')\"\n",
              "              title=\"Convert this dataframe to an interactive table.\"\n",
              "              style=\"display:none;\">\n",
              "        \n",
              "  <svg xmlns=\"http://www.w3.org/2000/svg\" height=\"24px\"viewBox=\"0 0 24 24\"\n",
              "       width=\"24px\">\n",
              "    <path d=\"M0 0h24v24H0V0z\" fill=\"none\"/>\n",
              "    <path d=\"M18.56 5.44l.94 2.06.94-2.06 2.06-.94-2.06-.94-.94-2.06-.94 2.06-2.06.94zm-11 1L8.5 8.5l.94-2.06 2.06-.94-2.06-.94L8.5 2.5l-.94 2.06-2.06.94zm10 10l.94 2.06.94-2.06 2.06-.94-2.06-.94-.94-2.06-.94 2.06-2.06.94z\"/><path d=\"M17.41 7.96l-1.37-1.37c-.4-.4-.92-.59-1.43-.59-.52 0-1.04.2-1.43.59L10.3 9.45l-7.72 7.72c-.78.78-.78 2.05 0 2.83L4 21.41c.39.39.9.59 1.41.59.51 0 1.02-.2 1.41-.59l7.78-7.78 2.81-2.81c.8-.78.8-2.07 0-2.86zM5.41 20L4 18.59l7.72-7.72 1.47 1.35L5.41 20z\"/>\n",
              "  </svg>\n",
              "      </button>\n",
              "      \n",
              "  <style>\n",
              "    .colab-df-container {\n",
              "      display:flex;\n",
              "      flex-wrap:wrap;\n",
              "      gap: 12px;\n",
              "    }\n",
              "\n",
              "    .colab-df-convert {\n",
              "      background-color: #E8F0FE;\n",
              "      border: none;\n",
              "      border-radius: 50%;\n",
              "      cursor: pointer;\n",
              "      display: none;\n",
              "      fill: #1967D2;\n",
              "      height: 32px;\n",
              "      padding: 0 0 0 0;\n",
              "      width: 32px;\n",
              "    }\n",
              "\n",
              "    .colab-df-convert:hover {\n",
              "      background-color: #E2EBFA;\n",
              "      box-shadow: 0px 1px 2px rgba(60, 64, 67, 0.3), 0px 1px 3px 1px rgba(60, 64, 67, 0.15);\n",
              "      fill: #174EA6;\n",
              "    }\n",
              "\n",
              "    [theme=dark] .colab-df-convert {\n",
              "      background-color: #3B4455;\n",
              "      fill: #D2E3FC;\n",
              "    }\n",
              "\n",
              "    [theme=dark] .colab-df-convert:hover {\n",
              "      background-color: #434B5C;\n",
              "      box-shadow: 0px 1px 3px 1px rgba(0, 0, 0, 0.15);\n",
              "      filter: drop-shadow(0px 1px 2px rgba(0, 0, 0, 0.3));\n",
              "      fill: #FFFFFF;\n",
              "    }\n",
              "  </style>\n",
              "\n",
              "      <script>\n",
              "        const buttonEl =\n",
              "          document.querySelector('#df-e2badf41-8420-446f-a41f-84c50006fee4 button.colab-df-convert');\n",
              "        buttonEl.style.display =\n",
              "          google.colab.kernel.accessAllowed ? 'block' : 'none';\n",
              "\n",
              "        async function convertToInteractive(key) {\n",
              "          const element = document.querySelector('#df-e2badf41-8420-446f-a41f-84c50006fee4');\n",
              "          const dataTable =\n",
              "            await google.colab.kernel.invokeFunction('convertToInteractive',\n",
              "                                                     [key], {});\n",
              "          if (!dataTable) return;\n",
              "\n",
              "          const docLinkHtml = 'Like what you see? Visit the ' +\n",
              "            '<a target=\"_blank\" href=https://colab.research.google.com/notebooks/data_table.ipynb>data table notebook</a>'\n",
              "            + ' to learn more about interactive tables.';\n",
              "          element.innerHTML = '';\n",
              "          dataTable['output_type'] = 'display_data';\n",
              "          await google.colab.output.renderOutput(dataTable, element);\n",
              "          const docLink = document.createElement('div');\n",
              "          docLink.innerHTML = docLinkHtml;\n",
              "          element.appendChild(docLink);\n",
              "        }\n",
              "      </script>\n",
              "    </div>\n",
              "  </div>\n",
              "  "
            ]
          },
          "metadata": {},
          "execution_count": 56
        }
      ]
    },
    {
      "cell_type": "code",
      "source": [
        "1430/9409"
      ],
      "metadata": {
        "colab": {
          "base_uri": "https://localhost:8080/"
        },
        "id": "pn2A4DAOKq_G",
        "outputId": "4f1ab6d7-3127-408a-e43c-0027bf7407c7"
      },
      "execution_count": 58,
      "outputs": [
        {
          "output_type": "execute_result",
          "data": {
            "text/plain": [
              "0.15198214475502178"
            ]
          },
          "metadata": {},
          "execution_count": 58
        }
      ]
    },
    {
      "cell_type": "code",
      "source": [
        "df_sea_people = df_sea.loc['대천해수욕장']\n",
        "df_sea_people = pd.DataFrame(df_sea_people)\n",
        "df_sea_people.reset_index(inplace = True)\n",
        "df_sea_people.columns = [\"년도\", '방문객']\n",
        "\n",
        "sns.barplot(x='년도', y='방문객', data=df_sea_people)\n",
        "plt.ticklabel_format(style='plain', axis='y')\n",
        "plt.title('대천 해수욕장 방문객 추이')\n",
        "plt.xticks(rotation = 90)\n",
        "plt.ylim(500000,20000000)\n",
        "\n",
        "plt.show()"
      ],
      "metadata": {
        "colab": {
          "base_uri": "https://localhost:8080/",
          "height": 489
        },
        "id": "OMqgB90aegVB",
        "outputId": "c9739f9e-0edc-446b-e313-bbba767e1f0c"
      },
      "execution_count": 20,
      "outputs": [
        {
          "output_type": "display_data",
          "data": {
            "text/plain": [
              "<Figure size 640x480 with 1 Axes>"
            ],
            "image/png": "[encoded data removed]"
          },
          "metadata": {}
        }
      ]
    },
    {
      "cell_type": "code",
      "execution_count": null,
      "metadata": {
        "id": "UH2IJOrkJWoL"
      },
      "outputs": [],
      "source": [
        "df_sea_people"
      ]
    },
    {
      "cell_type": "code",
      "execution_count": null,
      "metadata": {
        "id": "sqdGMNACN30L"
      },
      "outputs": [],
      "source": [
        "14382110.0/16742511.0"
      ]
    },
    {
      "cell_type": "code",
      "execution_count": null,
      "metadata": {
        "id": "K0iKkpqT09Oz"
      },
      "outputs": [],
      "source": [
        "sns.regplot(data=df_seosan_grouped, x='년도', y='교통량',robust=True)\n",
        "plt.show()"
      ]
    },
    {
      "cell_type": "code",
      "execution_count": null,
      "metadata": {
        "id": "oJpFRiTPIvtw"
      },
      "outputs": [],
      "source": [
        "plt.figure(figsize=(12, 6))\n",
        "sns.barplot(x='년도', y='교통량', data=df_gosok)\n",
        "plt.title('영업소별 월별 교통량')\n",
        "plt.show()"
      ]
    },
    {
      "cell_type": "code",
      "execution_count": null,
      "metadata": {
        "id": "UZ0YYuETwmXO"
      },
      "outputs": [],
      "source": []
    },
    {
      "cell_type": "code",
      "execution_count": null,
      "metadata": {
        "id": "I0hlxLpa09pj"
      },
      "outputs": [],
      "source": [
        "import warnings"
      ]
    },
    {
      "cell_type": "code",
      "execution_count": null,
      "metadata": {
        "id": "hFBp20SrF1Je"
      },
      "outputs": [],
      "source": [
        "df_grouped.head()"
      ]
    },
    {
      "cell_type": "code",
      "execution_count": null,
      "metadata": {
        "id": "clrhofhxvmoQ"
      },
      "outputs": [],
      "source": [
        "df_seosan_grouped"
      ]
    },
    {
      "cell_type": "code",
      "execution_count": 26,
      "metadata": {
        "colab": {
          "base_uri": "https://localhost:8080/",
          "height": 236
        },
        "id": "TtJsWlyY0_qq",
        "outputId": "be08582c-44d5-454e-cdba-7dcf8b007d2b"
      },
      "outputs": [
        {
          "output_type": "error",
          "ename": "NameError",
          "evalue": "ignored",
          "traceback": [
            "\u001b[0;31m---------------------------------------------------------------------------\u001b[0m",
            "\u001b[0;31mNameError\u001b[0m                                 Traceback (most recent call last)",
            "\u001b[0;32m<ipython-input-26-7304357f33b9>\u001b[0m in \u001b[0;36m<cell line: 10>\u001b[0;34m()\u001b[0m\n\u001b[1;32m      8\u001b[0m \u001b[0;34m\u001b[0m\u001b[0m\n\u001b[1;32m      9\u001b[0m \u001b[0;34m\u001b[0m\u001b[0m\n\u001b[0;32m---> 10\u001b[0;31m \u001b[0mdf_manripo\u001b[0m \u001b[0;34m=\u001b[0m \u001b[0mdf_manripo\u001b[0m\u001b[0;34m.\u001b[0m\u001b[0mmerge\u001b[0m\u001b[0;34m(\u001b[0m\u001b[0mnews_taean_grouped\u001b[0m\u001b[0;34m,\u001b[0m \u001b[0mhow\u001b[0m \u001b[0;34m=\u001b[0m \u001b[0;34m'left'\u001b[0m\u001b[0;34m)\u001b[0m\u001b[0;34m\u001b[0m\u001b[0;34m\u001b[0m\u001b[0m\n\u001b[0m\u001b[1;32m     11\u001b[0m \u001b[0mdf_manripo\u001b[0m \u001b[0;34m=\u001b[0m \u001b[0mdf_manripo\u001b[0m\u001b[0;34m.\u001b[0m\u001b[0mfillna\u001b[0m\u001b[0;34m(\u001b[0m\u001b[0;36m571\u001b[0m\u001b[0;34m)\u001b[0m\u001b[0;34m\u001b[0m\u001b[0;34m\u001b[0m\u001b[0m\n\u001b[1;32m     12\u001b[0m \u001b[0msns\u001b[0m\u001b[0;34m.\u001b[0m\u001b[0mheatmap\u001b[0m\u001b[0;34m(\u001b[0m\u001b[0mdf_manripo\u001b[0m\u001b[0;34m.\u001b[0m\u001b[0mcorr\u001b[0m\u001b[0;34m(\u001b[0m\u001b[0;34m)\u001b[0m\u001b[0;34m,\u001b[0m \u001b[0mcmap\u001b[0m \u001b[0;34m=\u001b[0m \u001b[0;34m'summer'\u001b[0m\u001b[0;34m,\u001b[0m \u001b[0mannot\u001b[0m \u001b[0;34m=\u001b[0m \u001b[0;32mTrue\u001b[0m\u001b[0;34m)\u001b[0m\u001b[0;34m\u001b[0m\u001b[0;34m\u001b[0m\u001b[0m\n",
            "\u001b[0;31mNameError\u001b[0m: name 'df_manripo' is not defined"
          ]
        }
      ],
      "source": [
        "# 해수욕장 상관관계 및 히트맵 분석\n",
        "\n",
        "\n",
        "df_sea_people = df_sea.loc['만리포해수욕장']\n",
        "df_sea_people = pd.DataFrame(df_sea_people)\n",
        "df_sea_people.reset_index(inplace = True)\n",
        "df_sea_people.columns = [\"년도\", '방문객']\n",
        "\n",
        "\n",
        "df_manripo = df_manripo.merge(news_taean_grouped, how = 'left')\n",
        "df_manripo = df_manripo.fillna(571)\n",
        "sns.heatmap(df_manripo.corr(), cmap = 'summer', annot = True)\n",
        "plt.show()"
      ]
    },
    {
      "cell_type": "code",
      "execution_count": null,
      "metadata": {
        "id": "eJIh0AHFWuuR"
      },
      "outputs": [],
      "source": [
        "# 노재팬 상관관계 및 히트맵 분석\n",
        "\n",
        "sns.heatmap(df_uniqlo.corr(), cmap = 'summer', annot = True)\n"
      ]
    },
    {
      "cell_type": "code",
      "execution_count": null,
      "metadata": {
        "id": "sI0F06vxYZxM"
      },
      "outputs": [],
      "source": [
        "import pandas as pd\n",
        "\n",
        "df_manripo\n",
        "# 두 데이터프레임을 합침\n",
        "df_merged = pd.concat((df_manripo, df_uniqlo_4))\n",
        "# 상관계수 행렬 계산\n",
        "corr_matrix = df_merged.corr()\n",
        "print(corr_matrix)\n"
      ]
    },
    {
      "cell_type": "code",
      "execution_count": 22,
      "metadata": {
        "colab": {
          "base_uri": "https://localhost:8080/",
          "height": 449
        },
        "id": "11UC4xymWqRW",
        "outputId": "ba885dac-2464-46ad-938a-c8ab24f66a21"
      },
      "outputs": [
        {
          "output_type": "display_data",
          "data": {
            "text/plain": [
              "<Figure size 640x480 with 1 Axes>"
            ],
            "image/png": "[encoded data removed]"
          },
          "metadata": {}
        }
      ],
      "source": [
        "# 태안 뉴스 기사 \n",
        "\n",
        "news_taean = pd.read_csv('/content/drive/MyDrive/Colab Notebooks/data/1차프로젝트_태안_뉴스/Tae.csv')\n",
        "news_taean = news_taean.iloc[:,1:]\n",
        "news_taean.columns = ['년도', '월', '뉴스기사수']\n",
        "\n",
        "\n",
        "# 태안 뉴스 컬럼 이름 변경\n",
        "news_taean.columns = ['년도', '월', '뉴스기사수']\n",
        "news_taean_grouped = news_taean.groupby(['년도', '월'])['뉴스기사수'].sum()\n",
        "\n",
        "# 두 번째 서브플롯에 대한 바 차트 그리기\n",
        "sns.barplot(x='년도', y='뉴스기사수', hue='월', data=news_taean_grouped.reset_index())\n",
        "\n",
        "\n",
        "plt.show()"
      ]
    },
    {
      "cell_type": "code",
      "source": [
        "news_taean_grouped"
      ],
      "metadata": {
        "colab": {
          "base_uri": "https://localhost:8080/",
          "height": 143
        },
        "id": "Xp4RWRP1Dods",
        "outputId": "2d3af48c-f454-4fd3-92b1-843775f629aa"
      },
      "execution_count": 28,
      "outputs": [
        {
          "output_type": "execute_result",
          "data": {
            "text/plain": [
              "     년도  뉴스기사수\n",
              "0  2007   3496\n",
              "1  2008   6625\n",
              "2  2009    936"
            ],
            "text/html": [
              "\n",
              "  <div id=\"df-6c252eb5-89e7-46b9-a3df-68f2612b86b1\">\n",
              "    <div class=\"colab-df-container\">\n",
              "      <div>\n",
              "<style scoped>\n",
              "    .dataframe tbody tr th:only-of-type {\n",
              "        vertical-align: middle;\n",
              "    }\n",
              "\n",
              "    .dataframe tbody tr th {\n",
              "        vertical-align: top;\n",
              "    }\n",
              "\n",
              "    .dataframe thead th {\n",
              "        text-align: right;\n",
              "    }\n",
              "</style>\n",
              "<table border=\"1\" class=\"dataframe\">\n",
              "  <thead>\n",
              "    <tr style=\"text-align: right;\">\n",
              "      <th></th>\n",
              "      <th>년도</th>\n",
              "      <th>뉴스기사수</th>\n",
              "    </tr>\n",
              "  </thead>\n",
              "  <tbody>\n",
              "    <tr>\n",
              "      <th>0</th>\n",
              "      <td>2007</td>\n",
              "      <td>3496</td>\n",
              "    </tr>\n",
              "    <tr>\n",
              "      <th>1</th>\n",
              "      <td>2008</td>\n",
              "      <td>6625</td>\n",
              "    </tr>\n",
              "    <tr>\n",
              "      <th>2</th>\n",
              "      <td>2009</td>\n",
              "      <td>936</td>\n",
              "    </tr>\n",
              "  </tbody>\n",
              "</table>\n",
              "</div>\n",
              "      <button class=\"colab-df-convert\" onclick=\"convertToInteractive('df-6c252eb5-89e7-46b9-a3df-68f2612b86b1')\"\n",
              "              title=\"Convert this dataframe to an interactive table.\"\n",
              "              style=\"display:none;\">\n",
              "        \n",
              "  <svg xmlns=\"http://www.w3.org/2000/svg\" height=\"24px\"viewBox=\"0 0 24 24\"\n",
              "       width=\"24px\">\n",
              "    <path d=\"M0 0h24v24H0V0z\" fill=\"none\"/>\n",
              "    <path d=\"M18.56 5.44l.94 2.06.94-2.06 2.06-.94-2.06-.94-.94-2.06-.94 2.06-2.06.94zm-11 1L8.5 8.5l.94-2.06 2.06-.94-2.06-.94L8.5 2.5l-.94 2.06-2.06.94zm10 10l.94 2.06.94-2.06 2.06-.94-2.06-.94-.94-2.06-.94 2.06-2.06.94z\"/><path d=\"M17.41 7.96l-1.37-1.37c-.4-.4-.92-.59-1.43-.59-.52 0-1.04.2-1.43.59L10.3 9.45l-7.72 7.72c-.78.78-.78 2.05 0 2.83L4 21.41c.39.39.9.59 1.41.59.51 0 1.02-.2 1.41-.59l7.78-7.78 2.81-2.81c.8-.78.8-2.07 0-2.86zM5.41 20L4 18.59l7.72-7.72 1.47 1.35L5.41 20z\"/>\n",
              "  </svg>\n",
              "      </button>\n",
              "      \n",
              "  <style>\n",
              "    .colab-df-container {\n",
              "      display:flex;\n",
              "      flex-wrap:wrap;\n",
              "      gap: 12px;\n",
              "    }\n",
              "\n",
              "    .colab-df-convert {\n",
              "      background-color: #E8F0FE;\n",
              "      border: none;\n",
              "      border-radius: 50%;\n",
              "      cursor: pointer;\n",
              "      display: none;\n",
              "      fill: #1967D2;\n",
              "      height: 32px;\n",
              "      padding: 0 0 0 0;\n",
              "      width: 32px;\n",
              "    }\n",
              "\n",
              "    .colab-df-convert:hover {\n",
              "      background-color: #E2EBFA;\n",
              "      box-shadow: 0px 1px 2px rgba(60, 64, 67, 0.3), 0px 1px 3px 1px rgba(60, 64, 67, 0.15);\n",
              "      fill: #174EA6;\n",
              "    }\n",
              "\n",
              "    [theme=dark] .colab-df-convert {\n",
              "      background-color: #3B4455;\n",
              "      fill: #D2E3FC;\n",
              "    }\n",
              "\n",
              "    [theme=dark] .colab-df-convert:hover {\n",
              "      background-color: #434B5C;\n",
              "      box-shadow: 0px 1px 3px 1px rgba(0, 0, 0, 0.15);\n",
              "      filter: drop-shadow(0px 1px 2px rgba(0, 0, 0, 0.3));\n",
              "      fill: #FFFFFF;\n",
              "    }\n",
              "  </style>\n",
              "\n",
              "      <script>\n",
              "        const buttonEl =\n",
              "          document.querySelector('#df-6c252eb5-89e7-46b9-a3df-68f2612b86b1 button.colab-df-convert');\n",
              "        buttonEl.style.display =\n",
              "          google.colab.kernel.accessAllowed ? 'block' : 'none';\n",
              "\n",
              "        async function convertToInteractive(key) {\n",
              "          const element = document.querySelector('#df-6c252eb5-89e7-46b9-a3df-68f2612b86b1');\n",
              "          const dataTable =\n",
              "            await google.colab.kernel.invokeFunction('convertToInteractive',\n",
              "                                                     [key], {});\n",
              "          if (!dataTable) return;\n",
              "\n",
              "          const docLinkHtml = 'Like what you see? Visit the ' +\n",
              "            '<a target=\"_blank\" href=https://colab.research.google.com/notebooks/data_table.ipynb>data table notebook</a>'\n",
              "            + ' to learn more about interactive tables.';\n",
              "          element.innerHTML = '';\n",
              "          dataTable['output_type'] = 'display_data';\n",
              "          await google.colab.output.renderOutput(dataTable, element);\n",
              "          const docLink = document.createElement('div');\n",
              "          docLink.innerHTML = docLinkHtml;\n",
              "          element.appendChild(docLink);\n",
              "        }\n",
              "      </script>\n",
              "    </div>\n",
              "  </div>\n",
              "  "
            ]
          },
          "metadata": {},
          "execution_count": 28
        }
      ]
    },
    {
      "cell_type": "code",
      "execution_count": 25,
      "metadata": {
        "id": "8FPXhQYx3xo_"
      },
      "outputs": [],
      "source": [
        "# \n",
        "# df_seosan_grouped['년도'] = df_seosan_grouped['년도'].astype(str)\n",
        "news_taean_grouped['년도'] = news_taean_grouped['년도'].astype(str)"
      ]
    },
    {
      "cell_type": "code",
      "execution_count": null,
      "metadata": {
        "id": "ppzEEaoGEyd4"
      },
      "outputs": [],
      "source": [
        "# --------------세월호----------------\n",
        "\n",
        "df_jeju = {\"년도\"  : ['2013', '2014', '2015', '2016', '2017', '2018', '2019', '2020', '2021', '2022'],\n",
        "           \"비행기 승객수\" : [15301941, 17110602, 19268232, 21160741, 21465025, 20526958, 20957815, 15184105, 18378510, np.nan],\n",
        "           \"여객선 승객수\" : [1303404, 1255261, 1560073, 1630941, 2112974, 1566178, 1943010, 1305745, 1588287,np.nan],\n",
        "           \"관광객수\" : [8517417, 8945601, 11040135, 12254550, 13522632, 13089129, 13560004, 10023678, 11960159, 13803058]}"
      ]
    },
    {
      "cell_type": "code",
      "execution_count": null,
      "metadata": {
        "id": "D5WcN__TQV96"
      },
      "outputs": [],
      "source": [
        "df_jeju = pd.DataFrame(df_jeju)"
      ]
    },
    {
      "cell_type": "code",
      "execution_count": null,
      "metadata": {
        "id": "S-YcfK-riV6B"
      },
      "outputs": [],
      "source": [
        "\n",
        "df_jeju = df_jeju.set_index('년도')\n",
        "\n",
        "# 그래프 그리기\n",
        "fig, ax1 = plt.subplots(figsize=(10, 5))\n",
        "ax1.bar(df_jeju.index, df_jeju['비행기 승객수'], color='red', alpha=0.5, label='Number of Passengers by Plane')\n",
        "ax1.set_title('Jeju Island Tourists by Year')\n",
        "ax1.set_xlabel('Year')\n",
        "ax1.set_ylabel('Number of Passengers by Plane')\n",
        "ax1.legend(loc='upper left')\n",
        "\n",
        "ax2 = ax1.twinx()\n",
        "ax2.bar(df_jeju.index, df_jeju['여객선 승객수'], color='blue', alpha=0.5, label='Number of Passengers by Ship')\n",
        "ax2.set_ylabel('Number of Passengers by Ship')\n",
        "ax2.legend(loc='upper right')\n",
        "\n",
        "ax3 = ax1.twinx()\n",
        "ax3.plot(df_jeju.index, df_jeju['관광객수'], color='green', alpha=0.7, label='Number of Tourists')\n",
        "ax3.set_ylabel('Number of Tourists')\n",
        "ax3.spines['right'].set_position(('axes', 1.1))\n",
        "ax3.yaxis.set_label_coords(1.2, 0.5)\n",
        "ax\n"
      ]
    },
    {
      "cell_type": "code",
      "execution_count": null,
      "metadata": {
        "id": "7Fn5eUZ84gHp"
      },
      "outputs": [],
      "source": [
        "# --------------세월호----------------"
      ]
    },
    {
      "cell_type": "code",
      "execution_count": null,
      "metadata": {
        "id": "to4P2tBhREkM"
      },
      "outputs": [],
      "source": [
        "import matplotlib.pyplot as plt\n",
        "\n",
        "# 데이터\n",
        "labels = ['이미지 손상을 주었다', '이미지 손상을 주지 않았다', '잘 모르겠다']\n",
        "sizes = [87.3, 9.7, 3]\n",
        "\n",
        "# 파이 그래프 그리기\n",
        "plt.pie(sizes, labels=labels, autopct='%.1f%%', startangle=90)\n",
        "\n",
        "# 그래프 타이틀 추가\n",
        "plt.title('태안 이미지 인식 변화')\n",
        "\n",
        "# 그래프 출력\n",
        "plt.show()\n"
      ]
    },
    {
      "cell_type": "code",
      "execution_count": 34,
      "metadata": {
        "id": "gmDfRHgiz_ny"
      },
      "outputs": [],
      "source": [
        "temp1,temp2, temp3 = [], [], []\n",
        "temp1 = news_taean.iloc[:10,2].sum()\n",
        "temp2 = news_taean.iloc[10:22,2].sum()\n",
        "temp3 = news_taean.iloc[22:,2].sum()\n",
        "temp3 = temp3+729"
      ]
    },
    {
      "cell_type": "code",
      "source": [
        "news_taean"
      ],
      "metadata": {
        "id": "Q9GqbfqAG7ii"
      },
      "execution_count": null,
      "outputs": []
    },
    {
      "cell_type": "code",
      "execution_count": 23,
      "metadata": {
        "id": "4IUb0USlZ2fl"
      },
      "outputs": [],
      "source": [
        "news_taean_grouped = news_taean.groupby(['년도'])['뉴스기사수'].sum().reset_index()"
      ]
    },
    {
      "cell_type": "code",
      "source": [
        "news_t = news_taean.drop(columns = ['월'])\n",
        "news_t  =  news_t.iloc[[0,1,13],:]\n",
        "news_t.iloc[0,1] = temp1\n",
        "news_t.iloc[1,1] = temp2\n",
        "news_t.iloc[2,1] = temp3\n",
        "news_t\n",
        "news_t.iloc[0,0] = \"2008\"\n",
        "news_t.iloc[1,0] = \"2009\"\n",
        "news_t.iloc[2,0] = \"2010\"\n",
        "news_t"
      ],
      "metadata": {
        "colab": {
          "base_uri": "https://localhost:8080/",
          "height": 143
        },
        "id": "sDDS2BNvGApd",
        "outputId": "645a9b0b-3599-4b09-86ea-770e3c9f3484"
      },
      "execution_count": 55,
      "outputs": [
        {
          "output_type": "execute_result",
          "data": {
            "text/plain": [
              "      년도  뉴스기사수\n",
              "0   2008   9409\n",
              "1   2009   1430\n",
              "13  2010    947"
            ],
            "text/html": [
              "\n",
              "  <div id=\"df-b8812a7b-8202-41f5-ae86-b6ceea2d3894\">\n",
              "    <div class=\"colab-df-container\">\n",
              "      <div>\n",
              "<style scoped>\n",
              "    .dataframe tbody tr th:only-of-type {\n",
              "        vertical-align: middle;\n",
              "    }\n",
              "\n",
              "    .dataframe tbody tr th {\n",
              "        vertical-align: top;\n",
              "    }\n",
              "\n",
              "    .dataframe thead th {\n",
              "        text-align: right;\n",
              "    }\n",
              "</style>\n",
              "<table border=\"1\" class=\"dataframe\">\n",
              "  <thead>\n",
              "    <tr style=\"text-align: right;\">\n",
              "      <th></th>\n",
              "      <th>년도</th>\n",
              "      <th>뉴스기사수</th>\n",
              "    </tr>\n",
              "  </thead>\n",
              "  <tbody>\n",
              "    <tr>\n",
              "      <th>0</th>\n",
              "      <td>2008</td>\n",
              "      <td>9409</td>\n",
              "    </tr>\n",
              "    <tr>\n",
              "      <th>1</th>\n",
              "      <td>2009</td>\n",
              "      <td>1430</td>\n",
              "    </tr>\n",
              "    <tr>\n",
              "      <th>13</th>\n",
              "      <td>2010</td>\n",
              "      <td>947</td>\n",
              "    </tr>\n",
              "  </tbody>\n",
              "</table>\n",
              "</div>\n",
              "      <button class=\"colab-df-convert\" onclick=\"convertToInteractive('df-b8812a7b-8202-41f5-ae86-b6ceea2d3894')\"\n",
              "              title=\"Convert this dataframe to an interactive table.\"\n",
              "              style=\"display:none;\">\n",
              "        \n",
              "  <svg xmlns=\"http://www.w3.org/2000/svg\" height=\"24px\"viewBox=\"0 0 24 24\"\n",
              "       width=\"24px\">\n",
              "    <path d=\"M0 0h24v24H0V0z\" fill=\"none\"/>\n",
              "    <path d=\"M18.56 5.44l.94 2.06.94-2.06 2.06-.94-2.06-.94-.94-2.06-.94 2.06-2.06.94zm-11 1L8.5 8.5l.94-2.06 2.06-.94-2.06-.94L8.5 2.5l-.94 2.06-2.06.94zm10 10l.94 2.06.94-2.06 2.06-.94-2.06-.94-.94-2.06-.94 2.06-2.06.94z\"/><path d=\"M17.41 7.96l-1.37-1.37c-.4-.4-.92-.59-1.43-.59-.52 0-1.04.2-1.43.59L10.3 9.45l-7.72 7.72c-.78.78-.78 2.05 0 2.83L4 21.41c.39.39.9.59 1.41.59.51 0 1.02-.2 1.41-.59l7.78-7.78 2.81-2.81c.8-.78.8-2.07 0-2.86zM5.41 20L4 18.59l7.72-7.72 1.47 1.35L5.41 20z\"/>\n",
              "  </svg>\n",
              "      </button>\n",
              "      \n",
              "  <style>\n",
              "    .colab-df-container {\n",
              "      display:flex;\n",
              "      flex-wrap:wrap;\n",
              "      gap: 12px;\n",
              "    }\n",
              "\n",
              "    .colab-df-convert {\n",
              "      background-color: #E8F0FE;\n",
              "      border: none;\n",
              "      border-radius: 50%;\n",
              "      cursor: pointer;\n",
              "      display: none;\n",
              "      fill: #1967D2;\n",
              "      height: 32px;\n",
              "      padding: 0 0 0 0;\n",
              "      width: 32px;\n",
              "    }\n",
              "\n",
              "    .colab-df-convert:hover {\n",
              "      background-color: #E2EBFA;\n",
              "      box-shadow: 0px 1px 2px rgba(60, 64, 67, 0.3), 0px 1px 3px 1px rgba(60, 64, 67, 0.15);\n",
              "      fill: #174EA6;\n",
              "    }\n",
              "\n",
              "    [theme=dark] .colab-df-convert {\n",
              "      background-color: #3B4455;\n",
              "      fill: #D2E3FC;\n",
              "    }\n",
              "\n",
              "    [theme=dark] .colab-df-convert:hover {\n",
              "      background-color: #434B5C;\n",
              "      box-shadow: 0px 1px 3px 1px rgba(0, 0, 0, 0.15);\n",
              "      filter: drop-shadow(0px 1px 2px rgba(0, 0, 0, 0.3));\n",
              "      fill: #FFFFFF;\n",
              "    }\n",
              "  </style>\n",
              "\n",
              "      <script>\n",
              "        const buttonEl =\n",
              "          document.querySelector('#df-b8812a7b-8202-41f5-ae86-b6ceea2d3894 button.colab-df-convert');\n",
              "        buttonEl.style.display =\n",
              "          google.colab.kernel.accessAllowed ? 'block' : 'none';\n",
              "\n",
              "        async function convertToInteractive(key) {\n",
              "          const element = document.querySelector('#df-b8812a7b-8202-41f5-ae86-b6ceea2d3894');\n",
              "          const dataTable =\n",
              "            await google.colab.kernel.invokeFunction('convertToInteractive',\n",
              "                                                     [key], {});\n",
              "          if (!dataTable) return;\n",
              "\n",
              "          const docLinkHtml = 'Like what you see? Visit the ' +\n",
              "            '<a target=\"_blank\" href=https://colab.research.google.com/notebooks/data_table.ipynb>data table notebook</a>'\n",
              "            + ' to learn more about interactive tables.';\n",
              "          element.innerHTML = '';\n",
              "          dataTable['output_type'] = 'display_data';\n",
              "          await google.colab.output.renderOutput(dataTable, element);\n",
              "          const docLink = document.createElement('div');\n",
              "          docLink.innerHTML = docLinkHtml;\n",
              "          element.appendChild(docLink);\n",
              "        }\n",
              "      </script>\n",
              "    </div>\n",
              "  </div>\n",
              "  "
            ]
          },
          "metadata": {},
          "execution_count": 55
        }
      ]
    },
    {
      "cell_type": "code",
      "execution_count": 36,
      "metadata": {
        "id": "x4DxBDzU0CmP",
        "colab": {
          "base_uri": "https://localhost:8080/"
        },
        "outputId": "a6d12930-3043-4275-c21d-4cffcc6b92a9"
      },
      "outputs": [
        {
          "output_type": "execute_result",
          "data": {
            "text/plain": [
              "Index(['년도', '월', '뉴스기사수'], dtype='object')"
            ]
          },
          "metadata": {},
          "execution_count": 36
        }
      ],
      "source": [
        "news_taean.columns"
      ]
    },
    {
      "cell_type": "code",
      "execution_count": null,
      "metadata": {
        "id": "aJQ8ImX_aneY"
      },
      "outputs": [],
      "source": [
        "df_sea_people = df_sea.reset_index()\n",
        "df_manri = df_sea_people.iloc[7,1:5]\n",
        "df_manri = pd.DataFrame(df_manri)\n",
        "df_manri = df_manri.reset_index()"
      ]
    },
    {
      "cell_type": "code",
      "execution_count": null,
      "metadata": {
        "id": "6P6o12SPa73K"
      },
      "outputs": [],
      "source": [
        "df_manri"
      ]
    },
    {
      "cell_type": "code",
      "execution_count": null,
      "metadata": {
        "id": "PFLEL32alJlr"
      },
      "outputs": [],
      "source": [
        "# 유니클로 데이터\n",
        "\n",
        "df_uniqlo = {\"년도\" : [\"2018\", \"2019\", \"2020\", \"2021\", \"2022\"],\n",
        "             \"매출액\" : [13732, 13781, 6298, 5824, 7043],\n",
        "             \"영업이익\" : [2343 ,1994, -884, 529, 1148],\n",
        "             \"기사수\" : [np.nan, 44952,10235,4072,1879]}\n",
        "df_uniqlo = pd.DataFrame(df_uniqlo)\n"
      ]
    },
    {
      "cell_type": "code",
      "source": [
        "6298/13781"
      ],
      "metadata": {
        "colab": {
          "base_uri": "https://localhost:8080/"
        },
        "id": "xS_ZmdRSPOGl",
        "outputId": "462a5233-bc31-42c8-ccf4-157fa35cbb0a"
      },
      "execution_count": 65,
      "outputs": [
        {
          "output_type": "execute_result",
          "data": {
            "text/plain": [
              "0.45700602278499386"
            ]
          },
          "metadata": {},
          "execution_count": 65
        }
      ]
    },
    {
      "cell_type": "code",
      "source": [
        "(10235)/44952"
      ],
      "metadata": {
        "colab": {
          "base_uri": "https://localhost:8080/"
        },
        "id": "nAINQApYPUg1",
        "outputId": "7a8f185b-97af-491c-f301-167fc9a7c654"
      },
      "execution_count": 66,
      "outputs": [
        {
          "output_type": "execute_result",
          "data": {
            "text/plain": [
              "0.2276873109094145"
            ]
          },
          "metadata": {},
          "execution_count": 66
        }
      ]
    },
    {
      "cell_type": "code",
      "execution_count": null,
      "metadata": {
        "id": "6oWlW7D5a81B"
      },
      "outputs": [],
      "source": [
        "# 유니클로 그래프\n",
        "\n",
        "fig, ax = plt.subplots(figsize=(10, 10))\n",
        "\n",
        "ax.bar(x = \"년도\", height = \"매출액\", data = df_uniqlo, color='red', alpha=0.5, label='매출액')\n",
        "\n",
        "ax.plot(df_uniqlo[\"년도\"], df_uniqlo[\"영업이익\"], color='green', alpha=0.8, label='영업이익')\n",
        "ax.plot(df_uniqlo[\"년도\"], df_uniqlo[\"기사수\"], color='blue', alpha=0.8, label='기사수')\n",
        "\n",
        "ax.set_title('유니클로의 년도별 매출액 및 영업이익')\n",
        "plt.show()"
      ]
    },
    {
      "cell_type": "code",
      "execution_count": null,
      "metadata": {
        "id": "UKCgYbFYeSz4"
      },
      "outputs": [],
      "source": [
        "# 유니클로 기사수 데이터\n",
        "\n",
        "df_nojapan = { \"년도\" : [2019, 2020, 2021, 2022],\n",
        "              \"기사수\" : [44952,10235,4072,1879]\n",
        "              }\n",
        "\n",
        "df_nojapan = pd.DataFrame(df_nojapan)"
      ]
    },
    {
      "cell_type": "code",
      "execution_count": null,
      "metadata": {
        "id": "OQ4fNVmL3gga"
      },
      "outputs": [],
      "source": [
        "3962+3971+3979+3779+3446+3726+3412+3291+3667+3169+3739+3601+1210"
      ]
    },
    {
      "cell_type": "code",
      "execution_count": null,
      "metadata": {
        "id": "9P2OxiMTvBR2"
      },
      "outputs": [],
      "source": [
        "\n",
        "import matplotlib.pyplot as plt\n",
        "\n",
        "df_nojapan.plot(x='년도', y='기사수', kind='bar')\n",
        "plt.show()\n"
      ]
    },
    {
      "cell_type": "code",
      "execution_count": 77,
      "metadata": {
        "colab": {
          "base_uri": "https://localhost:8080/"
        },
        "id": "98anSqltkKfF",
        "outputId": "41ca3dbe-6121-44ad-f8d4-f710a1f51d0c"
      },
      "outputs": [
        {
          "output_type": "stream",
          "name": "stdout",
          "text": [
            "<class 'pandas.core.frame.DataFrame'>\n",
            "RangeIndex: 2281 entries, 0 to 2280\n",
            "Data columns (total 8 columns):\n",
            " #   Column      Non-Null Count  Dtype  \n",
            "---  ------      --------------  -----  \n",
            " 0   Unnamed: 0  2281 non-null   int64  \n",
            " 1   사용일자        2281 non-null   float64\n",
            " 2   노선명         2281 non-null   object \n",
            " 3   역명          2281 non-null   object \n",
            " 4   승차총승객수      2281 non-null   float64\n",
            " 5   하차총승객수      2281 non-null   int64  \n",
            " 6   등록일자        2281 non-null   float64\n",
            " 7   년도          2281 non-null   int64  \n",
            "dtypes: float64(3), int64(3), object(2)\n",
            "memory usage: 142.7+ KB\n"
          ]
        }
      ],
      "source": [
        "df_itawon = pd.read_csv('/content/drive/MyDrive/Colab Notebooks/data/1차 프로젝트_이태원_지하철/이태원_지하철 이용객.csv')\n",
        "df_itawon.info()"
      ]
    },
    {
      "cell_type": "code",
      "execution_count": null,
      "metadata": {
        "id": "2-Gky4NykQNx"
      },
      "outputs": [],
      "source": [
        "df_itawon = df_itawon.drop(columns = ['Unnamed: 0'])\n"
      ]
    },
    {
      "cell_type": "code",
      "source": [
        "df_itawon['사용일자'].astype(int)\n",
        "df_itawon['승차총승객수'].astype(int)\n",
        "\n",
        "# '집계일자' 열을 datetime 타입으로 변환\n",
        "df_itawon['사용일자'] = pd.to_datetime(df_itawon['사용일자'], format='%Y%m%d')\n",
        "\n",
        "# '년도', '월', '일' 열 생성\n",
        "df_itawon['년도'] = df_itawon['사용일자'].dt.year\n",
        "df_itawon['월'] = df_itawon['사용일자'].dt.month\n",
        "df_itawon['일'] = df_itawon['사용일자'].dt.day\n",
        "df_itawon = df_itawon[ (df_itawon['년도']==2022) | (df_itawon['년도']==2023) ].reset_index(drop = True)\n",
        "df_itawon['총승객수'] = df_itawon['승차총승객수'] + df_itawon['하차총승객수']\n",
        "df_itawon.groupby(['년도'], ['월'])['총승객수'].sum()"
      ],
      "metadata": {
        "colab": {
          "base_uri": "https://localhost:8080/",
          "height": 424
        },
        "id": "eqKBMozeUa4Q",
        "outputId": "3e9c3684-d869-4898-f950-ad61e7777b46"
      },
      "execution_count": 82,
      "outputs": [
        {
          "output_type": "execute_result",
          "data": {
            "text/plain": [
              "          사용일자  노선명   역명   승차총승객수  하차총승객수        등록일자    년도  월   일     총승객수\n",
              "0   2022-01-01  6호선  이태원   7952.0    7914  20220104.0  2022  1   1  15866.0\n",
              "1   2022-01-02  6호선  이태원   7271.0    6801  20220105.0  2022  1   2  14072.0\n",
              "2   2022-01-03  6호선  이태원   8093.0    7947  20220106.0  2022  1   3  16040.0\n",
              "3   2022-01-04  6호선  이태원   8286.0    8343  20220107.0  2022  1   4  16629.0\n",
              "4   2022-01-05  6호선  이태원   8686.0    8739  20220108.0  2022  1   5  17425.0\n",
              "..         ...  ...  ...      ...     ...         ...   ... ..  ..      ...\n",
              "450 2023-03-27  6호선  이태원  10852.0   10876  20230330.0  2023  3  27  21728.0\n",
              "451 2023-03-28  6호선  이태원  11457.0   11489  20230331.0  2023  3  28  22946.0\n",
              "452 2023-03-29  6호선  이태원  11408.0   11711  20230401.0  2023  3  29  23119.0\n",
              "453 2023-03-30  6호선  이태원  11611.0   11975  20230402.0  2023  3  30  23586.0\n",
              "454 2023-03-31  6호선  이태원  13554.0   15382  20230403.0  2023  3  31  28936.0\n",
              "\n",
              "[455 rows x 10 columns]"
            ],
            "text/html": [
              "\n",
              "  <div id=\"df-9193fa98-d626-412b-b7da-d040e2b37cb0\">\n",
              "    <div class=\"colab-df-container\">\n",
              "      <div>\n",
              "<style scoped>\n",
              "    .dataframe tbody tr th:only-of-type {\n",
              "        vertical-align: middle;\n",
              "    }\n",
              "\n",
              "    .dataframe tbody tr th {\n",
              "        vertical-align: top;\n",
              "    }\n",
              "\n",
              "    .dataframe thead th {\n",
              "        text-align: right;\n",
              "    }\n",
              "</style>\n",
              "<table border=\"1\" class=\"dataframe\">\n",
              "  <thead>\n",
              "    <tr style=\"text-align: right;\">\n",
              "      <th></th>\n",
              "      <th>사용일자</th>\n",
              "      <th>노선명</th>\n",
              "      <th>역명</th>\n",
              "      <th>승차총승객수</th>\n",
              "      <th>하차총승객수</th>\n",
              "      <th>등록일자</th>\n",
              "      <th>년도</th>\n",
              "      <th>월</th>\n",
              "      <th>일</th>\n",
              "      <th>총승객수</th>\n",
              "    </tr>\n",
              "  </thead>\n",
              "  <tbody>\n",
              "    <tr>\n",
              "      <th>0</th>\n",
              "      <td>2022-01-01</td>\n",
              "      <td>6호선</td>\n",
              "      <td>이태원</td>\n",
              "      <td>7952.0</td>\n",
              "      <td>7914</td>\n",
              "      <td>20220104.0</td>\n",
              "      <td>2022</td>\n",
              "      <td>1</td>\n",
              "      <td>1</td>\n",
              "      <td>15866.0</td>\n",
              "    </tr>\n",
              "    <tr>\n",
              "      <th>1</th>\n",
              "      <td>2022-01-02</td>\n",
              "      <td>6호선</td>\n",
              "      <td>이태원</td>\n",
              "      <td>7271.0</td>\n",
              "      <td>6801</td>\n",
              "      <td>20220105.0</td>\n",
              "      <td>2022</td>\n",
              "      <td>1</td>\n",
              "      <td>2</td>\n",
              "      <td>14072.0</td>\n",
              "    </tr>\n",
              "    <tr>\n",
              "      <th>2</th>\n",
              "      <td>2022-01-03</td>\n",
              "      <td>6호선</td>\n",
              "      <td>이태원</td>\n",
              "      <td>8093.0</td>\n",
              "      <td>7947</td>\n",
              "      <td>20220106.0</td>\n",
              "      <td>2022</td>\n",
              "      <td>1</td>\n",
              "      <td>3</td>\n",
              "      <td>16040.0</td>\n",
              "    </tr>\n",
              "    <tr>\n",
              "      <th>3</th>\n",
              "      <td>2022-01-04</td>\n",
              "      <td>6호선</td>\n",
              "      <td>이태원</td>\n",
              "      <td>8286.0</td>\n",
              "      <td>8343</td>\n",
              "      <td>20220107.0</td>\n",
              "      <td>2022</td>\n",
              "      <td>1</td>\n",
              "      <td>4</td>\n",
              "      <td>16629.0</td>\n",
              "    </tr>\n",
              "    <tr>\n",
              "      <th>4</th>\n",
              "      <td>2022-01-05</td>\n",
              "      <td>6호선</td>\n",
              "      <td>이태원</td>\n",
              "      <td>8686.0</td>\n",
              "      <td>8739</td>\n",
              "      <td>20220108.0</td>\n",
              "      <td>2022</td>\n",
              "      <td>1</td>\n",
              "      <td>5</td>\n",
              "      <td>17425.0</td>\n",
              "    </tr>\n",
              "    <tr>\n",
              "      <th>...</th>\n",
              "      <td>...</td>\n",
              "      <td>...</td>\n",
              "      <td>...</td>\n",
              "      <td>...</td>\n",
              "      <td>...</td>\n",
              "      <td>...</td>\n",
              "      <td>...</td>\n",
              "      <td>...</td>\n",
              "      <td>...</td>\n",
              "      <td>...</td>\n",
              "    </tr>\n",
              "    <tr>\n",
              "      <th>450</th>\n",
              "      <td>2023-03-27</td>\n",
              "      <td>6호선</td>\n",
              "      <td>이태원</td>\n",
              "      <td>10852.0</td>\n",
              "      <td>10876</td>\n",
              "      <td>20230330.0</td>\n",
              "      <td>2023</td>\n",
              "      <td>3</td>\n",
              "      <td>27</td>\n",
              "      <td>21728.0</td>\n",
              "    </tr>\n",
              "    <tr>\n",
              "      <th>451</th>\n",
              "      <td>2023-03-28</td>\n",
              "      <td>6호선</td>\n",
              "      <td>이태원</td>\n",
              "      <td>11457.0</td>\n",
              "      <td>11489</td>\n",
              "      <td>20230331.0</td>\n",
              "      <td>2023</td>\n",
              "      <td>3</td>\n",
              "      <td>28</td>\n",
              "      <td>22946.0</td>\n",
              "    </tr>\n",
              "    <tr>\n",
              "      <th>452</th>\n",
              "      <td>2023-03-29</td>\n",
              "      <td>6호선</td>\n",
              "      <td>이태원</td>\n",
              "      <td>11408.0</td>\n",
              "      <td>11711</td>\n",
              "      <td>20230401.0</td>\n",
              "      <td>2023</td>\n",
              "      <td>3</td>\n",
              "      <td>29</td>\n",
              "      <td>23119.0</td>\n",
              "    </tr>\n",
              "    <tr>\n",
              "      <th>453</th>\n",
              "      <td>2023-03-30</td>\n",
              "      <td>6호선</td>\n",
              "      <td>이태원</td>\n",
              "      <td>11611.0</td>\n",
              "      <td>11975</td>\n",
              "      <td>20230402.0</td>\n",
              "      <td>2023</td>\n",
              "      <td>3</td>\n",
              "      <td>30</td>\n",
              "      <td>23586.0</td>\n",
              "    </tr>\n",
              "    <tr>\n",
              "      <th>454</th>\n",
              "      <td>2023-03-31</td>\n",
              "      <td>6호선</td>\n",
              "      <td>이태원</td>\n",
              "      <td>13554.0</td>\n",
              "      <td>15382</td>\n",
              "      <td>20230403.0</td>\n",
              "      <td>2023</td>\n",
              "      <td>3</td>\n",
              "      <td>31</td>\n",
              "      <td>28936.0</td>\n",
              "    </tr>\n",
              "  </tbody>\n",
              "</table>\n",
              "<p>455 rows × 10 columns</p>\n",
              "</div>\n",
              "      <button class=\"colab-df-convert\" onclick=\"convertToInteractive('df-9193fa98-d626-412b-b7da-d040e2b37cb0')\"\n",
              "              title=\"Convert this dataframe to an interactive table.\"\n",
              "              style=\"display:none;\">\n",
              "        \n",
              "  <svg xmlns=\"http://www.w3.org/2000/svg\" height=\"24px\"viewBox=\"0 0 24 24\"\n",
              "       width=\"24px\">\n",
              "    <path d=\"M0 0h24v24H0V0z\" fill=\"none\"/>\n",
              "    <path d=\"M18.56 5.44l.94 2.06.94-2.06 2.06-.94-2.06-.94-.94-2.06-.94 2.06-2.06.94zm-11 1L8.5 8.5l.94-2.06 2.06-.94-2.06-.94L8.5 2.5l-.94 2.06-2.06.94zm10 10l.94 2.06.94-2.06 2.06-.94-2.06-.94-.94-2.06-.94 2.06-2.06.94z\"/><path d=\"M17.41 7.96l-1.37-1.37c-.4-.4-.92-.59-1.43-.59-.52 0-1.04.2-1.43.59L10.3 9.45l-7.72 7.72c-.78.78-.78 2.05 0 2.83L4 21.41c.39.39.9.59 1.41.59.51 0 1.02-.2 1.41-.59l7.78-7.78 2.81-2.81c.8-.78.8-2.07 0-2.86zM5.41 20L4 18.59l7.72-7.72 1.47 1.35L5.41 20z\"/>\n",
              "  </svg>\n",
              "      </button>\n",
              "      \n",
              "  <style>\n",
              "    .colab-df-container {\n",
              "      display:flex;\n",
              "      flex-wrap:wrap;\n",
              "      gap: 12px;\n",
              "    }\n",
              "\n",
              "    .colab-df-convert {\n",
              "      background-color: #E8F0FE;\n",
              "      border: none;\n",
              "      border-radius: 50%;\n",
              "      cursor: pointer;\n",
              "      display: none;\n",
              "      fill: #1967D2;\n",
              "      height: 32px;\n",
              "      padding: 0 0 0 0;\n",
              "      width: 32px;\n",
              "    }\n",
              "\n",
              "    .colab-df-convert:hover {\n",
              "      background-color: #E2EBFA;\n",
              "      box-shadow: 0px 1px 2px rgba(60, 64, 67, 0.3), 0px 1px 3px 1px rgba(60, 64, 67, 0.15);\n",
              "      fill: #174EA6;\n",
              "    }\n",
              "\n",
              "    [theme=dark] .colab-df-convert {\n",
              "      background-color: #3B4455;\n",
              "      fill: #D2E3FC;\n",
              "    }\n",
              "\n",
              "    [theme=dark] .colab-df-convert:hover {\n",
              "      background-color: #434B5C;\n",
              "      box-shadow: 0px 1px 3px 1px rgba(0, 0, 0, 0.15);\n",
              "      filter: drop-shadow(0px 1px 2px rgba(0, 0, 0, 0.3));\n",
              "      fill: #FFFFFF;\n",
              "    }\n",
              "  </style>\n",
              "\n",
              "      <script>\n",
              "        const buttonEl =\n",
              "          document.querySelector('#df-9193fa98-d626-412b-b7da-d040e2b37cb0 button.colab-df-convert');\n",
              "        buttonEl.style.display =\n",
              "          google.colab.kernel.accessAllowed ? 'block' : 'none';\n",
              "\n",
              "        async function convertToInteractive(key) {\n",
              "          const element = document.querySelector('#df-9193fa98-d626-412b-b7da-d040e2b37cb0');\n",
              "          const dataTable =\n",
              "            await google.colab.kernel.invokeFunction('convertToInteractive',\n",
              "                                                     [key], {});\n",
              "          if (!dataTable) return;\n",
              "\n",
              "          const docLinkHtml = 'Like what you see? Visit the ' +\n",
              "            '<a target=\"_blank\" href=https://colab.research.google.com/notebooks/data_table.ipynb>data table notebook</a>'\n",
              "            + ' to learn more about interactive tables.';\n",
              "          element.innerHTML = '';\n",
              "          dataTable['output_type'] = 'display_data';\n",
              "          await google.colab.output.renderOutput(dataTable, element);\n",
              "          const docLink = document.createElement('div');\n",
              "          docLink.innerHTML = docLinkHtml;\n",
              "          element.appendChild(docLink);\n",
              "        }\n",
              "      </script>\n",
              "    </div>\n",
              "  </div>\n",
              "  "
            ]
          },
          "metadata": {},
          "execution_count": 82
        }
      ]
    },
    {
      "cell_type": "code",
      "source": [
        "# df_itawon.groupby( ['년도', '월'] )['총승객수'].sum()\n",
        "df_itawon_grouped = df_itawon.groupby(['년도', '월'])['총승객수'].sum().reset_index()\n",
        "\n",
        "# 막대그래프 그리기\n",
        "sns.barplot(x='월', y='총승객수',hue = '년도', data=df_itawon_grouped)\n",
        "plt.title('이태원 월별 승객수 추이')\n",
        "plt.xticks(rotation = 90)\n",
        "plt.ticklabel_format(style='plain', axis='y')\n",
        "plt.ylim(300000)\n",
        "plt.show()"
      ],
      "metadata": {
        "colab": {
          "base_uri": "https://localhost:8080/",
          "height": 473
        },
        "id": "K6GJ38tGUSVX",
        "outputId": "a6676455-4bd7-412d-b5b6-61949bab7f49"
      },
      "execution_count": 94,
      "outputs": [
        {
          "output_type": "display_data",
          "data": {
            "text/plain": [
              "<Figure size 640x480 with 1 Axes>"
            ],
            "image/png": "[encoded data removed]"
          },
          "metadata": {}
        }
      ]
    },
    {
      "cell_type": "code",
      "source": [
        "df_itawon_grouped = df_itawon_grouped.iloc[9:,:]"
      ],
      "metadata": {
        "id": "Zh_yXr1rYBv2"
      },
      "execution_count": 102,
      "outputs": []
    },
    {
      "cell_type": "code",
      "source": [
        "600627.0/1048657.0"
      ],
      "metadata": {
        "colab": {
          "base_uri": "https://localhost:8080/"
        },
        "id": "pNBGkbY1XCmH",
        "outputId": "66744378-908a-421a-ac03-c2ed408b07a6"
      },
      "execution_count": 96,
      "outputs": [
        {
          "output_type": "execute_result",
          "data": {
            "text/plain": [
              "0.5727582994248834"
            ]
          },
          "metadata": {},
          "execution_count": 96
        }
      ]
    },
    {
      "cell_type": "code",
      "source": [
        "news_i = pd.read_csv('/content/drive/MyDrive/Colab Notebooks/data/1차프로젝트_태안_뉴스/month_Itaewon.csv')"
      ],
      "metadata": {
        "id": "E1SUkuZqYFuu"
      },
      "execution_count": 98,
      "outputs": []
    },
    {
      "cell_type": "code",
      "source": [
        "news_i.columns = ['년도', '월', '뉴스개수']"
      ],
      "metadata": {
        "id": "b6zA66RiZ5bM"
      },
      "execution_count": 100,
      "outputs": []
    },
    {
      "cell_type": "code",
      "source": [
        "news_i"
      ],
      "metadata": {
        "colab": {
          "base_uri": "https://localhost:8080/",
          "height": 269
        },
        "id": "ndukpoH6Z8Nf",
        "outputId": "9ce5ef13-df63-4ad3-a414-6b1708bb460a"
      },
      "execution_count": 101,
      "outputs": [
        {
          "output_type": "execute_result",
          "data": {
            "text/plain": [
              "     년도   월  뉴스개수\n",
              "0  2022  10  3385\n",
              "1  2022  11  2890\n",
              "2  2022  12  2716\n",
              "3  2023   1  2625\n",
              "4  2023   2  2356\n",
              "5  2023   3  1851\n",
              "6  2023   4  1698"
            ],
            "text/html": [
              "\n",
              "  <div id=\"df-67c3700f-2594-437b-a0e8-14ef34c05d02\">\n",
              "    <div class=\"colab-df-container\">\n",
              "      <div>\n",
              "<style scoped>\n",
              "    .dataframe tbody tr th:only-of-type {\n",
              "        vertical-align: middle;\n",
              "    }\n",
              "\n",
              "    .dataframe tbody tr th {\n",
              "        vertical-align: top;\n",
              "    }\n",
              "\n",
              "    .dataframe thead th {\n",
              "        text-align: right;\n",
              "    }\n",
              "</style>\n",
              "<table border=\"1\" class=\"dataframe\">\n",
              "  <thead>\n",
              "    <tr style=\"text-align: right;\">\n",
              "      <th></th>\n",
              "      <th>년도</th>\n",
              "      <th>월</th>\n",
              "      <th>뉴스개수</th>\n",
              "    </tr>\n",
              "  </thead>\n",
              "  <tbody>\n",
              "    <tr>\n",
              "      <th>0</th>\n",
              "      <td>2022</td>\n",
              "      <td>10</td>\n",
              "      <td>3385</td>\n",
              "    </tr>\n",
              "    <tr>\n",
              "      <th>1</th>\n",
              "      <td>2022</td>\n",
              "      <td>11</td>\n",
              "      <td>2890</td>\n",
              "    </tr>\n",
              "    <tr>\n",
              "      <th>2</th>\n",
              "      <td>2022</td>\n",
              "      <td>12</td>\n",
              "      <td>2716</td>\n",
              "    </tr>\n",
              "    <tr>\n",
              "      <th>3</th>\n",
              "      <td>2023</td>\n",
              "      <td>1</td>\n",
              "      <td>2625</td>\n",
              "    </tr>\n",
              "    <tr>\n",
              "      <th>4</th>\n",
              "      <td>2023</td>\n",
              "      <td>2</td>\n",
              "      <td>2356</td>\n",
              "    </tr>\n",
              "    <tr>\n",
              "      <th>5</th>\n",
              "      <td>2023</td>\n",
              "      <td>3</td>\n",
              "      <td>1851</td>\n",
              "    </tr>\n",
              "    <tr>\n",
              "      <th>6</th>\n",
              "      <td>2023</td>\n",
              "      <td>4</td>\n",
              "      <td>1698</td>\n",
              "    </tr>\n",
              "  </tbody>\n",
              "</table>\n",
              "</div>\n",
              "      <button class=\"colab-df-convert\" onclick=\"convertToInteractive('df-67c3700f-2594-437b-a0e8-14ef34c05d02')\"\n",
              "              title=\"Convert this dataframe to an interactive table.\"\n",
              "              style=\"display:none;\">\n",
              "        \n",
              "  <svg xmlns=\"http://www.w3.org/2000/svg\" height=\"24px\"viewBox=\"0 0 24 24\"\n",
              "       width=\"24px\">\n",
              "    <path d=\"M0 0h24v24H0V0z\" fill=\"none\"/>\n",
              "    <path d=\"M18.56 5.44l.94 2.06.94-2.06 2.06-.94-2.06-.94-.94-2.06-.94 2.06-2.06.94zm-11 1L8.5 8.5l.94-2.06 2.06-.94-2.06-.94L8.5 2.5l-.94 2.06-2.06.94zm10 10l.94 2.06.94-2.06 2.06-.94-2.06-.94-.94-2.06-.94 2.06-2.06.94z\"/><path d=\"M17.41 7.96l-1.37-1.37c-.4-.4-.92-.59-1.43-.59-.52 0-1.04.2-1.43.59L10.3 9.45l-7.72 7.72c-.78.78-.78 2.05 0 2.83L4 21.41c.39.39.9.59 1.41.59.51 0 1.02-.2 1.41-.59l7.78-7.78 2.81-2.81c.8-.78.8-2.07 0-2.86zM5.41 20L4 18.59l7.72-7.72 1.47 1.35L5.41 20z\"/>\n",
              "  </svg>\n",
              "      </button>\n",
              "      \n",
              "  <style>\n",
              "    .colab-df-container {\n",
              "      display:flex;\n",
              "      flex-wrap:wrap;\n",
              "      gap: 12px;\n",
              "    }\n",
              "\n",
              "    .colab-df-convert {\n",
              "      background-color: #E8F0FE;\n",
              "      border: none;\n",
              "      border-radius: 50%;\n",
              "      cursor: pointer;\n",
              "      display: none;\n",
              "      fill: #1967D2;\n",
              "      height: 32px;\n",
              "      padding: 0 0 0 0;\n",
              "      width: 32px;\n",
              "    }\n",
              "\n",
              "    .colab-df-convert:hover {\n",
              "      background-color: #E2EBFA;\n",
              "      box-shadow: 0px 1px 2px rgba(60, 64, 67, 0.3), 0px 1px 3px 1px rgba(60, 64, 67, 0.15);\n",
              "      fill: #174EA6;\n",
              "    }\n",
              "\n",
              "    [theme=dark] .colab-df-convert {\n",
              "      background-color: #3B4455;\n",
              "      fill: #D2E3FC;\n",
              "    }\n",
              "\n",
              "    [theme=dark] .colab-df-convert:hover {\n",
              "      background-color: #434B5C;\n",
              "      box-shadow: 0px 1px 3px 1px rgba(0, 0, 0, 0.15);\n",
              "      filter: drop-shadow(0px 1px 2px rgba(0, 0, 0, 0.3));\n",
              "      fill: #FFFFFF;\n",
              "    }\n",
              "  </style>\n",
              "\n",
              "      <script>\n",
              "        const buttonEl =\n",
              "          document.querySelector('#df-67c3700f-2594-437b-a0e8-14ef34c05d02 button.colab-df-convert');\n",
              "        buttonEl.style.display =\n",
              "          google.colab.kernel.accessAllowed ? 'block' : 'none';\n",
              "\n",
              "        async function convertToInteractive(key) {\n",
              "          const element = document.querySelector('#df-67c3700f-2594-437b-a0e8-14ef34c05d02');\n",
              "          const dataTable =\n",
              "            await google.colab.kernel.invokeFunction('convertToInteractive',\n",
              "                                                     [key], {});\n",
              "          if (!dataTable) return;\n",
              "\n",
              "          const docLinkHtml = 'Like what you see? Visit the ' +\n",
              "            '<a target=\"_blank\" href=https://colab.research.google.com/notebooks/data_table.ipynb>data table notebook</a>'\n",
              "            + ' to learn more about interactive tables.';\n",
              "          element.innerHTML = '';\n",
              "          dataTable['output_type'] = 'display_data';\n",
              "          await google.colab.output.renderOutput(dataTable, element);\n",
              "          const docLink = document.createElement('div');\n",
              "          docLink.innerHTML = docLinkHtml;\n",
              "          element.appendChild(docLink);\n",
              "        }\n",
              "      </script>\n",
              "    </div>\n",
              "  </div>\n",
              "  "
            ]
          },
          "metadata": {},
          "execution_count": 101
        }
      ]
    },
    {
      "cell_type": "code",
      "source": [
        "df_itawon_grouped"
      ],
      "metadata": {
        "colab": {
          "base_uri": "https://localhost:8080/",
          "height": 238
        },
        "id": "__LrBlFnank2",
        "outputId": "d074f894-53bf-49af-a333-f18644756900"
      },
      "execution_count": 103,
      "outputs": [
        {
          "output_type": "execute_result",
          "data": {
            "text/plain": [
              "      년도   월       총승객수\n",
              "9   2022  10  1048657.0\n",
              "10  2022  11   600627.0\n",
              "11  2022  12   642320.0\n",
              "12  2023   1   569339.0\n",
              "13  2023   2   592981.0\n",
              "14  2023   3   731831.0"
            ],
            "text/html": [
              "\n",
              "  <div id=\"df-329b7afb-fb10-45de-b3de-e2c9cd64da43\">\n",
              "    <div class=\"colab-df-container\">\n",
              "      <div>\n",
              "<style scoped>\n",
              "    .dataframe tbody tr th:only-of-type {\n",
              "        vertical-align: middle;\n",
              "    }\n",
              "\n",
              "    .dataframe tbody tr th {\n",
              "        vertical-align: top;\n",
              "    }\n",
              "\n",
              "    .dataframe thead th {\n",
              "        text-align: right;\n",
              "    }\n",
              "</style>\n",
              "<table border=\"1\" class=\"dataframe\">\n",
              "  <thead>\n",
              "    <tr style=\"text-align: right;\">\n",
              "      <th></th>\n",
              "      <th>년도</th>\n",
              "      <th>월</th>\n",
              "      <th>총승객수</th>\n",
              "    </tr>\n",
              "  </thead>\n",
              "  <tbody>\n",
              "    <tr>\n",
              "      <th>9</th>\n",
              "      <td>2022</td>\n",
              "      <td>10</td>\n",
              "      <td>1048657.0</td>\n",
              "    </tr>\n",
              "    <tr>\n",
              "      <th>10</th>\n",
              "      <td>2022</td>\n",
              "      <td>11</td>\n",
              "      <td>600627.0</td>\n",
              "    </tr>\n",
              "    <tr>\n",
              "      <th>11</th>\n",
              "      <td>2022</td>\n",
              "      <td>12</td>\n",
              "      <td>642320.0</td>\n",
              "    </tr>\n",
              "    <tr>\n",
              "      <th>12</th>\n",
              "      <td>2023</td>\n",
              "      <td>1</td>\n",
              "      <td>569339.0</td>\n",
              "    </tr>\n",
              "    <tr>\n",
              "      <th>13</th>\n",
              "      <td>2023</td>\n",
              "      <td>2</td>\n",
              "      <td>592981.0</td>\n",
              "    </tr>\n",
              "    <tr>\n",
              "      <th>14</th>\n",
              "      <td>2023</td>\n",
              "      <td>3</td>\n",
              "      <td>731831.0</td>\n",
              "    </tr>\n",
              "  </tbody>\n",
              "</table>\n",
              "</div>\n",
              "      <button class=\"colab-df-convert\" onclick=\"convertToInteractive('df-329b7afb-fb10-45de-b3de-e2c9cd64da43')\"\n",
              "              title=\"Convert this dataframe to an interactive table.\"\n",
              "              style=\"display:none;\">\n",
              "        \n",
              "  <svg xmlns=\"http://www.w3.org/2000/svg\" height=\"24px\"viewBox=\"0 0 24 24\"\n",
              "       width=\"24px\">\n",
              "    <path d=\"M0 0h24v24H0V0z\" fill=\"none\"/>\n",
              "    <path d=\"M18.56 5.44l.94 2.06.94-2.06 2.06-.94-2.06-.94-.94-2.06-.94 2.06-2.06.94zm-11 1L8.5 8.5l.94-2.06 2.06-.94-2.06-.94L8.5 2.5l-.94 2.06-2.06.94zm10 10l.94 2.06.94-2.06 2.06-.94-2.06-.94-.94-2.06-.94 2.06-2.06.94z\"/><path d=\"M17.41 7.96l-1.37-1.37c-.4-.4-.92-.59-1.43-.59-.52 0-1.04.2-1.43.59L10.3 9.45l-7.72 7.72c-.78.78-.78 2.05 0 2.83L4 21.41c.39.39.9.59 1.41.59.51 0 1.02-.2 1.41-.59l7.78-7.78 2.81-2.81c.8-.78.8-2.07 0-2.86zM5.41 20L4 18.59l7.72-7.72 1.47 1.35L5.41 20z\"/>\n",
              "  </svg>\n",
              "      </button>\n",
              "      \n",
              "  <style>\n",
              "    .colab-df-container {\n",
              "      display:flex;\n",
              "      flex-wrap:wrap;\n",
              "      gap: 12px;\n",
              "    }\n",
              "\n",
              "    .colab-df-convert {\n",
              "      background-color: #E8F0FE;\n",
              "      border: none;\n",
              "      border-radius: 50%;\n",
              "      cursor: pointer;\n",
              "      display: none;\n",
              "      fill: #1967D2;\n",
              "      height: 32px;\n",
              "      padding: 0 0 0 0;\n",
              "      width: 32px;\n",
              "    }\n",
              "\n",
              "    .colab-df-convert:hover {\n",
              "      background-color: #E2EBFA;\n",
              "      box-shadow: 0px 1px 2px rgba(60, 64, 67, 0.3), 0px 1px 3px 1px rgba(60, 64, 67, 0.15);\n",
              "      fill: #174EA6;\n",
              "    }\n",
              "\n",
              "    [theme=dark] .colab-df-convert {\n",
              "      background-color: #3B4455;\n",
              "      fill: #D2E3FC;\n",
              "    }\n",
              "\n",
              "    [theme=dark] .colab-df-convert:hover {\n",
              "      background-color: #434B5C;\n",
              "      box-shadow: 0px 1px 3px 1px rgba(0, 0, 0, 0.15);\n",
              "      filter: drop-shadow(0px 1px 2px rgba(0, 0, 0, 0.3));\n",
              "      fill: #FFFFFF;\n",
              "    }\n",
              "  </style>\n",
              "\n",
              "      <script>\n",
              "        const buttonEl =\n",
              "          document.querySelector('#df-329b7afb-fb10-45de-b3de-e2c9cd64da43 button.colab-df-convert');\n",
              "        buttonEl.style.display =\n",
              "          google.colab.kernel.accessAllowed ? 'block' : 'none';\n",
              "\n",
              "        async function convertToInteractive(key) {\n",
              "          const element = document.querySelector('#df-329b7afb-fb10-45de-b3de-e2c9cd64da43');\n",
              "          const dataTable =\n",
              "            await google.colab.kernel.invokeFunction('convertToInteractive',\n",
              "                                                     [key], {});\n",
              "          if (!dataTable) return;\n",
              "\n",
              "          const docLinkHtml = 'Like what you see? Visit the ' +\n",
              "            '<a target=\"_blank\" href=https://colab.research.google.com/notebooks/data_table.ipynb>data table notebook</a>'\n",
              "            + ' to learn more about interactive tables.';\n",
              "          element.innerHTML = '';\n",
              "          dataTable['output_type'] = 'display_data';\n",
              "          await google.colab.output.renderOutput(dataTable, element);\n",
              "          const docLink = document.createElement('div');\n",
              "          docLink.innerHTML = docLinkHtml;\n",
              "          element.appendChild(docLink);\n",
              "        }\n",
              "      </script>\n",
              "    </div>\n",
              "  </div>\n",
              "  "
            ]
          },
          "metadata": {},
          "execution_count": 103
        }
      ]
    },
    {
      "cell_type": "code",
      "source": [
        "df_merged\n"
      ],
      "metadata": {
        "colab": {
          "base_uri": "https://localhost:8080/",
          "height": 238
        },
        "id": "2Db39zHtbHIG",
        "outputId": "af4ae042-59c1-441b-d561-d11e88aa1afb"
      },
      "execution_count": 109,
      "outputs": [
        {
          "output_type": "execute_result",
          "data": {
            "text/plain": [
              "   년도_x   월  뉴스개수  년도_y       총승객수\n",
              "0  2022  10  3385  2022  1048657.0\n",
              "1  2022  11  2890  2022   600627.0\n",
              "2  2022  12  2716  2022   642320.0\n",
              "3  2023   1  2625  2023   569339.0\n",
              "4  2023   2  2356  2023   592981.0\n",
              "5  2023   3  1851  2023   731831.0"
            ],
            "text/html": [
              "\n",
              "  <div id=\"df-033032a5-458b-468f-82a9-87296faef16a\">\n",
              "    <div class=\"colab-df-container\">\n",
              "      <div>\n",
              "<style scoped>\n",
              "    .dataframe tbody tr th:only-of-type {\n",
              "        vertical-align: middle;\n",
              "    }\n",
              "\n",
              "    .dataframe tbody tr th {\n",
              "        vertical-align: top;\n",
              "    }\n",
              "\n",
              "    .dataframe thead th {\n",
              "        text-align: right;\n",
              "    }\n",
              "</style>\n",
              "<table border=\"1\" class=\"dataframe\">\n",
              "  <thead>\n",
              "    <tr style=\"text-align: right;\">\n",
              "      <th></th>\n",
              "      <th>년도_x</th>\n",
              "      <th>월</th>\n",
              "      <th>뉴스개수</th>\n",
              "      <th>년도_y</th>\n",
              "      <th>총승객수</th>\n",
              "    </tr>\n",
              "  </thead>\n",
              "  <tbody>\n",
              "    <tr>\n",
              "      <th>0</th>\n",
              "      <td>2022</td>\n",
              "      <td>10</td>\n",
              "      <td>3385</td>\n",
              "      <td>2022</td>\n",
              "      <td>1048657.0</td>\n",
              "    </tr>\n",
              "    <tr>\n",
              "      <th>1</th>\n",
              "      <td>2022</td>\n",
              "      <td>11</td>\n",
              "      <td>2890</td>\n",
              "      <td>2022</td>\n",
              "      <td>600627.0</td>\n",
              "    </tr>\n",
              "    <tr>\n",
              "      <th>2</th>\n",
              "      <td>2022</td>\n",
              "      <td>12</td>\n",
              "      <td>2716</td>\n",
              "      <td>2022</td>\n",
              "      <td>642320.0</td>\n",
              "    </tr>\n",
              "    <tr>\n",
              "      <th>3</th>\n",
              "      <td>2023</td>\n",
              "      <td>1</td>\n",
              "      <td>2625</td>\n",
              "      <td>2023</td>\n",
              "      <td>569339.0</td>\n",
              "    </tr>\n",
              "    <tr>\n",
              "      <th>4</th>\n",
              "      <td>2023</td>\n",
              "      <td>2</td>\n",
              "      <td>2356</td>\n",
              "      <td>2023</td>\n",
              "      <td>592981.0</td>\n",
              "    </tr>\n",
              "    <tr>\n",
              "      <th>5</th>\n",
              "      <td>2023</td>\n",
              "      <td>3</td>\n",
              "      <td>1851</td>\n",
              "      <td>2023</td>\n",
              "      <td>731831.0</td>\n",
              "    </tr>\n",
              "  </tbody>\n",
              "</table>\n",
              "</div>\n",
              "      <button class=\"colab-df-convert\" onclick=\"convertToInteractive('df-033032a5-458b-468f-82a9-87296faef16a')\"\n",
              "              title=\"Convert this dataframe to an interactive table.\"\n",
              "              style=\"display:none;\">\n",
              "        \n",
              "  <svg xmlns=\"http://www.w3.org/2000/svg\" height=\"24px\"viewBox=\"0 0 24 24\"\n",
              "       width=\"24px\">\n",
              "    <path d=\"M0 0h24v24H0V0z\" fill=\"none\"/>\n",
              "    <path d=\"M18.56 5.44l.94 2.06.94-2.06 2.06-.94-2.06-.94-.94-2.06-.94 2.06-2.06.94zm-11 1L8.5 8.5l.94-2.06 2.06-.94-2.06-.94L8.5 2.5l-.94 2.06-2.06.94zm10 10l.94 2.06.94-2.06 2.06-.94-2.06-.94-.94-2.06-.94 2.06-2.06.94z\"/><path d=\"M17.41 7.96l-1.37-1.37c-.4-.4-.92-.59-1.43-.59-.52 0-1.04.2-1.43.59L10.3 9.45l-7.72 7.72c-.78.78-.78 2.05 0 2.83L4 21.41c.39.39.9.59 1.41.59.51 0 1.02-.2 1.41-.59l7.78-7.78 2.81-2.81c.8-.78.8-2.07 0-2.86zM5.41 20L4 18.59l7.72-7.72 1.47 1.35L5.41 20z\"/>\n",
              "  </svg>\n",
              "      </button>\n",
              "      \n",
              "  <style>\n",
              "    .colab-df-container {\n",
              "      display:flex;\n",
              "      flex-wrap:wrap;\n",
              "      gap: 12px;\n",
              "    }\n",
              "\n",
              "    .colab-df-convert {\n",
              "      background-color: #E8F0FE;\n",
              "      border: none;\n",
              "      border-radius: 50%;\n",
              "      cursor: pointer;\n",
              "      display: none;\n",
              "      fill: #1967D2;\n",
              "      height: 32px;\n",
              "      padding: 0 0 0 0;\n",
              "      width: 32px;\n",
              "    }\n",
              "\n",
              "    .colab-df-convert:hover {\n",
              "      background-color: #E2EBFA;\n",
              "      box-shadow: 0px 1px 2px rgba(60, 64, 67, 0.3), 0px 1px 3px 1px rgba(60, 64, 67, 0.15);\n",
              "      fill: #174EA6;\n",
              "    }\n",
              "\n",
              "    [theme=dark] .colab-df-convert {\n",
              "      background-color: #3B4455;\n",
              "      fill: #D2E3FC;\n",
              "    }\n",
              "\n",
              "    [theme=dark] .colab-df-convert:hover {\n",
              "      background-color: #434B5C;\n",
              "      box-shadow: 0px 1px 3px 1px rgba(0, 0, 0, 0.15);\n",
              "      filter: drop-shadow(0px 1px 2px rgba(0, 0, 0, 0.3));\n",
              "      fill: #FFFFFF;\n",
              "    }\n",
              "  </style>\n",
              "\n",
              "      <script>\n",
              "        const buttonEl =\n",
              "          document.querySelector('#df-033032a5-458b-468f-82a9-87296faef16a button.colab-df-convert');\n",
              "        buttonEl.style.display =\n",
              "          google.colab.kernel.accessAllowed ? 'block' : 'none';\n",
              "\n",
              "        async function convertToInteractive(key) {\n",
              "          const element = document.querySelector('#df-033032a5-458b-468f-82a9-87296faef16a');\n",
              "          const dataTable =\n",
              "            await google.colab.kernel.invokeFunction('convertToInteractive',\n",
              "                                                     [key], {});\n",
              "          if (!dataTable) return;\n",
              "\n",
              "          const docLinkHtml = 'Like what you see? Visit the ' +\n",
              "            '<a target=\"_blank\" href=https://colab.research.google.com/notebooks/data_table.ipynb>data table notebook</a>'\n",
              "            + ' to learn more about interactive tables.';\n",
              "          element.innerHTML = '';\n",
              "          dataTable['output_type'] = 'display_data';\n",
              "          await google.colab.output.renderOutput(dataTable, element);\n",
              "          const docLink = document.createElement('div');\n",
              "          docLink.innerHTML = docLinkHtml;\n",
              "          element.appendChild(docLink);\n",
              "        }\n",
              "      </script>\n",
              "    </div>\n",
              "  </div>\n",
              "  "
            ]
          },
          "metadata": {},
          "execution_count": 109
        }
      ]
    },
    {
      "cell_type": "code",
      "source": [
        "import pandas as pd\n",
        "\n",
        "# df_manripo\n",
        "# 두 데이터프레임을 합침\n",
        "df_merged = news_i.merge(df_itawon_grouped, on='월')\n",
        "\n",
        "# 상관계수 행렬 계산\n",
        "corr_matrix = df_merged.corr()\n",
        "print(corr_matrix)\n"
      ],
      "metadata": {
        "colab": {
          "base_uri": "https://localhost:8080/"
        },
        "id": "FIPPgZ0Kaw-R",
        "outputId": "02a92874-362e-4a72-db24-10317bf965ff"
      },
      "execution_count": 111,
      "outputs": [
        {
          "output_type": "stream",
          "name": "stdout",
          "text": [
            "          년도_x         월      뉴스개수      년도_y      총승객수\n",
            "년도_x  1.000000 -0.983935 -0.765241  1.000000 -0.400344\n",
            "월    -0.983935  1.000000  0.641115 -0.983935  0.340207\n",
            "뉴스개수 -0.765241  0.641115  1.000000 -0.765241  0.509227\n",
            "년도_y  1.000000 -0.983935 -0.765241  1.000000 -0.400344\n",
            "총승객수 -0.400344  0.340207  0.509227 -0.400344  1.000000\n"
          ]
        }
      ]
    },
    {
      "cell_type": "code",
      "source": [
        "1. 크롤링\n",
        "\n",
        "\n",
        "# 간략화\n",
        "\n",
        "#크롤링시 필요한 라이브러리 불러오기\n",
        "from bs4 import BeautifulSoup\n",
        "import requests\n",
        "import re\n",
        "import datetime\n",
        "from tqdm import tqdm\n",
        "import sys\n",
        "import time\n",
        "import pandas as pd\n",
        "\n",
        "# 크롤링할 url 생성하는 함수 만들기(검색어, 시작 날짜, 종료 날짜, 최대 페이지)\n",
        "def makeUrl(search, s_date, e_date, maxpage):\n",
        "    s_from = s_date.replace(\".\",\"\")\n",
        "    e_to = e_date.replace(\".\",\"\")\n",
        "    url = [f'''https://search.naver.com/search.naver?where=news\n",
        "                &query={search}&sort=0&ds={s_date}&de={e_date}\n",
        "                &nso=so%3Ar%2Cp%3Afrom{s_from}to{e_to}%2Ca%3A&start={i}''' \n",
        "                for i in range(1, int(maxpage) * 10, 10)]\n",
        "    return url  \n",
        "\n",
        "# html에서 원하는 속성 추출하는 함수 만들기(기사, 추출하려는 속성값)\n",
        "def news_attrs_crawler(articles, attrs):\n",
        "    attrs_content = [i.attrs[attrs] for i in articles]\n",
        "    return attrs_content\n",
        "\n",
        "# ConnectionError방지\n",
        "headers = {\"User-Agent\": \"Mozilla/5.0 (Windows NT 10.0; Win64; x64) Chrome/98.0.4758.102\"}\n",
        "\n",
        "#html 생성해서 기사 크롤링하는 함수 만들기(url): 링크를 반환\n",
        "def articles_crawler(url):\n",
        "    #html 불러오기\n",
        "    original_html = requests.get(i,headers=headers)\n",
        "    html = BeautifulSoup(original_html.text, \"html.parser\")\n",
        "\n",
        "    url_naver = html.select('''div.group_news > ul.list_news > li div.news_area > \n",
        "                               div.news_info > div.info_group > a.info''')\n",
        "    url = news_attrs_crawler(url_naver,'href')\n",
        "    return url\n",
        "\n",
        "\n",
        "#####뉴스 크롤링 시작#####\n",
        "search = input(\"검색어 입력: \")  \n",
        "s_date = input(\"시작 날짜 입력(예시: 2019.01.04): \")  #2019.01.04\n",
        "e_date = input(\"종료 날짜 입력(예시: 2019.01.05): \")   #2019.01.05\n",
        "maxpage = input(\"최대 크롤링할 페이지 수를 입력하세요: \")\n",
        "\n",
        "# naver url 생성\n",
        "url = makeUrl(search, s_date, e_date, maxpage)\n",
        "\n",
        "#뉴스 크롤러 실행\n",
        "news_titles = []\n",
        "news_url =[]\n",
        "news_contents =[]\n",
        "news_dates = []\n",
        "news_names = []\n",
        "for i in url:\n",
        "    url = articles_crawler(url)\n",
        "    news_url.append(url)\n",
        "\n",
        "\n",
        "#제목, 링크, 내용 1차원 리스트로 꺼내는 함수 생성\n",
        "def makeList(newlist, content):\n",
        "    for i in content:\n",
        "        for j in i:\n",
        "            newlist.append(j)\n",
        "    return newlist\n",
        "\n",
        "    \n",
        "#제목, 링크, 내용 담을 리스트 생성\n",
        "news_url_1 = []\n",
        "\n",
        "#1차원 리스트로 만들기(내용 제외)\n",
        "makeList(news_url_1,news_url)\n",
        "\n",
        "#NAVER 뉴스만 남기기\n",
        "final_urls = []\n",
        "for i in tqdm(range(len(news_url_1))):\n",
        "    if \"news.naver.com\" in news_url_1[i]:\n",
        "        final_urls.append(news_url_1[i])\n",
        "    else:\n",
        "        pass\n",
        "\n",
        "\n",
        "# 뉴스 날짜 크롤링\n",
        "for i in tqdm(final_urls):\n",
        "    #각 기사 html get하기\n",
        "    news = requests.get(i,headers=headers)\n",
        "    news_html = BeautifulSoup(news.text,\"html.parser\")\n",
        "\n",
        "    time.sleep(2)\n",
        "\n",
        "    # html 태그 제거 및 텍스트 다듬기\n",
        "    pattern1 = '<[^>]*>' # 태그 제거\n",
        "    pattern2 = r'[\\n\\t<>]|&lt;|&gt;' # 특수 기호 제거\n",
        "\n",
        "# 날짜 가져 오기\n",
        "    try:\n",
        "        html_date = news_html.select_one('''div#ct> div.media_end_head.go_trans > \n",
        "                                            div.media_end_head_info.nv_notrans > \n",
        "                                            div.media_end_head_info_datestamp > \n",
        "                                            div > span''')\n",
        "        news_date = html_date.attrs['data-date-time'][:10]\n",
        "    except AttributeError:\n",
        "        news_date = news_html.select_one('''#content > div.end_ct > div > \n",
        "                                            div.article_info > span > em''')\n",
        "        news_date = re.sub(pattern=pattern1,repl='', string=str(news_date))\n",
        "\n",
        "    # news_dates.append(news_date)\n",
        "    news_dates.append(news_date[:10].replace('.', '-'))\n",
        "\n",
        "\n",
        "###데이터 프레임으로 만들기###\n",
        "\n",
        "# #데이터 프레임 만들기\n",
        "news_df = pd.DataFrame({'date':news_dates, 'link': final_urls})\n",
        "\n",
        "# #중복 행 지우기\n",
        "news_df = news_df.drop_duplicates(keep='first', ignore_index=True)\n",
        "\n",
        "# 데이터 저장\n",
        "news_df.to_csv('./filename.csv')    \n",
        "\n",
        "\n",
        "\n",
        "\n",
        "\n",
        "\n",
        "2. 태안 데이터 코드\n",
        "\n",
        "#---------------------------------------------<크롤링한 csv파일 concat>------------------------------------\n",
        "import pandas as pd\n",
        "from glob import glob\n",
        "import datetime\n",
        "\n",
        "# 파일 경로 - 리스트에 저장\n",
        "df = glob('/content/drive/MyDrive/MyLibrary/Taean/*.csv')\n",
        "\n",
        "# 파일 불러오기\n",
        "df = [pd.read_csv(i) for i in df]\n",
        "\n",
        "# 파일 합치기\n",
        "df = pd.concat(df)\n",
        "\n",
        "# 'Unnamed: 0'컬럼명 제거\n",
        "df = df.drop(['Unnamed: 0','name','title','content'],axis=1)\n",
        "\n",
        "# 중복제거\n",
        "df = df.drop_duplicates()\n",
        "\n",
        "# 파일 저장\n",
        "df.to_csv('/content/drive/MyDrive/MyLibrary/Taean/Taean_Nondate.csv')\n",
        "\n",
        "#-------------------------------------<비어있는 날짜 채우고 시계열로 바꾸기>---------------------------------------------------------------\n",
        "\n",
        "# 저장한 파일 불러오기\n",
        "Taean = pd.read_csv('/content/drive/MyDrive/MyLibrary/Taean/Taean_date.csv')\n",
        "\n",
        "# date를 시계열로 바꾸어 연도별,월별로 컬럼 나누기\n",
        "Taean['year'] = pd.to_datetime(Taean['date'], format='%Y-%m-%d').dt.year\n",
        "Taean['month'] = pd.to_datetime(Taean['date'], format='%Y-%m-%d').dt.month\n",
        "\n",
        "# \"date\",\"link\"컬럼명 제거\n",
        "Taean = Taean.drop([\"date\"],axis=1)\n",
        "\n",
        "# 연도 기준으로 월별로 정렬\n",
        "Taean = Taean.sort_values(['year','month'])\n",
        "\n",
        "# 연도와 월별 기준으로 월별 count\n",
        "Taean = Taean.groupby([\"year\",\"month\"])[\"month\"].count()\n",
        "\n",
        "# 파일 저장\n",
        "Taean.to_csv('/content/drive/MyDrive/MyLibrary/Taean/Taean.csv')\n",
        "\n",
        "#-----------------------------------<연도,월별 나누기-그룹바이 상태에서 파일 저장후 다시 불러옴>---------------------------------------\n",
        "\n",
        "# 저장한 파일 불러오기\n",
        "Taean = pd.read_csv('/content/drive/MyDrive/MyLibrary/Taean/Taean.csv')\n",
        "\n",
        "# 컬럼명 바꾸기 - 'month.1' ->  'total'\n",
        "Taean['total'] = Taean['month.1']\n",
        "\n",
        "# 'month.1' 컬럼명 제거\n",
        "Taean = Taean.drop('month.1',axis=1)\n",
        "\n",
        "# 데이터 값 합치기\n",
        "Taean_0708 = Taean[\"total\"][:10].sum()    # 2007.12 ~ 2008.09\n",
        "Taean_0809 = Taean[\"total\"][10:22].sum()  # 2008.10 ~ 2009.09\n",
        "Taean_0910 = Taean[\"total\"][22:].sum()    # 2009.10 ~ 2010.09\n",
        "\n",
        "# 데이터 프레임 생성\n",
        "Tae = pd.DataFrame({'total':[Taean_0708,Taean_0809,Taean_0910]},\n",
        "                   index = [\"2008\",\"2009\",\"2010\"])\n",
        "\n",
        "# 파일 저장\n",
        "Tae.to_csv('/content/drive/MyDrive/MyLibrary/Taean/Tae.csv')\n",
        "\n",
        "#------------------------------< 그래프 >--------------------------------------------\n",
        "\n",
        "# 한글 설치\n",
        "!sudo apt-get install -y fonts-nanum\n",
        "!sudo fc-cache -fv\n",
        "!rm ~/.cache/matplotlib -rf\n",
        "\n",
        "import matplotlib.pyplot as plt\n",
        "\n",
        "plt.rc('font', family='NanumBarunGothic')\n",
        "Tae.plot.bar()\n",
        "\n",
        "plt.legend(['기사 갯수'])\n",
        "\n",
        "# x축 레이블 설정\n",
        "plt.xlabel('연도')\n",
        "\n",
        "# y축 레이블 설정\n",
        "plt.ylabel('기사 크롤링수')\n",
        "\n",
        "plt.xticks(rotation=360)\n",
        "plt.title( '태안 기름 유출 기사 크롤링')\n",
        "\n",
        "plt.show()\n",
        "\n",
        "\n",
        "\n",
        "\n",
        "3. 이태원 데이터 코드\n",
        "\n",
        "\n",
        "#---------------------------------------------<크롤링한 csv파일 concat>------------------------------------\n",
        "import pandas as pd\n",
        "from glob import glob\n",
        "import datetime\n",
        "\n",
        "# 파일 경로 - 리스트에 저장\n",
        "df = glob('/content/drive/MyDrive/MyLibrary/Itaewon/*.csv')\n",
        "\n",
        "# 파일 불러오기\n",
        "df = [pd.read_csv(i) for i in df]\n",
        "\n",
        "# 파일 합치기\n",
        "df = pd.concat(df)\n",
        "\n",
        "# 'Unnamed: 0'컬럼명 제거\n",
        "df = df.drop(['Unnamed: 0'],axis=1)\n",
        "\n",
        "# 중복제거\n",
        "df = df.drop_duplicates()\n",
        "\n",
        "# 파일 저장\n",
        "df.to_csv('/content/drive/MyDrive/MyLibrary/Taean/Itaewon_Nondate.csv')\n",
        "\n",
        "#-------------------------------------<비어있는 날짜 채우고 시계열로 바꾸기>---------------------------------------------------------------\n",
        "\n",
        "# 저장한 파일 불러오기\n",
        "Itaewon = pd.read_csv('/content/drive/MyDrive/MyLibrary/Itaewon/Itaewon_date.csv')\n",
        "\n",
        "# date를 시계열로 바꾸어 연도별,월별로 컬럼 나누기\n",
        "Itaewon['year'] = pd.to_datetime(Itaewon['date'], format='%Y-%m-%d').dt.year\n",
        "Itaewon['month'] = pd.to_datetime(Itaewon['date'], format='%Y-%m-%d').dt.month\n",
        "\n",
        "# \"date\",\"link\"컬럼명 제거\n",
        "Itaewon = Itaewon.drop([\"date\"],axis=1)\n",
        "\n",
        "# 연도 기준으로 월별로 정렬\n",
        "Itaewon = Itaewon.sort_values(['year','month'])\n",
        "\n",
        "# 연도와 월별 기준으로 월별 count\n",
        "Itaewon = Itaewon.groupby([\"year\",\"month\"])[\"month\"].count()\n",
        "\n",
        "# 파일 저장\n",
        "Itaewon.to_csv('/content/drive/MyDrive/MyLibrary/Itaewon/Itaewon.csv')\n",
        "\n",
        "#-----------------------------------<연도,월별 나누기-그룹바이 상태에서 파일 저장후 다시 불러옴>---------------------------------------\n",
        "\n",
        "# 저장한 파일 불러오기\n",
        "Itaewon = pd.read_csv('/content/drive/MyDrive/MyLibrary/Itaewon/Itaewon.csv')\n",
        "\n",
        "# 컬럼명 바꾸기 - 'month.1' ->  'total'\n",
        "Itaewon['total'] = Itaewon['month.1']\n",
        "\n",
        "# 'month.1' 컬럼명 제거\n",
        "Itaewon = Itaewon.drop('month.1',axis=1)\n",
        "\n",
        "# 데이터 값 합치기\n",
        "Itaewon_2022 = Itaewon.loc[:2].sum()[2]\n",
        "Itaewon_2023 = Itaewon.loc[3:].sum()[2]\n",
        "\n",
        "# 데이터 프레임 생성\n",
        "Itaewon_year = {'2022': [Itaewon_2022], '2023': [Itaewon_2023]}\n",
        "Itaewon_year = pd.DataFrame(Itaewon_year)\n",
        "Itaewon = Itaewon_year.T\n",
        "\n",
        "# 파일 저장\n",
        "Itaewon.to_csv('/content/drive/MyDrive/MyLibrary/Itaewon/Itaewon.csv')\n",
        "\n",
        "#------------------------------< 그래프 >--------------------------------------------\n",
        "\n",
        "# 한글 설치\n",
        "!sudo apt-get install -y fonts-nanum\n",
        "!sudo fc-cache -fv\n",
        "!rm ~/.cache/matplotlib -rf\n",
        "\n",
        "import matplotlib.pyplot as plt\n",
        "\n",
        "plt.rc('font', family='NanumBarunGothic')\n",
        "Tae.plot.bar()\n",
        "\n",
        "plt.legend(['기사 갯수'])\n",
        "\n",
        "# x축 레이블 설정\n",
        "plt.xlabel('연도')\n",
        "\n",
        "# y축 레이블 설정\n",
        "plt.ylabel('기사 크롤링수')\n",
        "\n",
        "plt.xticks(rotation=360)\n",
        "plt.title( '이태원 참사 기사 크롤링')\n",
        "\n",
        "plt.show()\n",
        "\n"
      ],
      "metadata": {
        "id": "WvnXlVVKbA9o"
      },
      "execution_count": null,
      "outputs": []
    }
  ],
  "metadata": {
    "colab": {
      "provenance": []
    },
    "kernelspec": {
      "display_name": "Python 3",
      "name": "python3"
    },
    "language_info": {
      "name": "python"
    }
  },
  "nbformat": 4,
  "nbformat_minor": 0
}