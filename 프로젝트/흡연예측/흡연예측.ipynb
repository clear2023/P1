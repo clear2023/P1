{
  "nbformat": 4,
  "nbformat_minor": 0,
  "metadata": {
    "colab": {
      "provenance": []
    },
    "kernelspec": {
      "name": "python3",
      "display_name": "Python 3"
    },
    "language_info": {
      "name": "python"
    }
  },
  "cells": [
    {
      "cell_type": "code",
      "source": [
        "!pip install autogluon"
      ],
      "metadata": {
        "id": "QP1E3lgo8eWv"
      },
      "execution_count": null,
      "outputs": []
    },
    {
      "cell_type": "code",
      "execution_count": null,
      "metadata": {
        "id": "zsr91qS47Dar"
      },
      "outputs": [],
      "source": [
        "import autogluon as ag\n",
        "from autogluon.tabular import TabularDataset, TabularPredictor\n",
        "import pandas as pd"
      ]
    },
    {
      "cell_type": "code",
      "source": [
        "train = pd.read_csv('/content/train.csv')\n",
        "test = pd.read_csv('/content/test.csv')\n",
        "\n",
        "train = train.iloc[:,1:]\n",
        "test = test.iloc[:,1:]\n",
        "\n",
        "X = train.iloc[:,:-1]\n",
        "y = train['label']"
      ],
      "metadata": {
        "id": "kl-j9BCT7TvV"
      },
      "execution_count": null,
      "outputs": []
    },
    {
      "cell_type": "code",
      "source": [
        "import autogluon as ag\n",
        "from autogluon.tabular import TabularDataset, TabularPredictor\n",
        "import pandas as pd\n",
        "\n",
        "train = pd.read_csv('/content/train.csv')\n",
        "test = pd.read_csv('/content/test.csv')\n",
        "\n",
        "# 데이터셋 로드\n",
        "train_data = train\n",
        "test_data = test\n",
        "\n",
        "# 회귀하려는 타겟 변수 지정\n",
        "label = 'label'\n",
        "\n",
        "# 오토 글루온으로 이진 분류 모델 학습\n",
        "predictor = TabularPredictor(label=label, problem_type='binary')\n",
        "predictor.fit(train_data,presets='best_quality', time_limit=3600*1)\n",
        "\n",
        "# 학습된 모델로 예측 수행\n",
        "y_pred = predictor.predict(test_data)\n",
        "\n",
        "# 결과 저장\n",
        "submission = pd.read_csv('/content/sample_submission.csv')\n",
        "submission['label'] = y_pred\n",
        "submission.to_csv('submission.csv', index=False)"
      ],
      "metadata": {
        "colab": {
          "base_uri": "https://localhost:8080/"
        },
        "id": "juw6acWftsZa",
        "outputId": "03943e19-b079-4a76-9b92-7375890f5dea"
      },
      "execution_count": null,
      "outputs": [
        {
          "output_type": "stream",
          "name": "stderr",
          "text": [
            "No path specified. Models will be saved in: \"AutogluonModels/ag-20230824_064637/\"\n",
            "Presets specified: ['best_quality']\n",
            "Stack configuration (auto_stack=True): num_stack_levels=0, num_bag_folds=8, num_bag_sets=1\n",
            "Beginning AutoGluon training ...\n",
            "AutoGluon will save models to \"AutogluonModels/ag-20230824_064637/\"\n",
            "AutoGluon Version:  0.8.2\n",
            "Python Version:     3.10.12\n",
            "Operating System:   Linux\n",
            "Platform Machine:   x86_64\n",
            "Platform Version:   #1 SMP Fri Jun 9 10:57:30 UTC 2023\n",
            "Disk Space Avail:   81.20 GB / 115.66 GB (70.2%)\n",
            "Train Data Rows:    7000\n",
            "Train Data Columns: 17\n",
            "Label Column: label\n",
            "Preprocessing data ...\n",
            "Selected class <--> label mapping:  class 1 = 1, class 0 = 0\n",
            "Using Feature Generators to preprocess the data ...\n",
            "Fitting AutoMLPipelineFeatureGenerator...\n",
            "\tAvailable Memory:                    11733.53 MB\n",
            "\tTrain Data (Original)  Memory Usage: 1.37 MB (0.0% of available memory)\n",
            "\tInferring data type of each feature based on column values. Set feature_metadata_in to manually specify special dtypes of the features.\n",
            "\tStage 1 Generators:\n",
            "\t\tFitting AsTypeFeatureGenerator...\n",
            "\t\t\tNote: Converting 1 features to boolean dtype as they only contain 2 unique values.\n",
            "\tStage 2 Generators:\n",
            "\t\tFitting FillNaFeatureGenerator...\n",
            "\tStage 3 Generators:\n",
            "\t\tFitting IdentityFeatureGenerator...\n",
            "\t\tFitting CategoryFeatureGenerator...\n",
            "\t\t\tFitting CategoryMemoryMinimizeFeatureGenerator...\n",
            "\tStage 4 Generators:\n",
            "\t\tFitting DropUniqueFeatureGenerator...\n",
            "\tStage 5 Generators:\n",
            "\t\tFitting DropDuplicatesFeatureGenerator...\n",
            "\tUnused Original Features (Count: 1): ['ID']\n",
            "\t\tThese features were not used to generate any of the output features. Add a feature generator compatible with these features to utilize them.\n",
            "\t\tFeatures can also be unused if they carry very little information, such as being categorical but having almost entirely unique values or being duplicates of other features.\n",
            "\t\tThese features do not need to be present at inference time.\n",
            "\t\t('object', []) : 1 | ['ID']\n",
            "\tTypes of features in original data (raw dtype, special dtypes):\n",
            "\t\t('float', []) :  5 | ['BMI', '시력', '혈청 크레아티닌', '헤모글로빈', '간 효소율']\n",
            "\t\t('int', [])   : 11 | ['나이', '키(cm)', '몸무게(kg)', '충치', '공복 혈당', ...]\n",
            "\tTypes of features in processed data (raw dtype, special dtypes):\n",
            "\t\t('float', [])     :  5 | ['BMI', '시력', '혈청 크레아티닌', '헤모글로빈', '간 효소율']\n",
            "\t\t('int', [])       : 10 | ['나이', '키(cm)', '몸무게(kg)', '공복 혈당', '혈압', ...]\n",
            "\t\t('int', ['bool']) :  1 | ['충치']\n",
            "\t0.5s = Fit runtime\n",
            "\t16 features in original data used to generate 16 features in processed data.\n",
            "\tTrain Data (Processed) Memory Usage: 0.85 MB (0.0% of available memory)\n",
            "Data preprocessing and feature engineering runtime = 0.56s ...\n",
            "AutoGluon will gauge predictive performance using evaluation metric: 'accuracy'\n",
            "\tTo change this, specify the eval_metric parameter of Predictor()\n",
            "User-specified model hyperparameters to be fit:\n",
            "{\n",
            "\t'NN_TORCH': {},\n",
            "\t'GBM': [{'extra_trees': True, 'ag_args': {'name_suffix': 'XT'}}, {}, 'GBMLarge'],\n",
            "\t'CAT': {},\n",
            "\t'XGB': {},\n",
            "\t'FASTAI': {},\n",
            "\t'RF': [{'criterion': 'gini', 'ag_args': {'name_suffix': 'Gini', 'problem_types': ['binary', 'multiclass']}}, {'criterion': 'entropy', 'ag_args': {'name_suffix': 'Entr', 'problem_types': ['binary', 'multiclass']}}, {'criterion': 'squared_error', 'ag_args': {'name_suffix': 'MSE', 'problem_types': ['regression', 'quantile']}}],\n",
            "\t'XT': [{'criterion': 'gini', 'ag_args': {'name_suffix': 'Gini', 'problem_types': ['binary', 'multiclass']}}, {'criterion': 'entropy', 'ag_args': {'name_suffix': 'Entr', 'problem_types': ['binary', 'multiclass']}}, {'criterion': 'squared_error', 'ag_args': {'name_suffix': 'MSE', 'problem_types': ['regression', 'quantile']}}],\n",
            "\t'KNN': [{'weights': 'uniform', 'ag_args': {'name_suffix': 'Unif'}}, {'weights': 'distance', 'ag_args': {'name_suffix': 'Dist'}}],\n",
            "}\n",
            "Fitting 13 L1 models ...\n",
            "Fitting model: KNeighborsUnif_BAG_L1 ...\n",
            "\t0.6689\t = Validation score   (accuracy)\n",
            "\t0.04s\t = Training   runtime\n",
            "\t0.49s\t = Validation runtime\n",
            "Fitting model: KNeighborsDist_BAG_L1 ...\n",
            "\t0.6827\t = Validation score   (accuracy)\n",
            "\t0.03s\t = Training   runtime\n",
            "\t0.45s\t = Validation runtime\n",
            "Fitting model: LightGBMXT_BAG_L1 ...\n",
            "\tFitting 8 child models (S1F1 - S1F8) | Fitting with ParallelLocalFoldFittingStrategy\n",
            "\t0.7414\t = Validation score   (accuracy)\n",
            "\t29.29s\t = Training   runtime\n",
            "\t0.27s\t = Validation runtime\n",
            "Fitting model: LightGBM_BAG_L1 ...\n",
            "\tFitting 8 child models (S1F1 - S1F8) | Fitting with ParallelLocalFoldFittingStrategy\n",
            "\t0.7397\t = Validation score   (accuracy)\n",
            "\t32.55s\t = Training   runtime\n",
            "\t0.4s\t = Validation runtime\n",
            "Fitting model: RandomForestGini_BAG_L1 ...\n",
            "\t0.7331\t = Validation score   (accuracy)\n",
            "\t4.56s\t = Training   runtime\n",
            "\t0.47s\t = Validation runtime\n",
            "Fitting model: RandomForestEntr_BAG_L1 ...\n",
            "\t0.7343\t = Validation score   (accuracy)\n",
            "\t7.03s\t = Training   runtime\n",
            "\t0.55s\t = Validation runtime\n",
            "Fitting model: CatBoost_BAG_L1 ...\n",
            "\tFitting 8 child models (S1F1 - S1F8) | Fitting with ParallelLocalFoldFittingStrategy\n",
            "\t0.7427\t = Validation score   (accuracy)\n",
            "\t48.33s\t = Training   runtime\n",
            "\t0.04s\t = Validation runtime\n",
            "Fitting model: ExtraTreesGini_BAG_L1 ...\n",
            "\t0.7314\t = Validation score   (accuracy)\n",
            "\t2.3s\t = Training   runtime\n",
            "\t0.43s\t = Validation runtime\n",
            "Fitting model: ExtraTreesEntr_BAG_L1 ...\n",
            "\t0.7327\t = Validation score   (accuracy)\n",
            "\t1.99s\t = Training   runtime\n",
            "\t0.43s\t = Validation runtime\n",
            "Fitting model: NeuralNetFastAI_BAG_L1 ...\n",
            "\tFitting 8 child models (S1F1 - S1F8) | Fitting with ParallelLocalFoldFittingStrategy\n",
            "\t0.7377\t = Validation score   (accuracy)\n",
            "\t122.24s\t = Training   runtime\n",
            "\t0.43s\t = Validation runtime\n",
            "Fitting model: XGBoost_BAG_L1 ...\n",
            "\tFitting 8 child models (S1F1 - S1F8) | Fitting with ParallelLocalFoldFittingStrategy\n",
            "\t0.7359\t = Validation score   (accuracy)\n",
            "\t25.75s\t = Training   runtime\n",
            "\t0.19s\t = Validation runtime\n",
            "Fitting model: NeuralNetTorch_BAG_L1 ...\n",
            "\tFitting 8 child models (S1F1 - S1F8) | Fitting with ParallelLocalFoldFittingStrategy\n",
            "\t0.7397\t = Validation score   (accuracy)\n",
            "\t155.74s\t = Training   runtime\n",
            "\t0.31s\t = Validation runtime\n",
            "Fitting model: LightGBMLarge_BAG_L1 ...\n",
            "\tFitting 8 child models (S1F1 - S1F8) | Fitting with ParallelLocalFoldFittingStrategy\n",
            "\t0.7397\t = Validation score   (accuracy)\n",
            "\t45.31s\t = Training   runtime\n",
            "\t0.15s\t = Validation runtime\n",
            "Fitting model: WeightedEnsemble_L2 ...\n",
            "\t0.7523\t = Validation score   (accuracy)\n",
            "\t7.51s\t = Training   runtime\n",
            "\t0.03s\t = Validation runtime\n",
            "AutoGluon training complete, total runtime = 545.22s ... Best model: \"WeightedEnsemble_L2\"\n",
            "TabularPredictor saved. To load, use: predictor = TabularPredictor.load(\"AutogluonModels/ag-20230824_064637/\")\n"
          ]
        }
      ]
    },
    {
      "cell_type": "code",
      "source": [
        "import autogluon as ag\n",
        "from autogluon.tabular import TabularDataset, TabularPredictor\n",
        "import pandas as pd\n",
        "\n",
        "train = pd.read_csv('/content/train.csv')\n",
        "test = pd.read_csv('/content/test.csv')\n",
        "\n",
        "\n",
        "\n",
        "# 데이터셋 로드\n",
        "train_data = TabularDataset(train)\n",
        "test_data = TabularDataset(test)\n",
        "\n",
        "# 회귀하려는 타겟 변수 지정\n",
        "label = 'label'\n",
        "\n",
        "# 오토 글루온으로 분류 모델 학습\n",
        "predictor = TabularPredictor(label=label, problem_type='binary', eval_metric='accuracy')\n",
        "predictor.fit(train_data, presets='best')\n",
        "\n",
        "# 학습된 모델로 예측 수행\n",
        "y_pred = predictor.predict(test_data)\n",
        "\n",
        "# 결과 저장\n",
        "submission = pd.read_csv('/content/sample_submission.csv')\n",
        "\n",
        "submission['label'] = y_pred\n",
        "submission.to_csv('submission.csv', index=False)\n"
      ],
      "metadata": {
        "id": "OdANeyEnDna9"
      },
      "execution_count": null,
      "outputs": []
    },
    {
      "cell_type": "code",
      "source": [
        "submission.loc[proba[(proba[0] >= 0.495) & (proba[0] <= 0.5)].index, 'label'] = 0"
      ],
      "metadata": {
        "id": "bd1M9MHRXM5h"
      },
      "execution_count": null,
      "outputs": []
    }
  ]
}